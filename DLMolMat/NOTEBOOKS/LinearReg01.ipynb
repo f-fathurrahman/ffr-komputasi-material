{
  "cells": [
    {
      "cell_type": "raw",
      "metadata": {},
      "source": [
        "---\n",
        "title: Regresi linear sederhana\n",
        "lang: id\n",
        "language:\n",
        "  id:\n",
        "    crossref-eq-prefix: Persamaan\n",
        "    section-title-abstract: Abstrak\n",
        "---"
      ]
    },
    {
      "cell_type": "markdown",
      "metadata": {},
      "source": [
        "Materi ini diadaptasi dari\n",
        "\n",
        "- Simon Rogers dan Mark Girolami. First Course in Machine Learning (2nd Ed). Bab 1\n",
        "\n",
        "# Regresi linear\n",
        "\n",
        "Kita akan mulai pembahasan kita dengan meninjau kembali permasalahan\n",
        "regresi linear."
      ]
    },
    {
      "cell_type": "code",
      "metadata": {},
      "source": [
        "import numpy as np\n",
        "import matplotlib.pyplot as plt\n",
        "import matplotlib"
      ],
      "execution_count": null,
      "outputs": []
    },
    {
      "cell_type": "markdown",
      "metadata": {},
      "source": [
        "Bagian ini opsional (untuk membuat agar format default dari Matplotlib adalah SVG)"
      ]
    },
    {
      "cell_type": "code",
      "metadata": {},
      "source": [
        "import matplotlib_inline\n",
        "matplotlib_inline.backend_inline.set_matplotlib_formats(\"svg\")"
      ],
      "execution_count": null,
      "outputs": []
    },
    {
      "cell_type": "markdown",
      "metadata": {},
      "source": [
        "Bagian ini juga opsional:"
      ]
    },
    {
      "cell_type": "code",
      "metadata": {},
      "source": [
        "#matplotlib.style.use(\"ggplot\")\n",
        "matplotlib.style.use(\"dark_background\")\n",
        "matplotlib.rcParams.update({\n",
        "    \"axes.grid\" : True,\n",
        "    \"grid.color\": \"gray\",\n",
        "    \"grid.linestyle\": \"--\"\n",
        "})"
      ],
      "execution_count": null,
      "outputs": []
    },
    {
      "cell_type": "markdown",
      "metadata": {},
      "source": [
        "Misalkan kita telah mengetahui bahwa data kita berasal dari fungsi\n",
        "berikut:\n",
        "$$\n",
        "f(x) = 2x + 1\n",
        "$$\n",
        "Fungsi ini akan didefinisikan dengan menggunakan kode Python berikut:"
      ]
    },
    {
      "cell_type": "code",
      "metadata": {},
      "source": [
        "def f_true(x):\n",
        "    return 2*x + 1"
      ],
      "execution_count": null,
      "outputs": []
    },
    {
      "cell_type": "code",
      "metadata": {},
      "source": [
        "f_true(1.1)"
      ],
      "execution_count": null,
      "outputs": []
    },
    {
      "cell_type": "markdown",
      "metadata": {},
      "source": [
        "Pada kenyataannya, fungsi ini akan dipengaruhi oleh noise. Kita akan mensimulasikan noise\n",
        "ini dengan bilangan acak yang terdistribusi normal dengan rata-rata 0 dan deviasi\n",
        "standard $\\sigma$ (atau amplitudo `A_noise`).\n",
        "Anda dapat mencoba mengubah-ubah nilai `A_noise` ini.\n",
        "Secara matematis dapat dituliskan sebagai\n",
        "$$\n",
        "\\begin{align}\n",
        "y = f(x) + \\epsilon \\\\\n",
        "\\epsilon \\sim \\mathcal{N}(0,\\sigma)\n",
        "\\end{align}\n",
        "$$\n",
        "\n",
        "\n",
        "Selain itu, kita juga memilih sampel titik-titik $x$ berada pada interval $[-5,5]$ dengan\n",
        "jarak pisah yang seragam. Kita dapat menggunakan fungsi `np.linspace` untuk keperluan ini."
      ]
    },
    {
      "cell_type": "code",
      "metadata": {},
      "source": [
        "xx = np.random.randn(5000)\n",
        "plt.hist(xx, bins=50);"
      ],
      "execution_count": null,
      "outputs": []
    },
    {
      "cell_type": "code",
      "metadata": {},
      "source": [
        "np.random.seed(1234) # nilai awal random generator, useful for reproducibility\n",
        "Npoints = 10\n",
        "x = np.linspace(-5.0, 5.0, Npoints)\n",
        "A_noise = 2.4 # standard deviation or amplitude of noise\n",
        "y = f_true(x) + A_noise*np.random.randn(Npoints)\n",
        "plt.scatter(x, y);\n",
        "plt.grid(True)"
      ],
      "execution_count": null,
      "outputs": []
    },
    {
      "cell_type": "markdown",
      "metadata": {},
      "source": [
        "Berikut adalah \"data\" yang kita miliki:"
      ]
    },
    {
      "cell_type": "code",
      "metadata": {},
      "source": [
        "import pandas as pd\n",
        "pd.DataFrame( list(zip(x, y)) )"
      ],
      "execution_count": null,
      "outputs": []
    },
    {
      "cell_type": "markdown",
      "metadata": {},
      "source": [
        "Misalkan sekarang kita ingin mencocokkan fungsi linear $\\hat{f}(x)$ untuk data ini:\n",
        "$$\n",
        "\\hat{f}(x) = w_0 + w_1 x\n",
        "$$ {#eq-model-linear-01}\n",
        "dengan $w_0$ dan $w_1$ adalah parameter model.\n",
        "\n",
        "Sekarang permasalahan yang dihadapi adalah bagaimana memilih parameter\n",
        "model yang terbaik. Sebelum itu, kita perlu mendefinisikan suatu kuantitas\n",
        "atau metrik atau ukuran yang dapat dijadikan indikator seberapa baik model\n",
        "untuk dataset yang diberikan.\n",
        "Salah satu metrik yang dapat digunakan adalah beda kuadrat antara prediksi\n",
        "model dan data target. Untuk data ke-$n$ dapat dituliskan sebagai berikut.\n",
        "$$\n",
        "\\mathcal{L}_n \\equiv \\left( y_n - f(x_n; w_0, w_1) \\right)^2\n",
        "$$\n",
        "\n",
        "Dengan merata-ratakan kontribusi dari seluruh data, dapat diperoleh\n",
        "$$\n",
        "\\mathcal{L} = \\frac{1}{N} \\sum_{n=1}^{N} \\mathcal{L}_n =\n",
        "\\frac{1}{N} \\sum_{n=1}^{N} \\left( y_n - f(x_n; w_0, w_1) \\right)^2\n",
        "$$ {#eq-loss-function-01}\n",
        "Kuantitas ini dikenal sebagai fungsi rugi atau *loss function*.\n",
        "\n",
        "Perhatikan bahwa fungsi rugi selalu bernilai positif atau sama dengan nol.\n",
        "Jika kuantitas ini bernilai nol maka model yang digunakan dapat memberikan\n",
        "prediksi yang tepat sama dengan data target. Secara praktis hal ini jarang\n",
        "ditemui. Meskipun demikian, kita ingin fungsi rugi bernilai sekecil mungkin\n",
        "sehingga prediksi model tidak jauh berbeda dengan target.\n",
        "Untuk menemukan nilai fungsi rugi yang sekecil mungkin kita dapat melakukan\n",
        "proses yang dikenal sebagai minimisasi atau optimasi fungsi.\n",
        "\n",
        "Secara umu, kita dapat mencari parameter $(w_{0},w_{1})$ dengan menggunakan\n",
        "prosedur minimisasi\n",
        "yang secara matematis dapat dituliskan sebagai berikut.\n",
        "$$\n",
        "\\arg\\min_{w_{0},w_{1}} \\frac{1}{N} \\sum_{n=1}^{N} \\mathcal{L}_{n}\n",
        "$$\n",
        "\n",
        "Untuk kasus khusus fungsi rugi pada Persamaan (@eq-loss-function-01), kita dapat\n",
        "menemukannya secara analitik dengan menggunakan prinsip kalkulus: cari turunan pertama\n",
        "dari  $\\mathcal{L}$ terhadap $w_0$ dan $w_1$, kemudian mencari solusi dari:\n",
        "$$\n",
        "\\begin{align*}\n",
        "\\frac{\\partial\\mathcal{L}}{\\partial w_0} & = 0 \\\\\n",
        "\\frac{\\partial\\mathcal{L}}{\\partial w_1} & = 0\n",
        "\\end{align*}\n",
        "$$\n",
        "Untuk fungsi rugi yang lebih umum, biasanya ekspresi yang dihasilkan tidak mudah\n",
        "untuk diselesaikan secara analitik. Pada kasus ini biasanya digunakan\n",
        "metode numerik seperti metode penurunan gradien (*gradient descent*).\n",
        "\n",
        "Kita mulai dengan menuliskan fungsi rugi (@eq-loss-function-01) sebagai\n",
        "$$\n",
        "\\begin{align*}\n",
        "\\mathcal{L} & = \\frac{1}{N} \\sum_{n=1}^{N} \\left( t_n - (w_0 + w_1 x_{n}) \\right)^2 \\\\\n",
        "& = \\frac{1}{N} \\sum_{n=1}^{N} \\left( w_1^2 x_n^2 + 2w_{1}x_{n}(w_0 - t_n) +\n",
        "w_0^2 - 2w_0 t_n + t_n^2 \\right)\n",
        "\\end{align*}\n",
        "$$\n",
        "\n",
        "Kemudian cari turunan dari $\\mathcal{L}$ terhadap\n",
        "$w_0$, $w_1$ dan menyamakan mereka dengan nol:\n",
        "$$\n",
        "\\begin{align*}\n",
        "\\frac{\\partial\\mathcal{L}}{\\partial w_1} & = 2w_1 \\frac{1}{N} \\left( \\sum_{n=1}^{N} x_n^2 \\right) +\n",
        "\\frac{2}{N} \\left( \\sum_{n=1}^{N} x_{n} (w_0 - t_n) \\right) = 0 \\\\\n",
        "\\frac{\\partial \\mathcal{L}}{\\partial w_0} & = 2w_0 + 2w_1 \\frac{1}{N} \\left( \\sum_{n=1}^{N} x_n \\right) -\n",
        "\\frac{2}{N} \\left( \\sum_{n=1}^{N} t_n \\right) = 0\n",
        "\\end{align*}\n",
        "$$\n",
        "\n",
        "Dengan menyelesaikan persamaan ini diperoleh:\n",
        "$$\n",
        "\\begin{align}\n",
        "\\begin{split}\n",
        "w_{1} & = \\frac{\\overline{xy} - \\overline{x}\\overline{y}}{\\overline{x^2} - \\overline{x}^2} \\\\\n",
        "w_{0} & = \\overline{y} - w_{1} \\overline{x}\n",
        "\\end{split}\n",
        "\\end{align}\n",
        "$$ {#eq-w0-w1-analitik}\n",
        "di mana notasi *overline* digunakan untuk menyatakan nilai rata-rata:\n",
        "$$\n",
        "\\begin{align*}\n",
        "\\overline{x} & = \\frac{1}{N} \\sum_{n=1}^{N} x_{n} \\\\\n",
        "\\overline{y} & = \\frac{1}{N} \\sum_{n=1}^{N} y_{n}\n",
        "\\end{align*}\n",
        "$$\n",
        "\n",
        "Kode Python berikut ini mengimplementasikan perhitungan pada Persamaan (@eq-w0-w1-analitik).\n",
        "Selain itu, kode ini juga menghitung hasil prediksi yang diperoleh dengan model linear\n",
        "pada Persamaan (@eq-model-linear-01) dan membuat plot perbandingan dengan data."
      ]
    },
    {
      "cell_type": "code",
      "metadata": {},
      "source": [
        "ybar = np.mean(y)\n",
        "xbar = np.mean(x)\n",
        "xybar = np.mean(x*y)\n",
        "x2bar = np.mean(x**2)\n",
        "  \n",
        "w1 = (xybar - xbar*ybar)/(x2bar - xbar**2)\n",
        "w0 = ybar - w1*xbar\n",
        "  \n",
        "print(\"Model parameters:\")\n",
        "print(\"w0 = %18.10e\" % w0)\n",
        "print(\"w1 = %18.10e\" % w1)\n",
        "  \n",
        "y_pred = w0 + w1*x # garis lurus\n",
        "  \n",
        "plt.clf()\n",
        "plt.plot(x, y, marker=\"o\", linewidth=0, label=\"data\")\n",
        "plt.plot(x, y_pred, marker=\"x\", label=\"linear-fit\")\n",
        "plt.grid(True)\n",
        "plt.legend()\n",
        "plt.xlabel(\"x\")\n",
        "plt.ylabel(\"y\");"
      ],
      "execution_count": null,
      "outputs": []
    },
    {
      "cell_type": "markdown",
      "metadata": {},
      "source": [
        "Bandingkan hasil dari $w_0$ dan $w_1$ yang sudah diperoleh dengan model yang sebenarnya.\n",
        "Apakah mereka sama persis, cukup berdekatan, atau sangat jauh berbeda?\n",
        "\n",
        "# Notasi vektor dan matriks\n",
        "\n",
        "Pada bagian ini, kita akan menuliskan kembali permasalahan regresi linear\n",
        "pada bagian sebelum dengan menggunakan notasi matriks dan vektor. Notasi ini\n",
        "akan memungkinkan kita untuk menuliskan solusi $w_0$ dan $w_1$ menjadi lebih\n",
        "kompak dan dapat diperumum untuk masalah regresi linear yang lebih luas.\n",
        "\n",
        "Kita mulai dengan mendefinisikan vektor input dan vektor parameter atau\n",
        "bobot sebagai berikut.\n",
        "$$\n",
        "\\mathbf{x}_{n} = \\begin{bmatrix}\n",
        "1 \\\\\n",
        "x_{n}\n",
        "\\end{bmatrix}\n",
        ",\\,\\,\\,%\n",
        "\\mathbf{w} = \\begin{bmatrix}\n",
        "w_{0} \\\\\n",
        "w_{1}\n",
        "\\end{bmatrix}\n",
        "$$\n",
        "\n",
        "Dengan menggunakan definisi ini, model linear pada (@eq-model-linear-01)\n",
        "menjadi\n",
        "$$\n",
        "f(x_n; w_0, w_1) = \\mathbf{w}^{\\mathsf{T}} \\mathbf{x}_{n}\n",
        "\\label{}\n",
        "$$ {#eq-model-linear-02}\n",
        "\n",
        "Ekspresi untuk fungsi rugi, (@eq-loss-function-01),\n",
        "menjadi:\n",
        "$$\n",
        "\\mathcal{L} = \\frac{1}{N} \\sum_{n=1}^{N} \\left( t_{n} - \\mathbf{w}^{\\mathsf{T}}\n",
        "\\mathbf{x}_{n} \\right)^2\n",
        "$$\n",
        "\n",
        "Vektor input dapat disusun menjadi suatu matriks:\n",
        "$$\n",
        "\\mathbf{X} = \\begin{bmatrix}\n",
        "\\mathbf{x}^{\\mathsf{T}}_{1} \\\\\n",
        "\\mathbf{x}^{\\mathsf{T}}_{2} \\\\\n",
        "\\vdots \\\\\n",
        "\\mathbf{x}^{\\mathsf{T}}_{N}\n",
        "\\end{bmatrix} =\n",
        "\\begin{bmatrix}\n",
        "1 & x_{1} \\\\\n",
        "1 & x_{2} \\\\\n",
        "\\vdots & \\vdots \\\\\n",
        "1 & x_{N} \\\\\n",
        "\\end{bmatrix}\n",
        "$$\n",
        "\n",
        "Kita juga dapat mendefinisikan vektor target sebagai\n",
        "$$\n",
        "\\mathbf{y} = \\begin{bmatrix}\n",
        "y_1 \\\\\n",
        "y_2 \\\\\n",
        "\\vdots \\\\\n",
        "y_N\n",
        "\\end{bmatrix}\n",
        "$$\n",
        "\n",
        "Dengan definisi ini, kita dapat menuliskan fungsi rugi menjadi:\n",
        "$$\n",
        "\\mathcal{L} = \\frac{1}{N} \\left( \\mathbf{y} - \\mathbf{Xw} \\right)^{\\mathsf{T}}\n",
        "\\left( \\mathbf{y} - \\mathbf{Xw} \\right)\n",
        "$$\n",
        "Dengan mengalikan suku-suku dalam tanda kurung diperoleh:\n",
        "$$\n",
        "\\begin{align}\n",
        "\\mathcal{L} & = \\frac{1}{N} \\left(\n",
        "\\mathbf{y}^{\\mathsf{T}} \\mathbf{y} +\n",
        "\\left(\\mathbf{Xw}\\right)^{\\mathsf{T}} \\mathbf{Xw} -\n",
        "\\mathbf{y}\\mathbf{Xw} -\n",
        "\\left(\\mathbf{Xw}\\right)^{\\mathsf{T}} \\mathbf{y}\n",
        "\\right) \\\\\n",
        "& = \\frac{1}{N} \\left(\n",
        "\\mathbf{w}^{\\mathsf{T}} \\mathbf{X}^{\\mathsf{T}} \\mathbf{X} \\mathbf{w} -\n",
        "2 \\mathbf{w}^{\\mathsf{T}} \\mathbf{X}^{\\mathsf{T}}\\mathbf{y} +\n",
        "\\mathbf{y}^{\\mathsf{T}} \\mathbf{y}\n",
        "\\right)\n",
        "\\end{align}\n",
        "$$\n",
        "\n",
        "Turunan dari $\\mathcal{L}$ terhadap $\\mathbf{w}$ adalah\n",
        "$$\n",
        "\\frac{\\partial \\mathcal{L}}{\\partial \\mathbf{w}} = \\frac{2}{N}\n",
        "\\mathbf{X}^{\\mathsf{T}} \\mathbf{X} \\mathbf{w} -\n",
        "\\frac{2}{N} \\mathbf{X}^{\\mathsf{T}} \\mathbf{y} = \\mathbf{0}\n",
        "$$\n",
        "\n",
        "Untuk menentukan nilai terbaik dari $\\mathbf{w}$ kita dapat menggunakan\n",
        "prosedur yang sama, yaitu dengan mencari solusi dari\n",
        "$$\n",
        "\\dfrac{\\partial \\mathcal{L}}{\\partial \\mathbf{w}} = \\mathbf{0}\n",
        "$$\n",
        "sehingga diperoleh\n",
        "$$\n",
        "\\mathbf{X}^{\\mathsf{T}} \\mathbf{Xw} = \\mathbf{X}^{\\mathsf{T}}\\mathbf{y} \n",
        "$$\n",
        "Dengan menyelesaikan persamaan ini untuk $\\mathbf{w}$ akhirnya diperoleh\n",
        "$$\n",
        "\\mathbf{w} = \\left(\\mathbf{X}^{\\mathsf{T}}\\mathbf{X} \\right)^{-1} \\mathbf{X}^{\\mathsf{T}} \\mathbf{y}\n",
        "$$ {#eq-w-vektor}\n",
        "\n",
        "Kode Python berikut akan mengimplementasikan Persamaan (@eq-w-vektor) untuk regresi linear.\n",
        "\n",
        "`np.hstack` juga dapat digunakan untuk membangun matrix $\\mathbf{X}$ "
      ]
    },
    {
      "cell_type": "code",
      "metadata": {},
      "source": [
        "Ndata = len(x)\n",
        "# Build the input matrix or design matrix\n",
        "X = np.zeros((Ndata,2))\n",
        "X[:,0] = 1.0\n",
        "X[:,1] = x"
      ],
      "execution_count": null,
      "outputs": []
    },
    {
      "cell_type": "code",
      "metadata": {},
      "source": [
        "X"
      ],
      "execution_count": null,
      "outputs": []
    },
    {
      "cell_type": "code",
      "metadata": {},
      "source": [
        "# Calculate the model parameters\n",
        "XtX = X.T @ X   # @ adalah operator perkalian matriks pada Numpy\n",
        "XtXinv = np.linalg.inv(XtX) # hitung inverse:\n",
        "w = XtXinv @ X.T @ y\n",
        "\n",
        "print(\"Model parameters:\")\n",
        "print(\"w0 = %18.10e\" % w[0])\n",
        "print(\"w1 = %18.10e\" % w[1])\n",
        "  \n",
        "y_pred = X @ w"
      ],
      "execution_count": null,
      "outputs": []
    },
    {
      "cell_type": "markdown",
      "metadata": {},
      "source": [
        "Konfirmasi bahwa solusi $w_0$ dan $w_1$ yang diperoleh sama dengan solusi dari\n",
        "Persamaan (@eq-w0-w1-analitik)."
      ]
    },
    {
      "cell_type": "code",
      "metadata": {},
      "source": [
        "plt.clf()\n",
        "plt.plot(x, y, marker=\"o\", linewidth=0, label=\"data\")\n",
        "plt.plot(x, y_pred, marker=\"x\", label=\"linear-fit\")\n",
        "plt.grid(True)\n",
        "plt.legend()\n",
        "plt.xlabel(\"x\")\n",
        "plt.ylabel(\"y\");"
      ],
      "execution_count": null,
      "outputs": []
    },
    {
      "cell_type": "markdown",
      "metadata": {},
      "source": [
        "# Regresi linear dengan `np.linalg.lstsq`\n",
        "\n",
        "Alternatif, menggunakan fungsi `np.linalg.lstsq`:"
      ]
    },
    {
      "cell_type": "code",
      "metadata": {},
      "source": [
        "X"
      ],
      "execution_count": null,
      "outputs": []
    },
    {
      "cell_type": "code",
      "metadata": {},
      "source": [
        "res = np.linalg.lstsq(X, y, rcond=None)"
      ],
      "execution_count": null,
      "outputs": []
    },
    {
      "cell_type": "code",
      "metadata": {},
      "source": [
        "res"
      ],
      "execution_count": null,
      "outputs": []
    },
    {
      "cell_type": "code",
      "metadata": {},
      "source": [
        "w, *_ = np.linalg.lstsq(X, y, rcond=-1)"
      ],
      "execution_count": null,
      "outputs": []
    },
    {
      "cell_type": "code",
      "metadata": {},
      "source": [
        "w"
      ],
      "execution_count": null,
      "outputs": []
    },
    {
      "cell_type": "markdown",
      "metadata": {},
      "source": [
        "Coba bandingkan hasil yang diperoleh dari `np.linalg.lstsq`\n",
        "dengan hasil dari Persamaan (@eq-w0-w1-analitik). \n",
        "\n",
        "# Regresi linear pada Scikit Learn\n",
        "\n",
        "Kelas `LinearRegression`:\n",
        "\n",
        "```python\n",
        "from sklearn.linear_model import LinearRegression\n",
        "model = LinearRegression()\n",
        "model.fit(x, y)\n",
        "\n",
        "# Evaluate model performance\n",
        "R2_score = model.score(x, y)\n",
        "print(\"R2_score on training data: \", R2_score)\n",
        "\n",
        "# Prediction on training data\n",
        "y_pred = model.predict(x)\n",
        "RMSE = np.sqrt(np.mean((y_pred - y)**2))\n",
        "print(\"RMSE training: \", RMSE)\n",
        "```"
      ]
    },
    {
      "cell_type": "code",
      "metadata": {},
      "source": [
        "X"
      ],
      "execution_count": null,
      "outputs": []
    },
    {
      "cell_type": "code",
      "metadata": {},
      "source": [
        "from sklearn.linear_model import LinearRegression\n",
        "model = LinearRegression()\n",
        "model.fit(X, y);"
      ],
      "execution_count": null,
      "outputs": []
    },
    {
      "cell_type": "code",
      "metadata": {},
      "source": [
        "model.intercept_   # w0"
      ],
      "execution_count": null,
      "outputs": []
    },
    {
      "cell_type": "code",
      "metadata": {},
      "source": [
        "model.coef_  # w1"
      ],
      "execution_count": null,
      "outputs": []
    },
    {
      "cell_type": "markdown",
      "metadata": {},
      "source": [
        "Kita juga bisa menggunakan vektor `x` langsung ketika memanggil `model.fit()`. Tetapi `x` perlu disesuaikan dimensinya atay *shape*-nya."
      ]
    },
    {
      "cell_type": "code",
      "metadata": {},
      "source": [
        "x.shape"
      ],
      "execution_count": null,
      "outputs": []
    },
    {
      "cell_type": "code",
      "metadata": {},
      "source": [
        "xnew = x.reshape(-1,1)"
      ],
      "execution_count": null,
      "outputs": []
    },
    {
      "cell_type": "code",
      "metadata": {},
      "source": [
        "xnew.shape"
      ],
      "execution_count": null,
      "outputs": []
    },
    {
      "cell_type": "code",
      "metadata": {},
      "source": [
        "x"
      ],
      "execution_count": null,
      "outputs": []
    },
    {
      "cell_type": "code",
      "metadata": {},
      "source": [
        "x[:,np.newaxis]"
      ],
      "execution_count": null,
      "outputs": []
    },
    {
      "cell_type": "code",
      "metadata": {},
      "source": [
        "from sklearn.linear_model import LinearRegression\n",
        "model = LinearRegression()\n",
        "model.fit(xnew, y);"
      ],
      "execution_count": null,
      "outputs": []
    },
    {
      "cell_type": "code",
      "metadata": {},
      "source": [
        "from sklearn.linear_model import LinearRegression\n",
        "model = LinearRegression()\n",
        "model.fit(x[:,np.newaxis], y);"
      ],
      "execution_count": null,
      "outputs": []
    },
    {
      "cell_type": "code",
      "metadata": {},
      "source": [
        "model.coef_ # w1"
      ],
      "execution_count": null,
      "outputs": []
    },
    {
      "cell_type": "code",
      "metadata": {},
      "source": [
        "model.intercept_ # w0"
      ],
      "execution_count": null,
      "outputs": []
    },
    {
      "cell_type": "code",
      "metadata": {},
      "source": [
        "from sklearn.linear_model import LinearRegression\n",
        "model = LinearRegression()\n",
        "model.fit(x.reshape(-1,1), y);"
      ],
      "execution_count": null,
      "outputs": []
    },
    {
      "cell_type": "code",
      "metadata": {},
      "source": [
        "x.reshape(-1,1)"
      ],
      "execution_count": null,
      "outputs": []
    },
    {
      "cell_type": "markdown",
      "metadata": {},
      "source": [
        "Untuk membuat prediksi dari data baru atau data latih, kita dapat menggunakan metode `predict`:"
      ]
    },
    {
      "cell_type": "code",
      "metadata": {},
      "source": [
        "model.predict([[-5]])"
      ],
      "execution_count": null,
      "outputs": []
    },
    {
      "cell_type": "code",
      "metadata": {},
      "source": [
        "y[0]"
      ],
      "execution_count": null,
      "outputs": []
    },
    {
      "cell_type": "code",
      "metadata": {},
      "source": [
        "model.predict(x[:,np.newaxis])"
      ],
      "execution_count": null,
      "outputs": []
    },
    {
      "cell_type": "code",
      "metadata": {},
      "source": [
        "y"
      ],
      "execution_count": null,
      "outputs": []
    },
    {
      "cell_type": "markdown",
      "metadata": {},
      "source": [
        "Hitung mean square error:"
      ]
    },
    {
      "cell_type": "code",
      "metadata": {},
      "source": [
        "np.mean( (model.predict(x[:,np.newaxis]) - y)**2 )"
      ],
      "execution_count": null,
      "outputs": []
    },
    {
      "cell_type": "markdown",
      "metadata": {},
      "source": [
        "# Ekstensi untuk model linear lain\n",
        "\n",
        "Bagaimana jika kita ingin menggunakan model yang lain? Misalnya:\n",
        "$$\n",
        "y = w_0 + w_1 x^{(1)} + w_2 x^{(2)}\n",
        "$$\n",
        "atau\n",
        "$$\n",
        "y = w_0 + w_1 x + w_2 x^2 \n",
        "$$\n",
        "\n",
        "Dapat ditunjukkan bahwa Persamaan (@eq-w-vektor) juga dapat digunakan untuk model-model\n",
        "tersebut. Yang diperlukan ada ekstensi dari definisi $\\mathbf{X}$ dan $\\mathbf{w}$\n",
        "\n",
        "Misalnya pada kasus model:\n",
        "$$\n",
        "y = w_0 + w_1 x^{(1)} + w_2 x^{(2)}\n",
        "$$\n",
        "dengan $x^{(1)}$ dan $x^{(2)}$ adalah dua variabel input atau fitur. Definisi dari matriks\n",
        "$\\mathbf{X}$ adalah:\n",
        "$$\n",
        "\\mathbf{X} =\n",
        "\\begin{bmatrix}\n",
        "1 & x^{(1)}_{1} & x^{(2)}_{1} \\\\\n",
        "1 & x^{(1)}_{2} & x^{(2)}_{2} \\\\\n",
        "\\vdots & \\vdots & \\vdots \\\\\n",
        "1 & x^{(1)}_{N} & x^{(2)}_{N}\n",
        "\\end{bmatrix}\n",
        "$$\n",
        "dan vektor $\\mathbf{w}$ sekarang terdiri dari tiga elemen:\n",
        "$$\n",
        "\\mathbf{w} = \\begin{bmatrix}\n",
        "w_{0} \\\\\n",
        "w_{1} \\\\\n",
        "w_{2}\n",
        "\\end{bmatrix}\n",
        "$$\n",
        "Pada kasus ini kita memiliki dua variabel fitur yaitu $x^{(1)}$ dan $x^{(2)}$.\n",
        "\n",
        "Begitu pula untuk kasus model\n",
        "$$\n",
        "y = w_0 + w_1 x + w_2 x^2 \n",
        "$$ {#eq-quadratic-polynom}\n",
        "Permasalah pencocokan data pada persamaan ini sering disebut sebagai regresi kuadrat\n",
        "karena menggunakan persamaan kuadrat. Meskipun demikian, pada literatur pembelajaran\n",
        "mesin, model ini masing tergolong model linear, karena parameternya $w_0$, $w_1$,\n",
        "dan $w_2$ memiliki pangkat satu.\n",
        "\n",
        "Untuk model pada @eq-quadratic-polynom kita dapat mendefinisikan matriks input\n",
        "sebagai:\n",
        "$$\n",
        "\\mathbf{X} =\n",
        "\\begin{bmatrix}\n",
        "1 & x_{1} & x^{2}_{1} \\\\\n",
        "1 & x_{2} & x^{2}_{2} \\\\\n",
        "\\vdots & \\vdots & \\vdots \\\\\n",
        "1 & x_{N} & x^{2}_{N}\n",
        "\\end{bmatrix}\n",
        "$$\n",
        "Perhatikan bahwa kolom ketiga $x^{2}_{i}$ dapat dianggap sebagai \"fitur baru\"\n",
        "atau \"fitur tambahan\"\n",
        "yang dibuat dari \"input\" atau \"fitur awal/asli\".\n",
        "Secara umum, kita dapat membuat fitur-fitur baru dari fitur yang sudah ada\n",
        "yang bisa berupa kombinasi linear ataupun fungsi atau transformasi dari fitur asli.\n",
        "Dalam beberapa kasus, bisa saja model dengan fitur baru dapat memiliki performa\n",
        "yang lebih baik daripada fitur asli.\n",
        "Hal ini merupakan salah satu bentuk dari rekayasa fitur (*feature engineering*).\n",
        "\n",
        "## Tugas (1)\n",
        "\n",
        "Buat data sintetik yang dihasilkan `f_true` dengan model yang lebih\n",
        "kompleks seperti polinomial (plus random noise).\n",
        "\n",
        "- Gunakan Persamaan (@eq-w-vektor) atau `np.linalg.lstsq` atau\n",
        "`LinearRegression` pada `sklearn`. Bandingkan hasil yang Anda peroleh dengan\n",
        "nilai parameter asli pada `f_true`.\n",
        "\n",
        "### Menggunakan lstsq"
      ]
    },
    {
      "cell_type": "code",
      "metadata": {},
      "source": [
        "def f_true(x):\n",
        "    return 3*x**2 + 2*x + 1\n",
        "\n",
        "np.random.seed(1234) # nilai awal random generator, useful for reproducibility\n",
        "Npoints = 10\n",
        "x = np.linspace(-5.0, 5.0, Npoints)\n",
        "A_noise = 5.0 # standard deviation or amplitude of noise\n",
        "y = f_true(x) + A_noise*np.random.randn(Npoints)\n",
        "plt.scatter(x, y);\n",
        "plt.grid(True)"
      ],
      "execution_count": null,
      "outputs": []
    },
    {
      "cell_type": "code",
      "metadata": {},
      "source": [
        "x"
      ],
      "execution_count": null,
      "outputs": []
    },
    {
      "cell_type": "code",
      "metadata": {},
      "source": [
        "Ndata = len(x)\n",
        "X = np.zeros((Ndata,3))\n",
        "X[:,0] = 1.0\n",
        "X[:,1] = x\n",
        "X[:,2] = x**2"
      ],
      "execution_count": null,
      "outputs": []
    },
    {
      "cell_type": "code",
      "metadata": {},
      "source": [
        "X"
      ],
      "execution_count": null,
      "outputs": []
    },
    {
      "cell_type": "code",
      "metadata": {},
      "source": [
        "w, *_ = np.linalg.lstsq(X, y, rcond=-1)\n",
        "w"
      ],
      "execution_count": null,
      "outputs": []
    },
    {
      "cell_type": "code",
      "metadata": {},
      "source": [
        "NptsDense = 100 # jumlah lebih banyak daripada jumlah titik data\n",
        "xdense = np.linspace(-5,5,NptsDense)\n",
        "Xdense = np.zeros((NptsDense,3))\n",
        "Xdense[:,0] = 1\n",
        "Xdense[:,1] = xdense\n",
        "Xdense[:,2] = xdense**2"
      ],
      "execution_count": null,
      "outputs": []
    },
    {
      "cell_type": "code",
      "metadata": {},
      "source": [
        "ydense = Xdense @ w # perkalian matriks"
      ],
      "execution_count": null,
      "outputs": []
    },
    {
      "cell_type": "code",
      "metadata": {},
      "source": [
        "plt.plot(xdense, ydense, color=\"blue\", label=\"model\")\n",
        "plt.scatter(x, y, label=\"data\")\n",
        "plt.legend();"
      ],
      "execution_count": null,
      "outputs": []
    },
    {
      "cell_type": "markdown",
      "metadata": {},
      "source": [
        "### Menggunakan sklearn"
      ]
    },
    {
      "cell_type": "code",
      "metadata": {},
      "source": [
        "def f_true(x):\n",
        "    return 3*x**2 + 2*x + 1\n",
        "\n",
        "np.random.seed(1234) # nilai awal random generator, useful for reproducibility\n",
        "Npoints = 10\n",
        "x = np.linspace(-5.0, 5.0, Npoints)\n",
        "A_noise = 5.0 # standard deviation or amplitude of noise\n",
        "y = f_true(x) + A_noise*np.random.randn(Npoints)\n",
        "plt.scatter(x, y);\n",
        "plt.grid(True)"
      ],
      "execution_count": null,
      "outputs": []
    },
    {
      "cell_type": "code",
      "metadata": {},
      "source": [
        "model = LinearRegression()"
      ],
      "execution_count": null,
      "outputs": []
    },
    {
      "cell_type": "markdown",
      "metadata": {},
      "source": [
        "Catatan: bisa juga menggunakan `PolynomialFeatures`. Di sini kita akan lakukan secara manual."
      ]
    },
    {
      "cell_type": "code",
      "metadata": {},
      "source": [
        "X = np.zeros((Ndata,2))\n",
        "X[:,0] = x\n",
        "X[:,1] = x**2"
      ],
      "execution_count": null,
      "outputs": []
    },
    {
      "cell_type": "code",
      "metadata": {},
      "source": [
        "X"
      ],
      "execution_count": null,
      "outputs": []
    },
    {
      "cell_type": "code",
      "metadata": {},
      "source": [
        "model.fit(X, y);"
      ],
      "execution_count": null,
      "outputs": []
    },
    {
      "cell_type": "code",
      "metadata": {},
      "source": [
        "model.coef_ # w1 dan w3"
      ],
      "execution_count": null,
      "outputs": []
    },
    {
      "cell_type": "code",
      "metadata": {},
      "source": [
        "model.intercept_ # w0"
      ],
      "execution_count": null,
      "outputs": []
    },
    {
      "cell_type": "code",
      "metadata": {},
      "source": [
        "NptsDense = 100\n",
        "xdense = np.linspace(-5,5,NptsDense)\n",
        "Xdense = np.zeros((NptsDense,2))\n",
        "Xdense[:,0] = xdense\n",
        "Xdense[:,1] = xdense**2"
      ],
      "execution_count": null,
      "outputs": []
    },
    {
      "cell_type": "code",
      "metadata": {},
      "source": [
        "ydense = model.predict(Xdense)"
      ],
      "execution_count": null,
      "outputs": []
    },
    {
      "cell_type": "code",
      "metadata": {},
      "source": [
        "plt.plot(xdense, ydense, color=\"magenta\", label=\"model\")\n",
        "plt.scatter(x, y, label=\"data\");"
      ],
      "execution_count": null,
      "outputs": []
    },
    {
      "cell_type": "code",
      "metadata": {},
      "source": [
        "MSE_loss = np.mean( (y - model.predict(X))**2 )\n",
        "print(\"MSE loss = \", MSE_loss)"
      ],
      "execution_count": null,
      "outputs": []
    },
    {
      "cell_type": "code",
      "metadata": {},
      "source": [
        "model.score(X, y)"
      ],
      "execution_count": null,
      "outputs": []
    },
    {
      "cell_type": "markdown",
      "metadata": {},
      "source": [
        "Untuk `sklearn`, kita juga bisa menggunakan `PolynomialFeatures` untuk mendapatkan fitur polinomial.\n",
        "\n",
        "`StandardScaler` juga dapat digunakan untuk melakukan standardisasi fitur.\n",
        "\n",
        "## Tugas (2)\n",
        "\n",
        "Buat data sintetik dengan menggunakan polinomial derajat tiga ditambah\n",
        "dengan random noise. Gunakan data $x$ pada rentang $[-5,5]$, misalnya.\n",
        "Gunakan misalnya 20 titik data.\n",
        "\n",
        "- Lakukan regresi dengan menggunakan model dengen polinomial berderajat\n",
        "  1 sampai 9 dan hitung rugi atau loss pada setiap model dengan menggunakan\n",
        "  (@eq-loss-function-01). Buat plot data vs hasil prediksi dari polinomial\n",
        "  yang digunakan.\n",
        "  \n",
        "- Buat plot dengan sumbu-$x$ adalah derajat polinomial\n",
        "  dan sumbu-$y$ adalah loss yang dihitung. Catatan:\n",
        "  Loss dihitung dengan menggunakan parameter yang paling optimal, yaitu parameter\n",
        "  yang diperoleh dari (@eq-w-vektor).\n",
        "  Pada polinomial derajat berapakah nilai loss yang diperoleh paling kecil?\n",
        "  Apakah polinomial derajat tiga memiliki nilai loss yang paling rendah?\n",
        "\n",
        "# Data latih dan data uji\n",
        "\n",
        "Pada pembelajaran mesin kita biasanya lebih tertarik pada prediksi model untuk\n",
        "data di luar data training. Oleh karena itu, biasanya data yang kita miliki dibagi\n",
        "sedikitnya menjadi dua kelompok:\n",
        "\n",
        "- data latih (*training dataset*): data ini digunakan untuk mendapatkan parameter\n",
        "  model, misalnya parameter $\\mathbf{w}$ pada model linear.\n",
        "\n",
        "- data uji (*test dataset*): data ini digunakan untuk mengevaluasi performa model\n",
        "\n",
        "Pada kasus jaringan saraf tiruan, sering juga digunakan satu set data lain yaitu\n",
        "data validasi (*validation dataset*) yang digunakan pada waktu pelatihan jaringan saraf tiruan\n",
        "(ANN) untuk mengevaluasi\n",
        "progress model pada saat pelatihan.\n",
        "\n",
        "## Tugas (3)\n",
        "\n",
        "Tinjau kembali Tugas (2). Sekarang untuk dari 20 titik yang ada,\n",
        "pilih titik-titik yang berada pada $-1 \\leq x \\leq 1$ sebagai data uji\n",
        "dan titik yang lain adalah data latih.\n",
        "\n",
        "Anda dapat menggunakan kode berikut.\n",
        "```python\n",
        "import numpy as np\n",
        "Npoints = 20\n",
        "x = np.linspace(-5.0, 5.0, Npoints)\n",
        "idx1 = x <= 1\n",
        "idx2 = x >= -1\n",
        "idx_test = idx1 & idx2 # combine the condition\n",
        "idx_train = ~idx_test # Other data is training data\n",
        "\n",
        "x_train = x[idx_train]\n",
        "x_test = x[idx_test]\n",
        "\n",
        "# do similarly for y\n",
        "# [....]\n",
        "```\n",
        "\n",
        "Ulangi yang Anda lakukan pada Tugas (2):\n",
        "\n",
        "- $\\mathbf{w}$ sekarang dicari dengan hanya menggunakan data latih atau\n",
        "  training data.\n",
        "\n",
        "- Loss sekarang dihitung dengan menggunakan data uji\n",
        "\n",
        "- Plot loss terhadap orde polinomial yang digunakan. Polinomial orde berapakah yang\n",
        "  menghasilkan loss paling kecil?\n",
        "\n",
        "## Penggunaan sklearn\n",
        "\n",
        "Pada soal sebelumnya kita telah memilih daerah $-1 \\leq x \\leq 1$ sebagai data uji.\n",
        "Untuk kasus yang lebih umum, biasanya data uji ini dipilih secara acak.\n",
        "Pada `sklearn` kita dapat menggunakan fungsi `train_test_split`. Contoh:\n",
        "\n",
        "```python\n",
        "import numpy as np\n",
        "from sklearn.model_selection import train_test_split\n",
        "X, y = np.arange(10).reshape((5, 2)), range(5)\n",
        "X_train, X_test, y_train, y_test = train_test_split(\n",
        "    X, y, test_size=0.33, random_state=42)\n",
        "```\n",
        "\n",
        "## Pemilihan model (*model selection*)\n",
        "\n",
        "Permasalahan pemilihan orde polinomial merupakan salah satu contoh\n",
        "pemilihan model. Pemilihan model dapat dilakukan berdasarkan beberapa\n",
        "kriteria. Pada kasus regresi, salah satu kriteria yang dapat digunakan\n",
        "adalah nilai dari fungsi _loss_ pada data uji.\n",
        "Metode lain yang juga sering digunakan adalah metode validasi silang\n",
        "(_cross validation_)."
      ]
    }
  ],
  "metadata": {
    "kernelspec": {
      "display_name": "Python 3 (ipykernel)",
      "language": "python",
      "name": "python3"
    },
    "jupytext": {
      "text_representation": {
        "extension": ".qmd",
        "format_name": "quarto",
        "format_version": "1.0",
        "jupytext_version": "1.15.2"
      }
    }
  },
  "nbformat": 4,
  "nbformat_minor": 4
}