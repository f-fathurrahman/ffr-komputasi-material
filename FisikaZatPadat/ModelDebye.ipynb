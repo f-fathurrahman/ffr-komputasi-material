{
 "cells": [
  {
   "cell_type": "markdown",
   "metadata": {},
   "source": [
    "Nilai ekspektasi energi internal:\n",
    "$$\n",
    "\\begin{align}\n",
    "\\langle E \\rangle & = 3 \\sum_{\\mathbf{k}} \\hbar \\omega(\\mathbf{k})\n",
    "\\left[\n",
    "n_{\\mathbf{B}} (\\beta\\hbar\\omega(\\mathbf{k})) + \\frac{1}{2}\n",
    "\\right] \\\\\n",
    "& = 3 \\frac{L^3}{(2\\pi)^3} \\int \\mathrm{d}\\mathbf{k} \\, \\hbar\\omega(\\mathbf{k})\n",
    "\\left[\n",
    "n_{\\mathbf{B}} (\\beta\\hbar\\omega(\\mathbf{k})) + \\frac{1}{2}\n",
    "\\right]\n",
    "\\end{align}\n",
    "$$"
   ]
  },
  {
   "cell_type": "markdown",
   "metadata": {},
   "source": [
    "Dengan menggunakan simetri bola, integral 3D dapat diubah menjadi integral 1D terhadap koordinat radial ($k = \\sqrt{\\mathbf{k}\\cdot\\mathbf{k}}$):\n",
    "$$\n",
    "\\begin{equation}\n",
    "\\int\\mathrm{d}\\mathbf{k} \\rightarrow \\int_{0}^{2\\pi}\\mathrm{d}\\phi\n",
    "\\int_{0}^{\\pi}\\mathrm{d}\\theta\\sin\\theta\n",
    "\\int_{0}^{\\infty} k^2 \\, \\mathrm{d}k =\n",
    "4\\pi \\int_{0}^{\\infty} k^2 \\, \\mathrm{d}k\n",
    "\\end{equation}\n",
    "$$"
   ]
  },
  {
   "cell_type": "markdown",
   "metadata": {},
   "source": [
    "Dengan menggunakan hubungan $k = \\omega/v$, ($v$ adalah kecepatan gelombang) diperoleh\n",
    "$$\n",
    "\\begin{equation}\n",
    "\\langle E \\rangle = 3 \\frac{4\\pi L^3}{(2\\pi)^3} \\int_{0}^{\\infty}\n",
    "\\omega^2 \\mathrm{d}\\omega \\frac{1}{v^3} \\hbar\\omega\n",
    "\\left[\n",
    "n_{\\mathbf{B}} (\\beta\\hbar\\omega(\\mathbf{k})) + \\frac{1}{2}\n",
    "\\right]\n",
    "\\end{equation}\n",
    "$$\n",
    "\n",
    "Perhatikan suku berikut ini yang akan diberikan notasi $g(\\omega)$\n",
    "$$\n",
    "\\begin{equation}\n",
    "g(\\omega) = \\frac{12\\pi\\omega^2 L^3}{(2\\pi)^3 v^3}\n",
    "\\end{equation}\n",
    "$$\n",
    "Dengan menggunakan $N = nL^3$ di mana $n$ adalah kerapatan atom, suku tersebut dapat dituliskan menjadi:\n",
    "$$\n",
    "\\begin{equation}\n",
    "g(\\omega) = N\\left[\n",
    "\\frac{12\\pi\\omega^3}{(2\\pi)^3 n v^3}\n",
    "\\right] =\n",
    "N \\frac{9\\omega^2}{\\omega^{3}_{\\mathrm{D}}}\n",
    "\\end{equation}\n",
    "$$\n",
    "di mana kuantitas\n",
    "$$\n",
    "\\begin{equation}\n",
    "\\omega^{3}_{\\mathrm{D}} = 6\\pi^2 n v^3\n",
    "\\end{equation}\n",
    "$$\n",
    "dikenal dengan nama **frekuensi Debye**.\n",
    "\n",
    "$$\n",
    "\\langle E \\rangle =\n",
    "\\int_{0}^{\\infty} \\mathrm{d}\\omega\\, \\hbar\\omega \\, g(\\omega)\n",
    "\\left[\n",
    "n_{\\mathbf{B}} (\\beta\\hbar\\omega(\\mathbf{k})) + \\frac{1}{2}\n",
    "\\right]\n",
    "$$"
   ]
  },
  {
   "cell_type": "code",
   "execution_count": 1,
   "metadata": {},
   "outputs": [],
   "source": [
    "import sympy\n",
    "from sympy import symbols, init_printing, exp, Integral, oo\n",
    "init_printing(use_latex=True)"
   ]
  },
  {
   "cell_type": "code",
   "execution_count": 2,
   "metadata": {},
   "outputs": [],
   "source": [
    "ω = symbols(\"omega\")\n",
    "kB = symbols(\"k_B\")\n",
    "T = symbols(\"T\")\n",
    "N = symbols(\"N\")\n",
    "β = symbols(\"beta\")\n",
    "ω_D = symbols(\"omega_D\")\n",
    "ħ = symbols(\"hbar\")\n",
    "x = symbols(\"x\")"
   ]
  },
  {
   "cell_type": "code",
   "execution_count": 3,
   "metadata": {},
   "outputs": [],
   "source": [
    "g_ω = N*9*ω**2/ω_D**3"
   ]
  },
  {
   "cell_type": "code",
   "execution_count": 4,
   "metadata": {},
   "outputs": [
    {
     "data": {
      "image/png": "[encoded data removed]",
      "text/latex": [
       "$$\\int_{0}^{\\infty} \\frac{9 N \\hbar \\omega^{3}}{\\omega_{D}^{3} \\left(e^{\\beta \\hbar \\omega} - 1\\right)}\\, d\\omega$$"
      ],
      "text/plain": [
       "∞                      \n",
       "⌠                      \n",
       "⎮             3        \n",
       "⎮     9⋅N⋅h̅⋅ω         \n",
       "⎮ ────────────────── dω\n",
       "⎮    3 ⎛ β⋅h̅⋅ω    ⎞   \n",
       "⎮ ω_D ⋅⎝ℯ       - 1⎠   \n",
       "⌡                      \n",
       "0                      "
      ]
     },
     "execution_count": 4,
     "metadata": {},
     "output_type": "execute_result"
    }
   ],
   "source": [
    "E = Integral( g_ω * ħ * ω / ( exp(β*ħ*ω) - 1 ), (ω,0,oo) )\n",
    "E"
   ]
  },
  {
   "cell_type": "code",
   "execution_count": 5,
   "metadata": {},
   "outputs": [
    {
     "data": {
      "image/png": "[encoded data removed]",
      "text/latex": [
       "$$\\frac{9 N x^{3}}{\\beta^{3} \\hbar^{2} \\omega_{D}^{3} \\left(e^{x} - 1\\right)}$$"
      ],
      "text/plain": [
       "            3       \n",
       "       9⋅N⋅x        \n",
       "────────────────────\n",
       " 3   2    3 ⎛ x    ⎞\n",
       "β ⋅h̅ ⋅ω_D ⋅⎝ℯ  - 1⎠"
      ]
     },
     "execution_count": 5,
     "metadata": {},
     "output_type": "execute_result"
    }
   ],
   "source": [
    "expr2 = E.args[0].subs(β*ħ*ω, x).subs(ω, x/(β*ħ))\n",
    "expr2"
   ]
  },
  {
   "cell_type": "code",
   "execution_count": 6,
   "metadata": {},
   "outputs": [
    {
     "data": {
      "image/png": "[encoded data removed]",
      "text/latex": [
       "$$\\frac{9 N x^{3}}{\\beta^{3} \\hbar^{2} \\omega_{D}^{3} \\left(e^{x} - 1\\right)}$$"
      ],
      "text/plain": [
       "            3       \n",
       "       9⋅N⋅x        \n",
       "────────────────────\n",
       " 3   2    3 ⎛ x    ⎞\n",
       "β ⋅h̅ ⋅ω_D ⋅⎝ℯ  - 1⎠"
      ]
     },
     "execution_count": 6,
     "metadata": {},
     "output_type": "execute_result"
    }
   ],
   "source": [
    "E.args[0].subs(β*ħ*ω, x).subs(ω, x/(β*ħ))"
   ]
  },
  {
   "cell_type": "code",
   "execution_count": null,
   "metadata": {},
   "outputs": [],
   "source": [
    "E.doit()"
   ]
  },
  {
   "cell_type": "code",
   "execution_count": 12,
   "metadata": {},
   "outputs": [
    {
     "data": {
      "image/png": "[encoded data removed]",
      "text/latex": [
       "$$\\int_{0}^{\\infty} \\frac{x^{3}}{e^{x} - 1}\\, dx$$"
      ],
      "text/plain": [
       "∞          \n",
       "⌠          \n",
       "⎮    3     \n",
       "⎮   x      \n",
       "⎮ ────── dx\n",
       "⎮  x       \n",
       "⎮ ℯ  - 1   \n",
       "⌡          \n",
       "0          "
      ]
     },
     "execution_count": 12,
     "metadata": {},
     "output_type": "execute_result"
    }
   ],
   "source": [
    "E = Integral( x**3 / (exp(x) - 1), (x,0,oo) )\n",
    "E"
   ]
  },
  {
   "cell_type": "code",
   "execution_count": 13,
   "metadata": {},
   "outputs": [
    {
     "data": {
      "image/png": "[encoded data removed]",
      "text/latex": [
       "$$\\int_{0}^{\\infty} \\frac{x^{3}}{e^{x} - 1}\\, dx$$"
      ],
      "text/plain": [
       "∞          \n",
       "⌠          \n",
       "⎮    3     \n",
       "⎮   x      \n",
       "⎮ ────── dx\n",
       "⎮  x       \n",
       "⎮ ℯ  - 1   \n",
       "⌡          \n",
       "0          "
      ]
     },
     "execution_count": 13,
     "metadata": {},
     "output_type": "execute_result"
    }
   ],
   "source": [
    "E.doit()"
   ]
  },
  {
   "cell_type": "code",
   "execution_count": null,
   "metadata": {},
   "outputs": [],
   "source": [
    "Integral( expr2, (x,0,oo) )"
   ]
  },
  {
   "cell_type": "code",
   "execution_count": null,
   "metadata": {},
   "outputs": [],
   "source": [
    "expr3 = Integral( x**3 / (exp(x) - 1), (x,0,oo) )\n",
    "expr3"
   ]
  },
  {
   "cell_type": "code",
   "execution_count": null,
   "metadata": {},
   "outputs": [],
   "source": [
    "expr3.doit()"
   ]
  },
  {
   "cell_type": "code",
   "execution_count": null,
   "metadata": {},
   "outputs": [],
   "source": [
    "expr3 = Integral( x**3 / (exp(x) - 1), (x,0,10) )\n",
    "expr3\n",
    "expr3.doit()"
   ]
  },
  {
   "cell_type": "code",
   "execution_count": 14,
   "metadata": {},
   "outputs": [],
   "source": [
    "import mpmath"
   ]
  },
  {
   "cell_type": "code",
   "execution_count": 15,
   "metadata": {},
   "outputs": [],
   "source": [
    "f = lambda x: x**3/(exp(x) - 1)"
   ]
  },
  {
   "cell_type": "code",
   "execution_count": 16,
   "metadata": {},
   "outputs": [],
   "source": [
    "import math"
   ]
  },
  {
   "cell_type": "code",
   "execution_count": 18,
   "metadata": {},
   "outputs": [
    {
     "data": {
      "text/plain": [
       "mpf('6.4939394022668289')"
      ]
     },
     "execution_count": 18,
     "metadata": {},
     "output_type": "execute_result"
    }
   ],
   "source": [
    "mpmath.quad( f, (0,100) )"
   ]
  },
  {
   "cell_type": "code",
   "execution_count": 21,
   "metadata": {},
   "outputs": [
    {
     "data": {
      "image/png": "[encoded data removed]",
      "text/latex": [
       "$$\\frac{1}{15}$$"
      ],
      "text/plain": [
       "1/15"
      ]
     },
     "execution_count": 21,
     "metadata": {},
     "output_type": "execute_result"
    }
   ],
   "source": [
    "import sympy\n",
    "sympy.Rational(6,90)"
   ]
  },
  {
   "cell_type": "code",
   "execution_count": 25,
   "metadata": {},
   "outputs": [
    {
     "data": {
      "text/plain": [
       "mpf('8.8817841970012523e-16')"
      ]
     },
     "execution_count": 25,
     "metadata": {},
     "output_type": "execute_result"
    }
   ],
   "source": [
    "mpmath.quad( f, (0,100) ) - math.pi**4/15"
   ]
  },
  {
   "cell_type": "code",
   "execution_count": 26,
   "metadata": {},
   "outputs": [],
   "source": [
    "expr2 = exp(x*x)"
   ]
  },
  {
   "cell_type": "code",
   "execution_count": 29,
   "metadata": {},
   "outputs": [],
   "source": [
    "f = sympy.lambdify(x, expr2)"
   ]
  },
  {
   "cell_type": "code",
   "execution_count": 30,
   "metadata": {},
   "outputs": [
    {
     "data": {
      "image/png": "[encoded data removed]",
      "text/latex": [
       "$$8103.083927575384$$"
      ],
      "text/plain": [
       "8103.083927575384"
      ]
     },
     "execution_count": 30,
     "metadata": {},
     "output_type": "execute_result"
    }
   ],
   "source": [
    "f(3)"
   ]
  },
  {
   "cell_type": "code",
   "execution_count": 34,
   "metadata": {},
   "outputs": [
    {
     "data": {
      "image/png": "[encoded data removed]",
      "text/latex": [
       "$$- 4 \\pi$$"
      ],
      "text/plain": [
       "-4⋅π"
      ]
     },
     "execution_count": 34,
     "metadata": {},
     "output_type": "execute_result"
    }
   ],
   "source": [
    "from sympy import cos\n",
    "sympy.integrate(x**2 * cos(x), x)\n",
    "sympy.integrate(x**2 * cos(x), (x,-sympy.pi, sympy.pi))"
   ]
  },
  {
   "cell_type": "markdown",
   "metadata": {},
   "source": [
    "## FCC dan BCC"
   ]
  },
  {
   "cell_type": "code",
   "execution_count": 1,
   "metadata": {},
   "outputs": [],
   "source": [
    "from sympy import *"
   ]
  },
  {
   "cell_type": "code",
   "execution_count": 15,
   "metadata": {},
   "outputs": [],
   "source": [
    "a = symbols(\"a\")\n",
    "\n",
    "BCC_matrix = Matrix([ [a, 0, 0], [0, a, 0], [a/2, a/2, a/2] ])"
   ]
  },
  {
   "cell_type": "code",
   "execution_count": 4,
   "metadata": {},
   "outputs": [],
   "source": [
    "init_printing(use_latex=True)"
   ]
  },
  {
   "cell_type": "code",
   "execution_count": 11,
   "metadata": {},
   "outputs": [
    {
     "data": {
      "image/png": "[encoded data removed]",
      "text/latex": [
       "$$\\left[\\begin{matrix}a & 0 & 0\\\\0 & a & 0\\\\\\frac{a}{2} & \\frac{a}{2} & \\frac{a}{2}\\end{matrix}\\right]$$"
      ],
      "text/plain": [
       "⎡a  0  0⎤\n",
       "⎢       ⎥\n",
       "⎢0  a  0⎥\n",
       "⎢       ⎥\n",
       "⎢a  a  a⎥\n",
       "⎢─  ─  ─⎥\n",
       "⎣2  2  2⎦"
      ]
     },
     "execution_count": 11,
     "metadata": {},
     "output_type": "execute_result"
    }
   ],
   "source": [
    "BCC_matrix"
   ]
  },
  {
   "cell_type": "code",
   "execution_count": 13,
   "metadata": {},
   "outputs": [],
   "source": [
    "FCC_rec = 2*pi*BCC_matrix.inv()"
   ]
  },
  {
   "cell_type": "code",
   "execution_count": 14,
   "metadata": {},
   "outputs": [
    {
     "data": {
      "image/png": "[encoded data removed]",
      "text/latex": [
       "$$\\left[\\begin{matrix}\\frac{2 \\pi}{a} & 0 & - \\frac{2 \\pi}{a}\\\\0 & \\frac{2 \\pi}{a} & - \\frac{2 \\pi}{a}\\\\0 & 0 & \\frac{4 \\pi}{a}\\end{matrix}\\right]$$"
      ],
      "text/plain": [
       "⎡2⋅π       -2⋅π ⎤\n",
       "⎢───   0   ─────⎥\n",
       "⎢ a          a  ⎥\n",
       "⎢               ⎥\n",
       "⎢     2⋅π  -2⋅π ⎥\n",
       "⎢ 0   ───  ─────⎥\n",
       "⎢      a     a  ⎥\n",
       "⎢               ⎥\n",
       "⎢           4⋅π ⎥\n",
       "⎢ 0    0    ─── ⎥\n",
       "⎣            a  ⎦"
      ]
     },
     "execution_count": 14,
     "metadata": {},
     "output_type": "execute_result"
    }
   ],
   "source": [
    "FCC_rec.transpose()"
   ]
  },
  {
   "cell_type": "code",
   "execution_count": 17,
   "metadata": {},
   "outputs": [
    {
     "data": {
      "image/png": "[encoded data removed]",
      "text/latex": [
       "$$\\left[\\begin{matrix}- \\frac{a}{2} & 0 & \\frac{a}{2}\\\\0 & \\frac{a}{2} & \\frac{a}{2}\\\\- \\frac{a}{2} & \\frac{a}{2} & 0\\end{matrix}\\right]$$"
      ],
      "text/plain": [
       "⎡-a      a⎤\n",
       "⎢───  0  ─⎥\n",
       "⎢ 2      2⎥\n",
       "⎢         ⎥\n",
       "⎢     a  a⎥\n",
       "⎢ 0   ─  ─⎥\n",
       "⎢     2  2⎥\n",
       "⎢         ⎥\n",
       "⎢-a   a   ⎥\n",
       "⎢───  ─  0⎥\n",
       "⎣ 2   2   ⎦"
      ]
     },
     "execution_count": 17,
     "metadata": {},
     "output_type": "execute_result"
    }
   ],
   "source": [
    "FCC_matrix = Matrix([ [-a/2, 0, a/2], [0, a/2, a/2], [-a/2, a/2, 0] ])\n",
    "FCC_matrix"
   ]
  },
  {
   "cell_type": "code",
   "execution_count": 19,
   "metadata": {},
   "outputs": [
    {
     "data": {
      "image/png": "[encoded data removed]",
      "text/latex": [
       "$$\\left[\\begin{matrix}- \\frac{2 \\pi}{a} & - \\frac{2 \\pi}{a} & \\frac{2 \\pi}{a}\\\\\\frac{2 \\pi}{a} & \\frac{2 \\pi}{a} & \\frac{2 \\pi}{a}\\\\- \\frac{2 \\pi}{a} & \\frac{2 \\pi}{a} & - \\frac{2 \\pi}{a}\\end{matrix}\\right]$$"
      ],
      "text/plain": [
       "⎡-2⋅π   -2⋅π    2⋅π ⎤\n",
       "⎢─────  ─────   ─── ⎥\n",
       "⎢  a      a      a  ⎥\n",
       "⎢                   ⎥\n",
       "⎢ 2⋅π    2⋅π    2⋅π ⎥\n",
       "⎢ ───    ───    ─── ⎥\n",
       "⎢  a      a      a  ⎥\n",
       "⎢                   ⎥\n",
       "⎢-2⋅π    2⋅π   -2⋅π ⎥\n",
       "⎢─────   ───   ─────⎥\n",
       "⎣  a      a      a  ⎦"
      ]
     },
     "execution_count": 19,
     "metadata": {},
     "output_type": "execute_result"
    }
   ],
   "source": [
    "BCC_rec = 2*pi*FCC_matrix.inv().transpose()\n",
    "BCC_rec"
   ]
  },
  {
   "cell_type": "code",
   "execution_count": 25,
   "metadata": {},
   "outputs": [
    {
     "data": {
      "image/png": "[encoded data removed]",
      "text/latex": [
       "$$\\frac{2 \\pi}{a} + \\frac{8 \\pi^{2}}{a^{2}}$$"
      ],
      "text/plain": [
       "         2\n",
       "2⋅π   8⋅π \n",
       "─── + ────\n",
       " a      2 \n",
       "       a  "
      ]
     },
     "execution_count": 25,
     "metadata": {},
     "output_type": "execute_result"
    }
   ],
   "source": [
    "BCC_rec[0,0]**2 + BCC_rec[0,1]**2 + BCC_rec[0,2]"
   ]
  },
  {
   "cell_type": "code",
   "execution_count": null,
   "metadata": {},
   "outputs": [],
   "source": []
  },
  {
   "cell_type": "code",
   "execution_count": null,
   "metadata": {},
   "outputs": [],
   "source": []
  },
  {
   "cell_type": "code",
   "execution_count": null,
   "metadata": {},
   "outputs": [],
   "source": []
  },
  {
   "cell_type": "code",
   "execution_count": null,
   "metadata": {},
   "outputs": [],
   "source": []
  }
 ],
 "metadata": {
  "kernelspec": {
   "display_name": "Python 3",
   "language": "python",
   "name": "python3"
  },
  "language_info": {
   "codemirror_mode": {
    "name": "ipython",
    "version": 3
   },
   "file_extension": ".py",
   "mimetype": "text/x-python",
   "name": "python",
   "nbconvert_exporter": "python",
   "pygments_lexer": "ipython3",
   "version": "3.7.1"
  }
 },
 "nbformat": 4,
 "nbformat_minor": 2
}
