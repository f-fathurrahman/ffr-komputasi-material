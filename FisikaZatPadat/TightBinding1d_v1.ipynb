{
 "cells": [
  {
   "cell_type": "markdown",
   "metadata": {},
   "source": [
    "<h1 style=\"text-align: center;\">Rantai Tight-Binding 1d</h1>"
   ]
  },
  {
   "cell_type": "markdown",
   "metadata": {},
   "source": [
    "LaTeX macros:\n",
    "\n",
    "```latex\n",
    "\\newcommand{\\ket}[1]{\\left|{#1}\\right\\rangle}\n",
    "\\newcommand{\\bra}[1]{\\left\\langle{#1}\\right|}\n",
    "\\newcommand{\\braket}[2]{\\left\\langle{#1}\\middle|{#2}\\right\\rangle}\n",
    "```"
   ]
  },
  {
   "cell_type": "markdown",
   "metadata": {},
   "source": [
    "$$\\newcommand{\\ket}[1]{\\left|{#1}\\right\\rangle}$$\n",
    "$$\\newcommand{\\bra}[1]{\\left\\langle{#1}\\right|}$$\n",
    "$$\\newcommand{\\braket}[2]{\\left\\langle{#1}\\middle|{#2}\\right\\rangle}$$"
   ]
  },
  {
   "cell_type": "markdown",
   "metadata": {},
   "source": [
    "<img style=\"margin-left: auto; margin-right: auto;\" src=\"images_priv/Simon_Fig_11_1.jpg\">"
   ]
  },
  {
   "cell_type": "markdown",
   "metadata": {},
   "source": [
    "Asumsi:\n",
    "\n",
    "- Terdapat satu orbital pada atom $n$, yaitu $\\ket{n}$\n",
    "- Sistem memiliki syarat batas periodik.\n",
    "- Semua orbital saling ortogonal: $\\braket{n}{m} = \\delta_{nm}$\n",
    "\n"
   ]
  },
  {
   "cell_type": "markdown",
   "metadata": {},
   "source": [
    "Asumsikan fungsi gelombang berbentuk:\n",
    "$$\n",
    "\\ket{\\Psi} = \\sum_{n} \\phi_{n} \\ket{n}\n",
    "$$"
   ]
  },
  {
   "cell_type": "markdown",
   "metadata": {},
   "source": [
    "Persamaan Schroedinger:\n",
    "$$\n",
    "\\sum_{m} H_{nm} \\phi_{m} = E \\phi_{n}\n",
    "$$\n",
    "dengan elemen matriks Hamiltonian:\n",
    "$$\n",
    "H_{nm} = \\bra{n}H\\ket{m}\n",
    "$$"
   ]
  },
  {
   "cell_type": "markdown",
   "metadata": {},
   "source": [
    "Hamiltonian dapat dituliskan sebagai:\n",
    "$$\n",
    "H = K + \\sum_{j} V_{j}\n",
    "$$\n",
    "dengan $K = \\mathbf{p}^2/(2m)$ adalah energi kinetik dan $V_{j}$ adalah interaksi Coulomb antara elektron pada posisi $\\mathbf{r}$ dengan inti atom pada situs $j$:\n",
    "$$\n",
    "V_{j} = V(\\mathbf{r} - \\mathbf{R}_{j})\n",
    "$$\n",
    "dengan $\\mathbf{R}_{j}$ adalah posisi dari inti ke-$j$."
   ]
  },
  {
   "cell_type": "markdown",
   "metadata": {},
   "source": [
    "Dengan definisi tersebut, kita memiliki:\n",
    "$$\n",
    "H\\ket{m} = (K + V_{m})\\ket{m} + \\sum_{j \\neq m} V_{j}\\ket{m}\n",
    "$$"
   ]
  },
  {
   "cell_type": "markdown",
   "metadata": {},
   "source": [
    "$K + V_{m}$ adalah Hamiltonian yang diperoleh jika hanya ada satu atom, yaitu atom ke-$m$, pada sistem:\n",
    "$$\n",
    "(K + V_{m})\\ket{m} = \\epsilon_{\\mathrm{a}}\\ket{m}\n",
    "$$\n",
    "di mana $\\epsilon_{a}$ adalah energi elektron pada atom ke-$m$ jika tidak ada atom lain."
   ]
  },
  {
   "cell_type": "markdown",
   "metadata": {},
   "source": [
    "$$\n",
    "H_{n,m} = \\bra{n}H\\ket{m} = \\epsilon_{a}\\delta_{n,m} + \\sum_{j \\neq m} \\bra{n}V_{j}\\ket{m}\n",
    "$$"
   ]
  },
  {
   "cell_type": "markdown",
   "metadata": {},
   "source": [
    "Suku penjumlahan potensial dapat diaproksimasi menjadi:\n",
    "$$\n",
    "\\sum_{j \\neq m} \\bra{n}V_{j}\\ket{m} = \\begin{cases}\n",
    "V_{0} & n = m \\\\\n",
    "-t & n = m \\pm 1 \\\\\n",
    "0 & \\text{lainnya}\n",
    "\\end{cases}\n",
    "$$"
   ]
  },
  {
   "cell_type": "markdown",
   "metadata": {},
   "source": [
    "Matriks Hamiltonian menjadi:\n",
    "$$\n",
    "H_{nm} = \\epsilon_{0}\\delta_{nm} - t(\\delta_{n+1,m} + \\delta_{n-1,m})\n",
    "$$\n",
    "di mana $\\epsilon_{0} = \\epsilon_{a} + V_{0}$."
   ]
  },
  {
   "cell_type": "markdown",
   "metadata": {},
   "source": [
    "Parameter $t$ dikenal juga sebagai hopping term. Suku ini menjadi besar apabila orbital semakin dekat dan turun secara eksponensial jika orbital semakin jauh."
   ]
  },
  {
   "cell_type": "markdown",
   "metadata": {},
   "source": [
    "Dengan menggunakan ansatz:\n",
    "$$\n",
    "\\phi_{n}(k) = \\frac{e^{-\\imath k n a}}{\\sqrt{N}}\n",
    "$$"
   ]
  },
  {
   "cell_type": "markdown",
   "metadata": {},
   "source": [
    "Diperoleh:\n",
    "$$\n",
    "\\sum_{m} H_{nm}\\phi_{m} = \\epsilon_{0}\\frac{e^{-\\imath k n a}}{\\sqrt{N}} -\n",
    "t\\left(\n",
    "\\frac{e^{-\\imath k (n+1) a}}{\\sqrt{N}} +\n",
    "\\frac{e^{-\\imath k (n-1) a}}{\\sqrt{N}}\n",
    "\\right)\n",
    "$$\n",
    "dan:\n",
    "$$\n",
    "E\\phi_{n} = E \\frac{e^{-\\imath k n a}}{\\sqrt{N}}\n",
    "$$"
   ]
  },
  {
   "cell_type": "markdown",
   "metadata": {},
   "source": [
    "$$\n",
    "E \\frac{e^{-\\imath k n a}}{\\sqrt{N}} = \n",
    "\\epsilon_{0}\\frac{e^{-\\imath k n a}}{\\sqrt{N}} -\n",
    "t\\left(\n",
    "\\frac{e^{-\\imath k (n+1) a}}{\\sqrt{N}} +\n",
    "\\frac{e^{-\\imath k (n-1) a}}{\\sqrt{N}}\n",
    "\\right)\n",
    "$$"
   ]
  },
  {
   "cell_type": "markdown",
   "metadata": {},
   "source": [
    "Energi:\n",
    "$$\n",
    "E(k) = \\epsilon_{0} - 2t\\cos(ka)\n",
    "$$\n",
    "dispersion relation, band structure"
   ]
  },
  {
   "cell_type": "code",
   "execution_count": 1,
   "metadata": {},
   "outputs": [],
   "source": [
    "import numpy as np"
   ]
  },
  {
   "cell_type": "code",
   "execution_count": 3,
   "metadata": {},
   "outputs": [],
   "source": [
    "import matplotlib.pyplot as plt"
   ]
  },
  {
   "cell_type": "code",
   "execution_count": 2,
   "metadata": {},
   "outputs": [],
   "source": [
    "ϵ0 = 1.0\n",
    "t = 1.0\n",
    "a = 2.0"
   ]
  },
  {
   "cell_type": "code",
   "execution_count": 4,
   "metadata": {},
   "outputs": [],
   "source": [
    "k = np.linspace(-5.0, 5.0, 500)\n",
    "E = ϵ0 - 2*t*np.cos(k*a)"
   ]
  },
  {
   "cell_type": "code",
   "execution_count": 5,
   "metadata": {},
   "outputs": [
    {
     "data": {
      "text/plain": [
       "[<matplotlib.lines.Line2D at 0x7fbfa336b160>]"
      ]
     },
     "execution_count": 5,
     "metadata": {},
     "output_type": "execute_result"
    },
    {
     "data": {
      "image/png": "[encoded data removed]",
      "text/plain": [
       "<Figure size 432x288 with 1 Axes>"
      ]
     },
     "metadata": {
      "needs_background": "light"
     },
     "output_type": "display_data"
    }
   ],
   "source": [
    "plt.clf()\n",
    "plt.plot(k, E)"
   ]
  },
  {
   "cell_type": "code",
   "execution_count": null,
   "metadata": {},
   "outputs": [],
   "source": []
  },
  {
   "cell_type": "code",
   "execution_count": null,
   "metadata": {},
   "outputs": [],
   "source": []
  }
 ],
 "metadata": {
  "kernelspec": {
   "display_name": "Python 3",
   "language": "python",
   "name": "python3"
  },
  "language_info": {
   "codemirror_mode": {
    "name": "ipython",
    "version": 3
   },
   "file_extension": ".py",
   "mimetype": "text/x-python",
   "name": "python",
   "nbconvert_exporter": "python",
   "pygments_lexer": "ipython3",
   "version": "3.8.5"
  }
 },
 "nbformat": 4,
 "nbformat_minor": 4
}
