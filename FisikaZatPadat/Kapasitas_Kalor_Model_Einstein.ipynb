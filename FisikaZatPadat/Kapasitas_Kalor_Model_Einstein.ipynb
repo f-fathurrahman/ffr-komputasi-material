{
 "cells": [
  {
   "cell_type": "markdown",
   "metadata": {},
   "source": [
    "Hukum Dulong-Petit (1819): untuk banyak padatan, kapasitas kalor diberikan oleh persamaan:\n",
    "$$\n",
    "C = 3k_{B}\\,\\text{per atom} \\\\\n",
    "C = 3R\n",
    "$$\n",
    "dengan $R$ adalah konstanta gas ideal."
   ]
  },
  {
   "cell_type": "markdown",
   "metadata": {},
   "source": [
    "| Material | $C/R$ |\n",
    "|----------|-------|\n",
    "| Aluminium (Al) |  2.91 |\n",
    "| Antimon (Sb) | 3.03 |\n",
    "| Tembaga (Cu) | 2.94 |"
   ]
  },
  {
   "cell_type": "markdown",
   "metadata": {},
   "source": [
    "Nilai eigen dari suatu osilator harmonik adalah:\n",
    "$$\n",
    "E_{n} = \\hbar\\omega\\left( n + \\frac{1}{2} \\right)\n",
    "$$"
   ]
  },
  {
   "cell_type": "markdown",
   "metadata": {},
   "source": [
    "Fungsi partisi dapat dituliskan sebagai:\n",
    "$$\n",
    "\\begin{align}\n",
    "Z_{1D} & = \\sum_{n \\geq 0} \\mathrm{e}^{-\\beta E_{n}} \\\\\n",
    "       & = \\sum_{n \\geq 0} \\mathrm{e}^{-\\beta \\hbar\\omega\\left(n + \\frac{1}{2}\\right)} \\\\\n",
    "       & = \\frac{\\mathrm{e}^{-\\beta\\hbar\\omega/2}}{1 - \\mathrm{e}^{-\\beta\\hbar\\omega}}\n",
    "\\end{align}\n",
    "$$"
   ]
  },
  {
   "cell_type": "markdown",
   "metadata": {},
   "source": [
    "Nilai ekspektasi dari energi internal adalah:\n",
    "$$\n",
    "\\begin{equation}\n",
    "\\langle E \\rangle = -\\frac{1}{Z_{1D}}\\frac{\\partial Z_{1D}}{\\partial \\beta}\n",
    "= \\hbar\\omega\\left( \\frac{1}{\\mathrm{e}^{\\beta\\hbar\\omega}-1} + \\frac{1}{2} \\right)\n",
    "\\end{equation}\n",
    "$$\n",
    "Dengan menggunakan faktor okupansi Bose:\n",
    "$$\n",
    "\\begin{equation}\n",
    "n_{\\mathrm{B}}(x) = \\frac{1}{e^x - 1}\n",
    "\\end{equation}\n",
    "$$\n",
    "dapat juga dituliskan:\n",
    "$$\n",
    "\\begin{equation}\n",
    "\\langle E \\rangle = \\hbar\\omega\\left( n_{\\mathrm{B}}(\\beta\\hbar\\omega) + \\frac{1}{2}\\right)\n",
    "\\end{equation}\n",
    "$$"
   ]
  },
  {
   "cell_type": "markdown",
   "metadata": {},
   "source": [
    "Kapasitas kalor untuk satu osilator harmonik adalah:\n",
    "$$\n",
    "\\begin{equation}\n",
    "C = \\frac{\\partial \\langle E \\rangle}{\\partial T} =\n",
    "k_{B}\\left(\\beta\\hbar\\omega\\right)^2\n",
    "\\frac{e^{\\beta\\hbar\\omega}}{\\left(e^{\\beta\\hbar\\omega} - 1\\right)^2}\n",
    "\\end{equation}\n",
    "$$"
   ]
  },
  {
   "cell_type": "markdown",
   "metadata": {},
   "source": [
    "Untuk kasus 3D, kita memiliki nilai eigen osilator harmonik:\n",
    "$$\n",
    "\\begin{equation}\n",
    "E_{n_{x},n_{y},n_{z}} = \\hbar\\omega\\left[ \\left( n_{x} + \\frac{1}{2} \\right)\n",
    "+ \\left( n_{y} + \\frac{1}{2} \\right) + \\left( n_{z} + \\frac{1}{2} \\right)\n",
    "\\right]\n",
    "\\end{equation}\n",
    "$$\n",
    "\n",
    "Untuk fungsi partisi\n",
    "$$\n",
    "Z_{3D} = \\sum_{n_{x},n_{y},n_{z} \\geq 0 }\n",
    "\\mathrm{e}^{-\\beta E_{n_{x},n_{y},n_{z}}}\n",
    "= (Z_{1D})^3\n",
    "$$\n",
    "\n",
    "Untuk nilai ekspektasi energi internal:\n",
    "$$\n",
    "\\begin{equation}\n",
    "\\langle E_{3D} \\rangle = 3 \\langle E_{1D} \\rangle\n",
    "\\end{equation}\n",
    "$$\n",
    "\n",
    "Untuk kapasitas kalor\n",
    "$$\n",
    "\\begin{equation}\n",
    "C = 3k_{B}\\left(\\beta\\hbar\\omega\\right)^2\n",
    "\\frac{e^{\\beta\\hbar\\omega}}{\\left(e^{\\beta\\hbar\\omega} - 1\\right)^2}\n",
    "\\end{equation}\n",
    "$$"
   ]
  },
  {
   "cell_type": "markdown",
   "metadata": {},
   "source": [
    "Dengan menggunakan nilai-nilai berikut\n",
    "$$\n",
    "k_{B} = 1 \\\\\n",
    "\\omega = 1 \\\\\n",
    "\\hbar = 1\n",
    "$$"
   ]
  },
  {
   "cell_type": "code",
   "execution_count": 1,
   "metadata": {},
   "outputs": [],
   "source": [
    "from sympy import *\n",
    "init_printing(use_latex=True)\n",
    "\n",
    "kB = symbols(\"k_B\", real=True, nonnegative=True)\n",
    "β = symbols(\"beta\", real=True, nonnegative=True)\n",
    "ħ = symbols(\"hbar\", real=True)\n",
    "T = symbols(\"T\", real=True, nonnegative=True)\n",
    "ω = symbols(\"omega\", real=True, nonnegative=True)"
   ]
  },
  {
   "cell_type": "code",
   "execution_count": 2,
   "metadata": {},
   "outputs": [
    {
     "data": {
      "image/png": "[encoded data removed]",
      "text/latex": [
       "$$\\left ( k_{B}, \\quad \\beta, \\quad \\hbar, \\quad T, \\quad \\omega\\right )$$"
      ],
      "text/plain": [
       "(k_B, β, h̅, T, ω)"
      ]
     },
     "execution_count": 2,
     "metadata": {},
     "output_type": "execute_result"
    }
   ],
   "source": [
    "kB, β, ħ, T, ω"
   ]
  },
  {
   "cell_type": "code",
   "execution_count": 3,
   "metadata": {},
   "outputs": [
    {
     "data": {
      "image/png": "[encoded data removed]",
      "text/latex": [
       "$$\\frac{e^{- \\frac{\\beta \\hbar}{2} \\omega}}{1 - e^{- \\beta \\hbar \\omega}}$$"
      ],
      "text/plain": [
       "  -β⋅h̅⋅ω   \n",
       "  ────────  \n",
       "     2      \n",
       " ℯ          \n",
       "────────────\n",
       "     -β⋅h̅⋅ω\n",
       "1 - ℯ       "
      ]
     },
     "execution_count": 3,
     "metadata": {},
     "output_type": "execute_result"
    }
   ],
   "source": [
    "Z_1D = exp(-β*ħ*ω/2)/(1 - exp(-β*ħ*ω))\n",
    "Z_1D"
   ]
  },
  {
   "cell_type": "code",
   "execution_count": 9,
   "metadata": {},
   "outputs": [
    {
     "data": {
      "image/png": "[encoded data removed]",
      "text/latex": [
       "$$\\left(1 - e^{- \\beta \\hbar \\omega}\\right) \\left(\\frac{\\hbar \\omega e^{- \\frac{\\beta \\hbar}{2} \\omega}}{2 \\left(1 - e^{- \\beta \\hbar \\omega}\\right)} + \\frac{\\hbar \\omega e^{- \\frac{3 \\hbar}{2} \\beta \\omega}}{\\left(1 - e^{- \\beta \\hbar \\omega}\\right)^{2}}\\right) e^{\\frac{\\beta \\hbar}{2} \\omega}$$"
      ],
      "text/plain": [
       "               ⎛       -β⋅h̅⋅ω           -3⋅β⋅h̅⋅ω ⎞        \n",
       "               ⎜       ────────          ──────────⎟  β⋅h̅⋅ω\n",
       "               ⎜          2                  2     ⎟  ──────\n",
       "⎛     -β⋅h̅⋅ω⎞ ⎜ h̅⋅ω⋅ℯ            h̅⋅ω⋅ℯ          ⎟    2   \n",
       "⎝1 - ℯ       ⎠⋅⎜──────────────── + ────────────────⎟⋅ℯ      \n",
       "               ⎜  ⎛     -β⋅h̅⋅ω⎞                 2 ⎟        \n",
       "               ⎜2⋅⎝1 - ℯ       ⎠   ⎛     -β⋅h̅⋅ω⎞  ⎟        \n",
       "               ⎝                   ⎝1 - ℯ       ⎠  ⎠        "
      ]
     },
     "execution_count": 9,
     "metadata": {},
     "output_type": "execute_result"
    }
   ],
   "source": [
    "E = -diff(Z_1D, β)/Z_1D\n",
    "E"
   ]
  },
  {
   "cell_type": "code",
   "execution_count": 10,
   "metadata": {},
   "outputs": [
    {
     "data": {
      "image/png": "[encoded data removed]",
      "text/latex": [
       "$$\\frac{\\hbar \\omega \\left(e^{\\beta \\hbar \\omega} + 1\\right)}{2 e^{\\beta \\hbar \\omega} - 2}$$"
      ],
      "text/plain": [
       "     ⎛ β⋅h̅⋅ω    ⎞\n",
       "h̅⋅ω⋅⎝ℯ       + 1⎠\n",
       "──────────────────\n",
       "     β⋅h̅⋅ω       \n",
       "  2⋅ℯ       - 2   "
      ]
     },
     "execution_count": 10,
     "metadata": {},
     "output_type": "execute_result"
    }
   ],
   "source": [
    "simplify(E)"
   ]
  },
  {
   "cell_type": "code",
   "execution_count": 13,
   "metadata": {},
   "outputs": [
    {
     "data": {
      "image/png": "[encoded data removed]",
      "text/latex": [
       "$$\\hbar \\omega \\left(\\frac{1}{2} + \\frac{1}{e^{\\beta \\hbar \\omega} - 1}\\right)$$"
      ],
      "text/plain": [
       "     ⎛1        1     ⎞\n",
       "h̅⋅ω⋅⎜─ + ───────────⎟\n",
       "     ⎜2    β⋅h̅⋅ω    ⎟\n",
       "     ⎝    ℯ       - 1⎠"
      ]
     },
     "execution_count": 13,
     "metadata": {},
     "output_type": "execute_result"
    }
   ],
   "source": [
    "E_buku = ħ*ω*( 1/(exp(β*ħ*ω) - 1) + Rational(1,2))\n",
    "E_buku"
   ]
  },
  {
   "cell_type": "code",
   "execution_count": 14,
   "metadata": {},
   "outputs": [
    {
     "data": {
      "image/png": "[encoded data removed]",
      "text/latex": [
       "$$\\frac{\\hbar \\omega \\left(e^{\\beta \\hbar \\omega} + 1\\right)}{2 e^{\\beta \\hbar \\omega} - 2}$$"
      ],
      "text/plain": [
       "     ⎛ β⋅h̅⋅ω    ⎞\n",
       "h̅⋅ω⋅⎝ℯ       + 1⎠\n",
       "──────────────────\n",
       "     β⋅h̅⋅ω       \n",
       "  2⋅ℯ       - 2   "
      ]
     },
     "execution_count": 14,
     "metadata": {},
     "output_type": "execute_result"
    }
   ],
   "source": [
    "simplify(E_buku)"
   ]
  },
  {
   "cell_type": "markdown",
   "metadata": {},
   "source": [
    "Substitusi $\\beta \\rightarrow \\dfrac{1}{k_{B} T}$"
   ]
  },
  {
   "cell_type": "code",
   "execution_count": 15,
   "metadata": {},
   "outputs": [
    {
     "data": {
      "image/png": "[encoded data removed]",
      "text/latex": [
       "$$\\frac{\\hbar \\omega \\left(e^{\\frac{\\hbar \\omega}{T k_{B}}} + 1\\right)}{2 e^{\\frac{\\hbar \\omega}{T k_{B}}} - 2}$$"
      ],
      "text/plain": [
       "     ⎛  h̅⋅ω    ⎞\n",
       "     ⎜ ─────    ⎟\n",
       "     ⎜ T⋅k_B    ⎟\n",
       "h̅⋅ω⋅⎝ℯ      + 1⎠\n",
       "─────────────────\n",
       "       h̅⋅ω      \n",
       "      ─────      \n",
       "      T⋅k_B      \n",
       "   2⋅ℯ      - 2  "
      ]
     },
     "execution_count": 15,
     "metadata": {},
     "output_type": "execute_result"
    }
   ],
   "source": [
    "E_T = simplify(E).subs(β, 1/(kB*T))\n",
    "E_T"
   ]
  },
  {
   "cell_type": "code",
   "execution_count": 18,
   "metadata": {},
   "outputs": [
    {
     "data": {
      "image/png": "[encoded data removed]",
      "text/latex": [
       "$$\\frac{\\hbar^{2} \\omega^{2} e^{\\frac{\\hbar \\omega}{T k_{B}}}}{T^{2} k_{B} \\left(e^{\\frac{\\hbar \\omega}{T k_{B}}} - 1\\right)^{2}}$$"
      ],
      "text/plain": [
       "            h̅⋅ω    \n",
       "           ─────    \n",
       "     2  2  T⋅k_B    \n",
       "   h̅ ⋅ω ⋅ℯ         \n",
       "────────────────────\n",
       "                   2\n",
       "       ⎛  h̅⋅ω    ⎞ \n",
       "       ⎜ ─────    ⎟ \n",
       " 2     ⎜ T⋅k_B    ⎟ \n",
       "T ⋅k_B⋅⎝ℯ      - 1⎠ "
      ]
     },
     "execution_count": 18,
     "metadata": {},
     "output_type": "execute_result"
    }
   ],
   "source": [
    "C = diff(E_T, T)\n",
    "C_vv1 = simplify(C)\n",
    "C_vv1"
   ]
  },
  {
   "cell_type": "markdown",
   "metadata": {},
   "source": [
    "$\\beta = \\dfrac{1}{k_{B} T}$"
   ]
  },
  {
   "cell_type": "code",
   "execution_count": 20,
   "metadata": {},
   "outputs": [
    {
     "data": {
      "image/png": "[encoded data removed]",
      "text/latex": [
       "$$\\frac{\\beta^{2} \\hbar^{2} k_{B} \\omega^{2} e^{\\beta \\hbar \\omega}}{\\left(e^{\\beta \\hbar \\omega} - 1\\right)^{2}}$$"
      ],
      "text/plain": [
       " 2   2      2  β⋅h̅⋅ω\n",
       "β ⋅h̅ ⋅k_B⋅ω ⋅ℯ      \n",
       "─────────────────────\n",
       "                 2   \n",
       "    ⎛ β⋅h̅⋅ω    ⎞    \n",
       "    ⎝ℯ       - 1⎠    "
      ]
     },
     "execution_count": 20,
     "metadata": {},
     "output_type": "execute_result"
    }
   ],
   "source": [
    "C_vv1.subs(1/(kB*T), β).subs(T, 1/(β*kB))"
   ]
  },
  {
   "cell_type": "code",
   "execution_count": 17,
   "metadata": {},
   "outputs": [
    {
     "data": {
      "image/png": "[encoded data removed]",
      "text/latex": [
       "$$\\frac{\\hbar^{2} \\omega^{2} e^{\\frac{\\hbar \\omega}{T k_{B}}}}{T^{2} k_{B} \\left(e^{\\frac{\\hbar \\omega}{T k_{B}}} - 1\\right)^{2}}$$"
      ],
      "text/plain": [
       "            h̅⋅ω    \n",
       "           ─────    \n",
       "     2  2  T⋅k_B    \n",
       "   h̅ ⋅ω ⋅ℯ         \n",
       "────────────────────\n",
       "                   2\n",
       "       ⎛  h̅⋅ω    ⎞ \n",
       "       ⎜ ─────    ⎟ \n",
       " 2     ⎜ T⋅k_B    ⎟ \n",
       "T ⋅k_B⋅⎝ℯ      - 1⎠ "
      ]
     },
     "execution_count": 17,
     "metadata": {},
     "output_type": "execute_result"
    }
   ],
   "source": [
    "simplify(diff(E_T, T))"
   ]
  },
  {
   "cell_type": "code",
   "execution_count": null,
   "metadata": {},
   "outputs": [],
   "source": []
  },
  {
   "cell_type": "code",
   "execution_count": null,
   "metadata": {},
   "outputs": [],
   "source": []
  },
  {
   "cell_type": "code",
   "execution_count": 18,
   "metadata": {},
   "outputs": [
    {
     "data": {
      "image/png": "[encoded data removed]",
      "text/latex": [
       "$$\\frac{\\beta \\hbar^{2} \\omega^{2} e^{\\beta \\hbar \\omega}}{T \\left(e^{\\beta \\hbar \\omega} - 1\\right)^{2}}$$"
      ],
      "text/plain": [
       "    2  2  β⋅h̅⋅ω\n",
       "β⋅h̅ ⋅ω ⋅ℯ      \n",
       "────────────────\n",
       "               2\n",
       "  ⎛ β⋅h̅⋅ω    ⎞ \n",
       "T⋅⎝ℯ       - 1⎠ "
      ]
     },
     "execution_count": 18,
     "metadata": {},
     "output_type": "execute_result"
    }
   ],
   "source": [
    "eksp = simplify(diff(E_T, T))\n",
    "eksp.subs(1/(kB*T), β)"
   ]
  },
  {
   "cell_type": "code",
   "execution_count": 20,
   "metadata": {},
   "outputs": [
    {
     "data": {
      "image/png": "[encoded data removed]",
      "text/latex": [
       "$$\\frac{\\beta^{2} \\hbar^{2} k_{B} \\omega^{2} e^{\\beta \\hbar \\omega}}{\\left(e^{\\beta \\hbar \\omega} - 1\\right)^{2}}$$"
      ],
      "text/plain": [
       " 2   2      2  β⋅h̅⋅ω\n",
       "β ⋅h̅ ⋅k_B⋅ω ⋅ℯ      \n",
       "─────────────────────\n",
       "                 2   \n",
       "    ⎛ β⋅h̅⋅ω    ⎞    \n",
       "    ⎝ℯ       - 1⎠    "
      ]
     },
     "execution_count": 20,
     "metadata": {},
     "output_type": "execute_result"
    }
   ],
   "source": [
    "eksp.subs(1/(kB*T), β).subs(T, 1/(kB*β))"
   ]
  },
  {
   "cell_type": "code",
   "execution_count": 25,
   "metadata": {},
   "outputs": [
    {
     "data": {
      "image/png": "[encoded data removed]",
      "text/latex": [
       "$$\\beta = \\frac{1}{T k_{B}}$$"
      ],
      "text/plain": [
       "      1  \n",
       "β = ─────\n",
       "    T⋅k_B"
      ]
     },
     "execution_count": 25,
     "metadata": {},
     "output_type": "execute_result"
    }
   ],
   "source": [
    "Equality(β,1/(kB*T))"
   ]
  },
  {
   "cell_type": "markdown",
   "metadata": {},
   "source": [
    "Untuk 3 dimensi"
   ]
  },
  {
   "cell_type": "code",
   "execution_count": 21,
   "metadata": {},
   "outputs": [
    {
     "data": {
      "image/png": "[encoded data removed]",
      "text/latex": [
       "$$\\frac{3 \\beta^{2} \\hbar^{2} k_{B} \\omega^{2} e^{\\beta \\hbar \\omega}}{\\left(e^{\\beta \\hbar \\omega} - 1\\right)^{2}}$$"
      ],
      "text/plain": [
       "   2   2      2  β⋅h̅⋅ω\n",
       "3⋅β ⋅h̅ ⋅k_B⋅ω ⋅ℯ      \n",
       "───────────────────────\n",
       "                  2    \n",
       "     ⎛ β⋅h̅⋅ω    ⎞     \n",
       "     ⎝ℯ       - 1⎠     "
      ]
     },
     "execution_count": 21,
     "metadata": {},
     "output_type": "execute_result"
    }
   ],
   "source": [
    "C = 3*kB*(β*ħ*ω)**2 * exp(β*ħ*ω)/(exp(β*ħ*ω) - 1)**2\n",
    "C"
   ]
  },
  {
   "cell_type": "code",
   "execution_count": 22,
   "metadata": {},
   "outputs": [
    {
     "data": {
      "image/png": "[encoded data removed]",
      "text/latex": [
       "$$\\frac{3 e^{\\frac{1}{T}}}{T^{2} \\left(e^{\\frac{1}{T}} - 1\\right)^{2}}$$"
      ],
      "text/plain": [
       "       1    \n",
       "       ─    \n",
       "       T    \n",
       "    3⋅ℯ     \n",
       "────────────\n",
       "           2\n",
       "   ⎛ 1    ⎞ \n",
       "   ⎜ ─    ⎟ \n",
       " 2 ⎜ T    ⎟ \n",
       "T ⋅⎝ℯ  - 1⎠ "
      ]
     },
     "execution_count": 22,
     "metadata": {},
     "output_type": "execute_result"
    }
   ],
   "source": [
    "expr1 = C.subs([(ω,1), (kB,1), (ħ,1), (β,1/T) ] )\n",
    "expr1"
   ]
  },
  {
   "cell_type": "code",
   "execution_count": 23,
   "metadata": {},
   "outputs": [],
   "source": [
    "import numpy as np\n",
    "\n",
    "Npoints = 100\n",
    "T_array = np.linspace(1e-10,2,Npoints)\n",
    "C_array = np.zeros(Npoints)\n",
    "\n",
    "for i in range(Npoints):\n",
    "    C_array[i] = expr1.evalf( subs={T : T_array[i]} )"
   ]
  },
  {
   "cell_type": "code",
   "execution_count": 25,
   "metadata": {},
   "outputs": [],
   "source": [
    "import matplotlib.pyplot as plt\n",
    "import matplotlib"
   ]
  },
  {
   "cell_type": "code",
   "execution_count": 26,
   "metadata": {},
   "outputs": [],
   "source": [
    "from IPython.display import set_matplotlib_formats\n",
    "set_matplotlib_formats(\"svg\")\n",
    "%matplotlib inline"
   ]
  },
  {
   "cell_type": "code",
   "execution_count": 30,
   "metadata": {},
   "outputs": [],
   "source": [
    "matplotlib.rc(\"text\", usetex=True)\n",
    "# alternative:\n",
    "# matplotlib.rcParams['text.usetex'] = True"
   ]
  },
  {
   "cell_type": "code",
   "execution_count": 32,
   "metadata": {},
   "outputs": [],
   "source": [
    "matplotlib.rcParams.update({'font.size': 20})"
   ]
  },
  {
   "cell_type": "code",
   "execution_count": 27,
   "metadata": {},
   "outputs": [],
   "source": [
    "matplotlib.style.use(\"dark_background\")"
   ]
  },
  {
   "cell_type": "code",
   "execution_count": 33,
   "metadata": {},
   "outputs": [
    {
     "data": {
      "text/plain": [
       "Text(0, 0.5, '$C/{3k_B}$')"
      ]
     },
     "execution_count": 33,
     "metadata": {},
     "output_type": "execute_result"
    },
    {
     "data": {
      "text/plain": [
       "<Figure size 432x288 with 0 Axes>"
      ]
     },
     "metadata": {},
     "output_type": "display_data"
    },
    {
     "data": {
      "image/svg+xml": [
       "<?xml version=\"1.0\" encoding=\"utf-8\" standalone=\"no\"?>\n",
       "<!DOCTYPE svg PUBLIC \"-//W3C//DTD SVG 1.1//EN\"\n",
       "  \"http://www.w3.org/Graphics/SVG/1.1/DTD/svg11.dtd\">\n",
       "<!-- Created with matplotlib (https://matplotlib.org/) -->\n",
       "<svg height=\"283.977911pt\" version=\"1.1\" viewBox=\"0 0 416.459002 283.977911\" width=\"416.459002pt\" xmlns=\"http://www.w3.org/2000/svg\" xmlns:xlink=\"http://www.w3.org/1999/xlink\">\n",
       " <defs>\n",
       "  <style type=\"text/css\">\n",
       "*{stroke-linecap:butt;stroke-linejoin:round;}\n",
       "  </style>\n",
       " </defs>\n",
       " <g id=\"figure_1\">\n",
       "  <g id=\"patch_1\">\n",
       "   <path d=\"M 0 283.977911 \n",
       "L 416.459002 283.977911 \n",
       "L 416.459002 0 \n",
       "L 0 0 \n",
       "z\n",
       "\"/>\n",
       "  </g>\n",
       "  <g id=\"axes_1\">\n",
       "   <g id=\"patch_2\">\n",
       "    <path d=\"M 70.959002 228.14 \n",
       "L 405.759002 228.14 \n",
       "L 405.759002 10.7 \n",
       "L 70.959002 10.7 \n",
       "z\n",
       "\"/>\n",
       "   </g>\n",
       "   <g id=\"matplotlib.axis_1\">\n",
       "    <g id=\"xtick_1\">\n",
       "     <g id=\"line2d_1\">\n",
       "      <path clip-path=\"url(#pcd6c0ee8be)\" d=\"M 86.177184 228.14 \n",
       "L 86.177184 10.7 \n",
       "\" style=\"fill:none;stroke:#ffffff;stroke-linecap:square;stroke-width:0.8;\"/>\n",
       "     </g>\n",
       "     <g id=\"line2d_2\">\n",
       "      <defs>\n",
       "       <path d=\"M 0 0 \n",
       "L 0 3.5 \n",
       "\" id=\"m5634e1b7ff\" style=\"stroke:#ffffff;stroke-width:0.8;\"/>\n",
       "      </defs>\n",
       "      <g>\n",
       "       <use style=\"fill:#ffffff;stroke:#ffffff;stroke-width:0.8;\" x=\"86.177184\" xlink:href=\"#m5634e1b7ff\" y=\"228.14\"/>\n",
       "      </g>\n",
       "     </g>\n",
       "     <g id=\"text_1\">\n",
       "      <!-- $0.0$ -->\n",
       "      <defs>\n",
       "       <path d=\"M 42 31.84375 \n",
       "C 42 37.96875 41.90625 48.421875 37.703125 56.453125 \n",
       "C 34 63.484375 28.09375 66 22.90625 66 \n",
       "C 18.09375 66 12 63.78125 8.203125 56.5625 \n",
       "C 4.203125 49.015625 3.796875 39.671875 3.796875 31.84375 \n",
       "C 3.796875 26.109375 3.90625 17.375 7 9.734375 \n",
       "C 11.296875 -0.609375 19 -2 22.90625 -2 \n",
       "C 27.5 -2 34.5 -0.109375 38.59375 9.4375 \n",
       "C 41.59375 16.375 42 24.5 42 31.84375 \n",
       "z\n",
       "M 22.90625 -0.40625 \n",
       "C 16.5 -0.40625 12.703125 5.125 11.296875 12.75 \n",
       "C 10.203125 18.6875 10.203125 27.328125 10.203125 32.953125 \n",
       "C 10.203125 40.6875 10.203125 47.109375 11.5 53.234375 \n",
       "C 13.40625 61.78125 19 64.390625 22.90625 64.390625 \n",
       "C 27 64.390625 32.296875 61.671875 34.203125 53.4375 \n",
       "C 35.5 47.71875 35.59375 40.984375 35.59375 32.953125 \n",
       "C 35.59375 26.421875 35.59375 18.375 34.40625 12.453125 \n",
       "C 32.296875 1.5 26.40625 -0.40625 22.90625 -0.40625 \n",
       "z\n",
       "\" id=\"CMR17-48\"/>\n",
       "       <path d=\"M 18.40625 4.796875 \n",
       "C 18.40625 7.6875 16 9.6875 13.59375 9.6875 \n",
       "C 10.703125 9.6875 8.703125 7.296875 8.703125 4.890625 \n",
       "C 8.703125 2 11.09375 0 13.5 0 \n",
       "C 16.40625 0 18.40625 2.390625 18.40625 4.796875 \n",
       "z\n",
       "\" id=\"CMMI12-58\"/>\n",
       "      </defs>\n",
       "      <g style=\"fill:#ffffff;\" transform=\"translate(74.329371 248.976997)scale(0.2 -0.2)\">\n",
       "       <use transform=\"scale(0.996264)\" xlink:href=\"#CMR17-48\"/>\n",
       "       <use transform=\"translate(45.690477 0)scale(0.996264)\" xlink:href=\"#CMMI12-58\"/>\n",
       "       <use transform=\"translate(72.787654 0)scale(0.996264)\" xlink:href=\"#CMR17-48\"/>\n",
       "      </g>\n",
       "     </g>\n",
       "    </g>\n",
       "    <g id=\"xtick_2\">\n",
       "     <g id=\"line2d_3\">\n",
       "      <path clip-path=\"url(#pcd6c0ee8be)\" d=\"M 162.268093 228.14 \n",
       "L 162.268093 10.7 \n",
       "\" style=\"fill:none;stroke:#ffffff;stroke-linecap:square;stroke-width:0.8;\"/>\n",
       "     </g>\n",
       "     <g id=\"line2d_4\">\n",
       "      <g>\n",
       "       <use style=\"fill:#ffffff;stroke:#ffffff;stroke-width:0.8;\" x=\"162.268093\" xlink:href=\"#m5634e1b7ff\" y=\"228.14\"/>\n",
       "      </g>\n",
       "     </g>\n",
       "     <g id=\"text_2\">\n",
       "      <!-- $0.5$ -->\n",
       "      <defs>\n",
       "       <path d=\"M 11.40625 58.59375 \n",
       "C 12.40625 58.1875 16.5 56.890625 20.703125 56.890625 \n",
       "C 30 56.890625 35.09375 61.890625 38 64.6875 \n",
       "C 38 65.484375 38 66 37.40625 66 \n",
       "C 37.296875 66 37.09375 66 36.296875 65.59375 \n",
       "C 32.796875 64.09375 28.703125 63 23.703125 63 \n",
       "C 20.703125 63 16.203125 63.359375 11.296875 65.484375 \n",
       "C 10.203125 66 10 66 9.90625 66 \n",
       "C 9.40625 66 9.296875 65.890625 9.296875 63.90625 \n",
       "L 9.296875 34.859375 \n",
       "C 9.296875 33.015625 9.296875 32.5 10.296875 32.5 \n",
       "C 10.796875 32.5 11 32.703125 11.5 33.421875 \n",
       "C 14.703125 38.046875 19.09375 40 24.09375 40 \n",
       "C 27.59375 40 35.09375 37.734375 35.09375 20.203125 \n",
       "C 35.09375 16.984375 35.09375 11.1875 32.09375 6.59375 \n",
       "C 29.59375 2.484375 25.703125 0.390625 21.40625 0.390625 \n",
       "C 14.796875 0.390625 8.09375 4.984375 6.296875 12.6875 \n",
       "C 6.703125 12.59375 7.5 12.390625 7.90625 12.390625 \n",
       "C 9.203125 12.390625 11.703125 13.09375 11.703125 16.1875 \n",
       "C 11.703125 18.890625 9.796875 20 7.90625 20 \n",
       "C 5.59375 20 4.09375 18.59375 4.09375 15.796875 \n",
       "C 4.09375 7.09375 11 -2 21.59375 -2 \n",
       "C 31.90625 -2 41.703125 6.890625 41.703125 19.796875 \n",
       "C 41.703125 32.09375 33.90625 41.59375 24.203125 41.59375 \n",
       "C 19.09375 41.59375 14.796875 39.6875 11.40625 36 \n",
       "z\n",
       "\" id=\"CMR17-53\"/>\n",
       "      </defs>\n",
       "      <g style=\"fill:#ffffff;\" transform=\"translate(150.42028 248.976997)scale(0.2 -0.2)\">\n",
       "       <use transform=\"scale(0.996264)\" xlink:href=\"#CMR17-48\"/>\n",
       "       <use transform=\"translate(45.690477 0)scale(0.996264)\" xlink:href=\"#CMMI12-58\"/>\n",
       "       <use transform=\"translate(72.787654 0)scale(0.996264)\" xlink:href=\"#CMR17-53\"/>\n",
       "      </g>\n",
       "     </g>\n",
       "    </g>\n",
       "    <g id=\"xtick_3\">\n",
       "     <g id=\"line2d_5\">\n",
       "      <path clip-path=\"url(#pcd6c0ee8be)\" d=\"M 238.359002 228.14 \n",
       "L 238.359002 10.7 \n",
       "\" style=\"fill:none;stroke:#ffffff;stroke-linecap:square;stroke-width:0.8;\"/>\n",
       "     </g>\n",
       "     <g id=\"line2d_6\">\n",
       "      <g>\n",
       "       <use style=\"fill:#ffffff;stroke:#ffffff;stroke-width:0.8;\" x=\"238.359002\" xlink:href=\"#m5634e1b7ff\" y=\"228.14\"/>\n",
       "      </g>\n",
       "     </g>\n",
       "     <g id=\"text_3\">\n",
       "      <!-- $1.0$ -->\n",
       "      <defs>\n",
       "       <path d=\"M 26.59375 63.796875 \n",
       "C 26.59375 65.890625 26.5 66 25.09375 66 \n",
       "C 21.203125 61.359375 15.296875 59.890625 9.703125 59.6875 \n",
       "C 9.40625 59.6875 8.90625 59.6875 8.796875 59.5 \n",
       "C 8.703125 59.296875 8.703125 59.09375 8.703125 57 \n",
       "C 11.796875 57 17 57.59375 21 59.984375 \n",
       "L 21 7.296875 \n",
       "C 21 3.796875 20.796875 2.59375 12.203125 2.59375 \n",
       "L 9.203125 2.59375 \n",
       "L 9.203125 0 \n",
       "C 14 0.09375 19 0.1875 23.796875 0.1875 \n",
       "C 28.59375 0.1875 33.59375 0.09375 38.40625 0 \n",
       "L 38.40625 2.59375 \n",
       "L 35.40625 2.59375 \n",
       "C 26.796875 2.59375 26.59375 3.6875 26.59375 7.296875 \n",
       "z\n",
       "\" id=\"CMR17-49\"/>\n",
       "      </defs>\n",
       "      <g style=\"fill:#ffffff;\" transform=\"translate(226.511189 248.976997)scale(0.2 -0.2)\">\n",
       "       <use transform=\"scale(0.996264)\" xlink:href=\"#CMR17-49\"/>\n",
       "       <use transform=\"translate(45.690477 0)scale(0.996264)\" xlink:href=\"#CMMI12-58\"/>\n",
       "       <use transform=\"translate(72.787654 0)scale(0.996264)\" xlink:href=\"#CMR17-48\"/>\n",
       "      </g>\n",
       "     </g>\n",
       "    </g>\n",
       "    <g id=\"xtick_4\">\n",
       "     <g id=\"line2d_7\">\n",
       "      <path clip-path=\"url(#pcd6c0ee8be)\" d=\"M 314.449911 228.14 \n",
       "L 314.449911 10.7 \n",
       "\" style=\"fill:none;stroke:#ffffff;stroke-linecap:square;stroke-width:0.8;\"/>\n",
       "     </g>\n",
       "     <g id=\"line2d_8\">\n",
       "      <g>\n",
       "       <use style=\"fill:#ffffff;stroke:#ffffff;stroke-width:0.8;\" x=\"314.449911\" xlink:href=\"#m5634e1b7ff\" y=\"228.14\"/>\n",
       "      </g>\n",
       "     </g>\n",
       "     <g id=\"text_4\">\n",
       "      <!-- $1.5$ -->\n",
       "      <g style=\"fill:#ffffff;\" transform=\"translate(302.602098 248.976997)scale(0.2 -0.2)\">\n",
       "       <use transform=\"scale(0.996264)\" xlink:href=\"#CMR17-49\"/>\n",
       "       <use transform=\"translate(45.690477 0)scale(0.996264)\" xlink:href=\"#CMMI12-58\"/>\n",
       "       <use transform=\"translate(72.787654 0)scale(0.996264)\" xlink:href=\"#CMR17-53\"/>\n",
       "      </g>\n",
       "     </g>\n",
       "    </g>\n",
       "    <g id=\"xtick_5\">\n",
       "     <g id=\"line2d_9\">\n",
       "      <path clip-path=\"url(#pcd6c0ee8be)\" d=\"M 390.54082 228.14 \n",
       "L 390.54082 10.7 \n",
       "\" style=\"fill:none;stroke:#ffffff;stroke-linecap:square;stroke-width:0.8;\"/>\n",
       "     </g>\n",
       "     <g id=\"line2d_10\">\n",
       "      <g>\n",
       "       <use style=\"fill:#ffffff;stroke:#ffffff;stroke-width:0.8;\" x=\"390.54082\" xlink:href=\"#m5634e1b7ff\" y=\"228.14\"/>\n",
       "      </g>\n",
       "     </g>\n",
       "     <g id=\"text_5\">\n",
       "      <!-- $2.0$ -->\n",
       "      <defs>\n",
       "       <path d=\"M 41.703125 15.46875 \n",
       "L 39.90625 15.46875 \n",
       "C 38.90625 8.390625 38.09375 7.1875 37.703125 6.59375 \n",
       "C 37.203125 5.796875 30 5.796875 28.59375 5.796875 \n",
       "L 9.40625 5.796875 \n",
       "C 13 9.6875 20 16.765625 28.5 24.9375 \n",
       "C 34.59375 30.71875 41.703125 37.5 41.703125 47.390625 \n",
       "C 41.703125 59.1875 32.296875 66 21.796875 66 \n",
       "C 10.796875 66 4.09375 56.296875 4.09375 47.296875 \n",
       "C 4.09375 43.390625 7 42.890625 8.203125 42.890625 \n",
       "C 9.203125 42.890625 12.203125 43.484375 12.203125 46.984375 \n",
       "C 12.203125 50.09375 9.59375 51 8.203125 51 \n",
       "C 7.59375 51 7 50.890625 6.59375 50.6875 \n",
       "C 8.5 59.1875 14.296875 63.390625 20.40625 63.390625 \n",
       "C 29.09375 63.390625 34.796875 56.5 34.796875 47.390625 \n",
       "C 34.796875 38.703125 29.703125 31.21875 24 24.734375 \n",
       "L 4.09375 2.296875 \n",
       "L 4.09375 0 \n",
       "L 39.296875 0 \n",
       "z\n",
       "\" id=\"CMR17-50\"/>\n",
       "      </defs>\n",
       "      <g style=\"fill:#ffffff;\" transform=\"translate(378.693007 248.976997)scale(0.2 -0.2)\">\n",
       "       <use transform=\"scale(0.996264)\" xlink:href=\"#CMR17-50\"/>\n",
       "       <use transform=\"translate(45.690477 0)scale(0.996264)\" xlink:href=\"#CMMI12-58\"/>\n",
       "       <use transform=\"translate(72.787654 0)scale(0.996264)\" xlink:href=\"#CMR17-48\"/>\n",
       "      </g>\n",
       "     </g>\n",
       "    </g>\n",
       "    <g id=\"text_6\">\n",
       "     <!-- $1 / \\beta\\hbar\\omega = k_B T / \\hbar\\omega$ -->\n",
       "     <defs>\n",
       "      <path d=\"M 42.90625 71.296875 \n",
       "C 42.90625 71.390625 43.5 72.890625 43.5 73.09375 \n",
       "C 43.5 74.296875 42.5 75 41.703125 75 \n",
       "C 41.203125 75 40.296875 75 39.5 72.796875 \n",
       "L 6 -21.3125 \n",
       "C 6 -21.40625 5.40625 -22.90625 5.40625 -23.109375 \n",
       "C 5.40625 -24.3125 6.40625 -25 7.203125 -25 \n",
       "C 7.796875 -25 8.703125 -24.90625 9.40625 -22.8125 \n",
       "z\n",
       "\" id=\"CMMI12-61\"/>\n",
       "      <path d=\"M 56.59375 58.421875 \n",
       "C 56.59375 64.546875 51.5 71 42.40625 71 \n",
       "C 29.5 71 21.296875 54.84375 18.703125 44.21875 \n",
       "L 2.90625 -18 \n",
       "C 2.703125 -18.8125 3.296875 -19 3.796875 -19 \n",
       "C 4.5 -19 5 -18.90625 5.09375 -18.40625 \n",
       "L 12.09375 9.25 \n",
       "C 13.09375 3.609375 18.59375 -1 24.5 -1 \n",
       "C 38.796875 -1 52.296875 10.265625 52.296875 25.28125 \n",
       "C 52.296875 29.109375 51.40625 32.9375 49.296875 36.15625 \n",
       "C 48.09375 38.078125 46.59375 39.484375 45 40.609375 \n",
       "C 52.203125 44.109375 56.59375 50.34375 56.59375 58.421875 \n",
       "z\n",
       "M 39.203125 40.703125 \n",
       "C 37.59375 40.171875 36 40 34.09375 40 \n",
       "C 32.703125 40 31.40625 39.890625 29.59375 40.4375 \n",
       "C 30.59375 41.046875 32.09375 41.234375 34.203125 41.234375 \n",
       "C 36 41.234375 37.796875 41.046875 39.203125 40.703125 \n",
       "z\n",
       "M 51.40625 59.34375 \n",
       "C 51.40625 53.71875 48.703125 45.546875 42.203125 41.9375 \n",
       "C 40.296875 42.546875 37.703125 43 35.5 43 \n",
       "C 33.40625 43 27.40625 43.203125 27.40625 40.34375 \n",
       "C 27.40625 37.671875 32.90625 37.96875 34.59375 37.96875 \n",
       "C 37.203125 37.96875 39.5 38.578125 41.90625 39.28125 \n",
       "C 45.09375 36.671875 46.5 33.234375 46.5 28.203125 \n",
       "C 46.5 22.359375 44.90625 17.625 43 13.28125 \n",
       "C 39.703125 5.828125 31.90625 1 25 1 \n",
       "C 17.703125 1 13.90625 6.84375 13.90625 13.6875 \n",
       "C 13.90625 14.59375 13.90625 15.90625 14.296875 17.421875 \n",
       "L 20.796875 43.5 \n",
       "C 24.09375 56.890625 32.5 68.953125 42.203125 68.953125 \n",
       "C 49.40625 68.953125 51.40625 63.84375 51.40625 59.34375 \n",
       "z\n",
       "\" id=\"CMMI12-12\"/>\n",
       "      <path d=\"M 39.90625 55 \n",
       "L 39.90625 57.296875 \n",
       "L 5.90625 57.296875 \n",
       "L 5.90625 55 \n",
       "z\n",
       "\" id=\"CMR17-22\"/>\n",
       "      <path d=\"M 28.09375 66.484375 \n",
       "C 28.203125 66.890625 28.40625 67.484375 28.40625 67.984375 \n",
       "C 28.40625 69 27.40625 69 27.203125 69 \n",
       "C 27.09375 69 22.203125 68.59375 21.703125 68.484375 \n",
       "C 20 68.390625 18.5 68.1875 16.703125 68.09375 \n",
       "C 14.203125 67.890625 13.5 67.796875 13.5 65.984375 \n",
       "C 13.5 64.984375 14.296875 64.984375 15.703125 64.984375 \n",
       "C 20.59375 64.984375 20.703125 64.109375 20.703125 63.125 \n",
       "C 20.703125 62.53125 20.5 61.734375 20.40625 61.4375 \n",
       "L 5.90625 3.890625 \n",
       "C 5.5 2.390625 5.5 2.1875 5.5 1.59375 \n",
       "C 5.5 -0.609375 7.203125 -1 8.203125 -1 \n",
       "C 9.90625 -1 11.203125 0.296875 11.703125 1.390625 \n",
       "L 16.203125 19.453125 \n",
       "C 16.703125 21.640625 17.296875 23.734375 17.796875 25.9375 \n",
       "C 18.90625 30.125 18.90625 30.21875 20.796875 33.109375 \n",
       "C 22.703125 36.015625 27.203125 41.984375 34.90625 41.984375 \n",
       "C 38.90625 41.984375 40.296875 39 40.296875 35.015625 \n",
       "C 40.296875 29.421875 36.40625 18.546875 34.203125 12.5625 \n",
       "C 33.296875 10.171875 32.796875 8.875 32.796875 7.078125 \n",
       "C 32.796875 2.59375 35.90625 -1 40.703125 -1 \n",
       "C 50 -1 53.5 13.65625 53.5 14.265625 \n",
       "C 53.5 14.765625 53.09375 15.15625 52.5 15.15625 \n",
       "C 51.59375 15.15625 51.5 14.859375 51 13.15625 \n",
       "C 48.703125 5.1875 45 1 41 1 \n",
       "C 40 1 38.40625 1.09375 38.40625 4.28125 \n",
       "C 38.40625 6.875 39.59375 10.078125 40 11.171875 \n",
       "C 41.796875 15.953125 46.296875 27.734375 46.296875 33.515625 \n",
       "C 46.296875 39.5 42.796875 44 35.203125 44 \n",
       "C 29.5 44 24.5 41.296875 20.40625 36.109375 \n",
       "z\n",
       "\" id=\"CMMI12-104\"/>\n",
       "      <path d=\"M 59.40625 37.59375 \n",
       "C 59.40625 40.5 58.59375 44.1875 55.09375 44.1875 \n",
       "C 53.09375 44.1875 50.796875 41.6875 50.796875 39.6875 \n",
       "C 50.796875 38.796875 51.203125 38.1875 52 37.296875 \n",
       "C 53.5 35.59375 55.40625 32.890625 55.40625 28.1875 \n",
       "C 55.40625 24.59375 53.203125 18.890625 51.59375 15.796875 \n",
       "C 48.796875 10.296875 44.203125 5.59375 39 5.59375 \n",
       "C 32.703125 5.59375 30.296875 9.59375 29.203125 15.1875 \n",
       "C 30.296875 17.796875 32.59375 24.296875 32.59375 26.890625 \n",
       "C 32.59375 28 32.203125 28.890625 30.90625 28.890625 \n",
       "C 30.203125 28.890625 29.40625 28.5 28.90625 27.6875 \n",
       "C 27.5 25.5 26.203125 17.59375 26.296875 15.5 \n",
       "C 24.40625 11.796875 19 5.59375 12.59375 5.59375 \n",
       "C 5.90625 5.59375 4.09375 11.5 4.09375 17.1875 \n",
       "C 4.09375 27.59375 10.59375 36.6875 12.40625 39.1875 \n",
       "C 13.40625 40.6875 14.09375 41.6875 14.09375 41.890625 \n",
       "C 14.09375 42.59375 13.703125 43.6875 12.796875 43.6875 \n",
       "C 11.203125 43.6875 10.703125 42.390625 9.90625 41.1875 \n",
       "C 4.796875 33.296875 1.203125 22.1875 1.203125 12.59375 \n",
       "C 1.203125 6.390625 3.5 -1 11 -1 \n",
       "C 19.296875 -1 24.5 6.09375 26.59375 9.890625 \n",
       "C 27.40625 4.296875 30.40625 -1 37.703125 -1 \n",
       "C 45.296875 -1 50.09375 5.6875 53.703125 13.796875 \n",
       "C 56.296875 19.59375 59.40625 32.09375 59.40625 37.59375 \n",
       "z\n",
       "\" id=\"CMMI12-33\"/>\n",
       "      <path d=\"M 64.296875 32 \n",
       "C 65.796875 32 67.296875 32 67.296875 33.6875 \n",
       "C 67.296875 35.5 65.59375 35.5 63.90625 35.5 \n",
       "L 8 35.5 \n",
       "C 6.296875 35.5 4.59375 35.5 4.59375 33.6875 \n",
       "C 4.59375 32 6.09375 32 7.59375 32 \n",
       "z\n",
       "M 63.90625 14.484375 \n",
       "C 65.59375 14.484375 67.296875 14.484375 67.296875 16.296875 \n",
       "C 67.296875 18 65.796875 18 64.296875 18 \n",
       "L 7.59375 18 \n",
       "C 6.09375 18 4.59375 18 4.59375 16.296875 \n",
       "C 4.59375 14.484375 6.296875 14.484375 8 14.484375 \n",
       "z\n",
       "\" id=\"CMR17-61\"/>\n",
       "      <path d=\"M 28.09375 66.484375 \n",
       "C 28.203125 66.890625 28.40625 67.484375 28.40625 67.984375 \n",
       "C 28.40625 69 27.40625 69 27.203125 69 \n",
       "C 27.09375 69 23.5 68.6875 21.703125 68.484375 \n",
       "C 20 68.390625 18.5 68.1875 16.703125 68.09375 \n",
       "C 14.296875 67.890625 13.59375 67.796875 13.59375 65.984375 \n",
       "C 13.59375 64.984375 14.59375 64.984375 15.59375 64.984375 \n",
       "C 20.703125 64.984375 20.703125 64.109375 20.703125 63.125 \n",
       "C 20.703125 62.71875 20.703125 62.53125 20.203125 60.75 \n",
       "L 5.90625 3.90625 \n",
       "C 5.5 2.390625 5.5 2.203125 5.5 1.59375 \n",
       "C 5.5 -0.609375 7.203125 -1 8.203125 -1 \n",
       "C 11 -1 11.59375 1.1875 12.40625 4.296875 \n",
       "L 17.09375 23.0625 \n",
       "C 24.296875 22.265625 28.59375 19.25 28.59375 14.4375 \n",
       "C 28.59375 13.828125 28.59375 13.4375 28.296875 11.921875 \n",
       "C 27.90625 10.421875 27.90625 9.21875 27.90625 8.71875 \n",
       "C 27.90625 2.890625 31.703125 -1 36.796875 -1 \n",
       "C 41.40625 -1 43.796875 3.203125 44.59375 4.609375 \n",
       "C 46.703125 8.3125 48 13.9375 48 14.328125 \n",
       "C 48 14.828125 47.59375 15.234375 47 15.234375 \n",
       "C 46.09375 15.234375 46 14.828125 45.59375 13.234375 \n",
       "C 44.203125 8.015625 42.09375 1 37 1 \n",
       "C 35 1 33.703125 2 33.703125 5.8125 \n",
       "C 33.703125 7.71875 34.09375 9.921875 34.5 11.421875 \n",
       "C 34.90625 13.234375 34.90625 13.328125 34.90625 14.53125 \n",
       "C 34.90625 20.453125 29.59375 23.765625 20.40625 24.96875 \n",
       "C 24 27.171875 27.59375 31.078125 29 32.59375 \n",
       "C 34.703125 38.984375 38.59375 41.984375 43.203125 41.984375 \n",
       "C 45.5 41.984375 46.09375 41.484375 46.796875 41 \n",
       "C 43.09375 40.59375 41.703125 37.984375 41.703125 35.984375 \n",
       "C 41.703125 33.59375 43.59375 32.796875 45 32.796875 \n",
       "C 47.703125 32.796875 50.09375 35.09375 50.09375 38.296875 \n",
       "C 50.09375 41.15625 47.796875 44 43.296875 44 \n",
       "C 37.796875 44 33.296875 40.296875 26.203125 32.296875 \n",
       "C 25.203125 31.078125 21.5 27.28125 17.796875 25.875 \n",
       "z\n",
       "\" id=\"CMMI12-107\"/>\n",
       "      <path d=\"M 36.59375 61.171875 \n",
       "C 37.5 64.890625 37.90625 65.09375 41.796875 65.09375 \n",
       "L 54.796875 65.09375 \n",
       "C 66.09375 65.09375 66.09375 55.421875 66.09375 54.515625 \n",
       "C 66.09375 46.359375 58 36 44.796875 36 \n",
       "L 30.40625 36 \n",
       "z\n",
       "M 53.5 35.1875 \n",
       "C 64.40625 37.203125 74.296875 44.859375 74.296875 54.109375 \n",
       "C 74.296875 61.96875 67.40625 68 56.09375 68 \n",
       "L 24 68 \n",
       "C 22.09375 68 21.203125 68 21.203125 66.09375 \n",
       "C 21.203125 65.09375 22.09375 65.09375 23.59375 65.09375 \n",
       "C 29.703125 65.09375 29.703125 64.28125 29.703125 63.171875 \n",
       "C 29.703125 62.984375 29.703125 62.375 29.296875 60.859375 \n",
       "L 15.796875 7.328125 \n",
       "C 14.90625 3.875 14.703125 2.890625 7.703125 2.890625 \n",
       "C 5.796875 2.890625 4.796875 2.890625 4.796875 1.09375 \n",
       "C 4.796875 0 5.40625 0 7.40625 0 \n",
       "L 41.703125 0 \n",
       "C 57 0 68.796875 11.453125 68.796875 21.390625 \n",
       "C 68.796875 29.46875 61.59375 34.390625 53.5 35.1875 \n",
       "z\n",
       "M 39.296875 2.890625 \n",
       "L 25.796875 2.890625 \n",
       "C 24.40625 2.890625 24.203125 2.890625 23.59375 2.984375 \n",
       "C 22.5 3.09375 22.40625 3.28125 22.40625 4.078125 \n",
       "C 22.40625 4.765625 22.59375 5.359375 22.796875 6.234375 \n",
       "L 29.796875 34 \n",
       "L 48.59375 34 \n",
       "C 60.40625 34 60.40625 23.171875 60.40625 22.375 \n",
       "C 60.40625 12.9375 51.703125 2.890625 39.296875 2.890625 \n",
       "z\n",
       "\" id=\"CMMI12-66\"/>\n",
       "      <path d=\"M 41.703125 60.71875 \n",
       "C 42.296875 63.09375 42.5 64 44 64.390625 \n",
       "C 44.796875 64.59375 48.09375 64.59375 50.203125 64.59375 \n",
       "C 60.203125 64.59375 64.90625 64.203125 64.90625 56.4375 \n",
       "C 64.90625 54.9375 64.5 51.15625 63.90625 47.46875 \n",
       "L 63.796875 46.28125 \n",
       "C 63.796875 45.890625 64.203125 45.28125 64.796875 45.28125 \n",
       "C 65.796875 45.28125 65.796875 45.78125 66.09375 47.375 \n",
       "L 69 64.984375 \n",
       "C 69.203125 65.890625 69.203125 66.09375 69.203125 66.390625 \n",
       "C 69.203125 67.484375 68.59375 67.484375 66.59375 67.484375 \n",
       "L 11.90625 67.484375 \n",
       "C 9.59375 67.484375 9.5 67.390625 8.90625 65.59375 \n",
       "L 2.796875 47.671875 \n",
       "C 2.703125 47.46875 2.40625 46.375 2.40625 46.28125 \n",
       "C 2.40625 45.78125 2.796875 45.28125 3.40625 45.28125 \n",
       "C 4.203125 45.28125 4.40625 45.6875 4.796875 46.984375 \n",
       "C 9 59.015625 11.09375 64.59375 24.40625 64.59375 \n",
       "L 31.09375 64.59375 \n",
       "C 33.5 64.59375 34.5 64.59375 34.5 63.5 \n",
       "C 34.5 63.203125 34.5 63 34 61.203125 \n",
       "L 20.59375 7.765625 \n",
       "C 19.59375 3.890625 19.40625 2.890625 8.796875 2.890625 \n",
       "C 6.296875 2.890625 5.59375 2.890625 5.59375 1 \n",
       "C 5.59375 0 6.703125 0 7.203125 0 \n",
       "C 9.703125 0 12.296875 0.1875 14.796875 0.1875 \n",
       "L 30.40625 0.1875 \n",
       "C 32.90625 0.1875 35.59375 0 38.09375 0 \n",
       "C 39.203125 0 40.203125 0 40.203125 1.890625 \n",
       "C 40.203125 2.890625 39.5 2.890625 36.90625 2.890625 \n",
       "C 27.90625 2.890625 27.90625 3.78125 27.90625 5.28125 \n",
       "C 27.90625 5.375 27.90625 6.078125 28.296875 7.671875 \n",
       "z\n",
       "\" id=\"CMMI12-84\"/>\n",
       "     </defs>\n",
       "     <g style=\"fill:#ffffff;\" transform=\"translate(164.693232 272.902277)scale(0.2 -0.2)\">\n",
       "      <use transform=\"translate(0 14.943915)scale(0.996264)\" xlink:href=\"#CMR17-49\"/>\n",
       "      <use transform=\"translate(45.690477 14.943915)scale(0.996264)\" xlink:href=\"#CMMI12-61\"/>\n",
       "      <use transform=\"translate(94.465396 14.943915)scale(0.996264)\" xlink:href=\"#CMMI12-12\"/>\n",
       "      <use transform=\"translate(155.059412 14.943915)scale(0.996264)\" xlink:href=\"#CMR17-22\"/>\n",
       "      <use transform=\"translate(150.936673 14.943915)scale(0.996264)\" xlink:href=\"#CMMI12-104\"/>\n",
       "      <use transform=\"translate(207.091297 14.943915)scale(0.996264)\" xlink:href=\"#CMMI12-33\"/>\n",
       "      <use transform=\"translate(299.083652 14.943915)scale(0.996264)\" xlink:href=\"#CMR17-61\"/>\n",
       "      <use transform=\"translate(398.472449 14.943915)scale(0.996264)\" xlink:href=\"#CMMI12-107\"/>\n",
       "      <use transform=\"translate(449.207637 0)scale(0.697382)\" xlink:href=\"#CMMI12-66\"/>\n",
       "      <use transform=\"translate(505.100396 14.943915)scale(0.996264)\" xlink:href=\"#CMMI12-84\"/>\n",
       "      <use transform=\"translate(573.11431 14.943915)scale(0.996264)\" xlink:href=\"#CMMI12-61\"/>\n",
       "      <use transform=\"translate(621.889229 14.943915)scale(0.996264)\" xlink:href=\"#CMR17-22\"/>\n",
       "      <use transform=\"translate(617.76649 14.943915)scale(0.996264)\" xlink:href=\"#CMMI12-104\"/>\n",
       "      <use transform=\"translate(673.921114 14.943915)scale(0.996264)\" xlink:href=\"#CMMI12-33\"/>\n",
       "     </g>\n",
       "    </g>\n",
       "   </g>\n",
       "   <g id=\"matplotlib.axis_2\">\n",
       "    <g id=\"ytick_1\">\n",
       "     <g id=\"line2d_11\">\n",
       "      <path clip-path=\"url(#pcd6c0ee8be)\" d=\"M 70.959002 218.256364 \n",
       "L 405.759002 218.256364 \n",
       "\" style=\"fill:none;stroke:#ffffff;stroke-linecap:square;stroke-width:0.8;\"/>\n",
       "     </g>\n",
       "     <g id=\"line2d_12\">\n",
       "      <defs>\n",
       "       <path d=\"M 0 0 \n",
       "L -3.5 0 \n",
       "\" id=\"mde26a2fb05\" style=\"stroke:#ffffff;stroke-width:0.8;\"/>\n",
       "      </defs>\n",
       "      <g>\n",
       "       <use style=\"fill:#ffffff;stroke:#ffffff;stroke-width:0.8;\" x=\"70.959002\" xlink:href=\"#mde26a2fb05\" y=\"218.256364\"/>\n",
       "      </g>\n",
       "     </g>\n",
       "     <g id=\"text_7\">\n",
       "      <!-- $0.00$ -->\n",
       "      <g style=\"fill:#ffffff;\" transform=\"translate(31.12528 225.174862)scale(0.2 -0.2)\">\n",
       "       <use transform=\"scale(0.996264)\" xlink:href=\"#CMR17-48\"/>\n",
       "       <use transform=\"translate(45.690477 0)scale(0.996264)\" xlink:href=\"#CMMI12-58\"/>\n",
       "       <use transform=\"translate(72.787654 0)scale(0.996264)\" xlink:href=\"#CMR17-48\"/>\n",
       "       <use transform=\"translate(118.478131 0)scale(0.996264)\" xlink:href=\"#CMR17-48\"/>\n",
       "      </g>\n",
       "     </g>\n",
       "    </g>\n",
       "    <g id=\"ytick_2\">\n",
       "     <g id=\"line2d_13\">\n",
       "      <path clip-path=\"url(#pcd6c0ee8be)\" d=\"M 70.959002 167.800018 \n",
       "L 405.759002 167.800018 \n",
       "\" style=\"fill:none;stroke:#ffffff;stroke-linecap:square;stroke-width:0.8;\"/>\n",
       "     </g>\n",
       "     <g id=\"line2d_14\">\n",
       "      <g>\n",
       "       <use style=\"fill:#ffffff;stroke:#ffffff;stroke-width:0.8;\" x=\"70.959002\" xlink:href=\"#mde26a2fb05\" y=\"167.800018\"/>\n",
       "      </g>\n",
       "     </g>\n",
       "     <g id=\"text_8\">\n",
       "      <!-- $0.25$ -->\n",
       "      <g style=\"fill:#ffffff;\" transform=\"translate(31.12528 174.718517)scale(0.2 -0.2)\">\n",
       "       <use transform=\"scale(0.996264)\" xlink:href=\"#CMR17-48\"/>\n",
       "       <use transform=\"translate(45.690477 0)scale(0.996264)\" xlink:href=\"#CMMI12-58\"/>\n",
       "       <use transform=\"translate(72.787654 0)scale(0.996264)\" xlink:href=\"#CMR17-50\"/>\n",
       "       <use transform=\"translate(118.478131 0)scale(0.996264)\" xlink:href=\"#CMR17-53\"/>\n",
       "      </g>\n",
       "     </g>\n",
       "    </g>\n",
       "    <g id=\"ytick_3\">\n",
       "     <g id=\"line2d_15\">\n",
       "      <path clip-path=\"url(#pcd6c0ee8be)\" d=\"M 70.959002 117.343673 \n",
       "L 405.759002 117.343673 \n",
       "\" style=\"fill:none;stroke:#ffffff;stroke-linecap:square;stroke-width:0.8;\"/>\n",
       "     </g>\n",
       "     <g id=\"line2d_16\">\n",
       "      <g>\n",
       "       <use style=\"fill:#ffffff;stroke:#ffffff;stroke-width:0.8;\" x=\"70.959002\" xlink:href=\"#mde26a2fb05\" y=\"117.343673\"/>\n",
       "      </g>\n",
       "     </g>\n",
       "     <g id=\"text_9\">\n",
       "      <!-- $0.50$ -->\n",
       "      <g style=\"fill:#ffffff;\" transform=\"translate(31.12528 124.262172)scale(0.2 -0.2)\">\n",
       "       <use transform=\"scale(0.996264)\" xlink:href=\"#CMR17-48\"/>\n",
       "       <use transform=\"translate(45.690477 0)scale(0.996264)\" xlink:href=\"#CMMI12-58\"/>\n",
       "       <use transform=\"translate(72.787654 0)scale(0.996264)\" xlink:href=\"#CMR17-53\"/>\n",
       "       <use transform=\"translate(118.478131 0)scale(0.996264)\" xlink:href=\"#CMR17-48\"/>\n",
       "      </g>\n",
       "     </g>\n",
       "    </g>\n",
       "    <g id=\"ytick_4\">\n",
       "     <g id=\"line2d_17\">\n",
       "      <path clip-path=\"url(#pcd6c0ee8be)\" d=\"M 70.959002 66.887328 \n",
       "L 405.759002 66.887328 \n",
       "\" style=\"fill:none;stroke:#ffffff;stroke-linecap:square;stroke-width:0.8;\"/>\n",
       "     </g>\n",
       "     <g id=\"line2d_18\">\n",
       "      <g>\n",
       "       <use style=\"fill:#ffffff;stroke:#ffffff;stroke-width:0.8;\" x=\"70.959002\" xlink:href=\"#mde26a2fb05\" y=\"66.887328\"/>\n",
       "      </g>\n",
       "     </g>\n",
       "     <g id=\"text_10\">\n",
       "      <!-- $0.75$ -->\n",
       "      <defs>\n",
       "       <path d=\"M 45.09375 61.796875 \n",
       "L 45.09375 64 \n",
       "L 21.59375 64 \n",
       "C 9.90625 64 9.703125 65.09375 9.296875 67 \n",
       "L 7.5 67 \n",
       "L 4.59375 48.5 \n",
       "L 6.40625 48.5 \n",
       "C 6.703125 50.40625 7.40625 55.5 8.59375 57.390625 \n",
       "C 9.203125 58.1875 16.59375 58.1875 18.296875 58.1875 \n",
       "L 40.296875 58.1875 \n",
       "L 29.203125 41.71875 \n",
       "C 21.796875 30.640625 16.703125 15.671875 16.703125 2.59375 \n",
       "C 16.703125 1.390625 16.703125 -2 20.296875 -2 \n",
       "C 23.90625 -2 23.90625 1.390625 23.90625 2.6875 \n",
       "L 23.90625 7.28125 \n",
       "C 23.90625 23.65625 26.703125 34.4375 31.296875 41.3125 \n",
       "z\n",
       "\" id=\"CMR17-55\"/>\n",
       "      </defs>\n",
       "      <g style=\"fill:#ffffff;\" transform=\"translate(31.12528 73.805826)scale(0.2 -0.2)\">\n",
       "       <use transform=\"scale(0.996264)\" xlink:href=\"#CMR17-48\"/>\n",
       "       <use transform=\"translate(45.690477 0)scale(0.996264)\" xlink:href=\"#CMMI12-58\"/>\n",
       "       <use transform=\"translate(72.787654 0)scale(0.996264)\" xlink:href=\"#CMR17-55\"/>\n",
       "       <use transform=\"translate(118.478131 0)scale(0.996264)\" xlink:href=\"#CMR17-53\"/>\n",
       "      </g>\n",
       "     </g>\n",
       "    </g>\n",
       "    <g id=\"ytick_5\">\n",
       "     <g id=\"line2d_19\">\n",
       "      <path clip-path=\"url(#pcd6c0ee8be)\" d=\"M 70.959002 16.430983 \n",
       "L 405.759002 16.430983 \n",
       "\" style=\"fill:none;stroke:#ffffff;stroke-linecap:square;stroke-width:0.8;\"/>\n",
       "     </g>\n",
       "     <g id=\"line2d_20\">\n",
       "      <g>\n",
       "       <use style=\"fill:#ffffff;stroke:#ffffff;stroke-width:0.8;\" x=\"70.959002\" xlink:href=\"#mde26a2fb05\" y=\"16.430983\"/>\n",
       "      </g>\n",
       "     </g>\n",
       "     <g id=\"text_11\">\n",
       "      <!-- $1.00$ -->\n",
       "      <g style=\"fill:#ffffff;\" transform=\"translate(31.12528 23.349481)scale(0.2 -0.2)\">\n",
       "       <use transform=\"scale(0.996264)\" xlink:href=\"#CMR17-49\"/>\n",
       "       <use transform=\"translate(45.690477 0)scale(0.996264)\" xlink:href=\"#CMMI12-58\"/>\n",
       "       <use transform=\"translate(72.787654 0)scale(0.996264)\" xlink:href=\"#CMR17-48\"/>\n",
       "       <use transform=\"translate(118.478131 0)scale(0.996264)\" xlink:href=\"#CMR17-48\"/>\n",
       "      </g>\n",
       "     </g>\n",
       "    </g>\n",
       "    <g id=\"text_12\">\n",
       "     <!-- $C/{3k_B}$ -->\n",
       "     <defs>\n",
       "      <path d=\"M 74.703125 69.09375 \n",
       "C 74.703125 70 74 70 73.796875 70 \n",
       "C 73.59375 70 73.203125 70 72.40625 68.984375 \n",
       "L 65.5 60.640625 \n",
       "C 62 66.59375 56.5 70 49 70 \n",
       "C 27.40625 70 5 48.234375 5 24.90625 \n",
       "C 5 8.328125 16.703125 -2 31.296875 -2 \n",
       "C 39.296875 -2 46.296875 1.390625 52.09375 6.25 \n",
       "C 60.796875 13.5 63.40625 23.125 63.40625 23.921875 \n",
       "C 63.40625 24.8125 62.59375 24.8125 62.296875 24.8125 \n",
       "C 61.40625 24.8125 61.296875 24.21875 61.09375 23.8125 \n",
       "C 56.5 8.328125 43 0.890625 33 0.890625 \n",
       "C 22.40625 0.890625 13.203125 7.640625 13.203125 21.734375 \n",
       "C 13.203125 24.90625 14.203125 42.171875 25.5 55.171875 \n",
       "C 31 61.53125 40.40625 67.09375 49.90625 67.09375 \n",
       "C 60.90625 67.09375 65.796875 58.0625 65.796875 47.9375 \n",
       "C 65.796875 45.359375 65.5 43.171875 65.5 42.765625 \n",
       "C 65.5 41.875 66.5 41.875 66.796875 41.875 \n",
       "C 67.90625 41.875 68 41.984375 68.40625 43.765625 \n",
       "z\n",
       "\" id=\"CMMI12-67\"/>\n",
       "      <path d=\"M 22.09375 34 \n",
       "C 31 34 34.90625 26.140625 34.90625 17.09375 \n",
       "C 34.90625 5.03125 28.5 0.390625 22.703125 0.390625 \n",
       "C 17.40625 0.390625 8.796875 3.015625 6.09375 10.796875 \n",
       "C 6.59375 10.59375 7.09375 10.59375 7.59375 10.59375 \n",
       "C 10 10.59375 11.796875 12.1875 11.796875 14.796875 \n",
       "C 11.796875 17.6875 9.59375 19 7.59375 19 \n",
       "C 5.90625 19 3.296875 18.1875 3.296875 14.484375 \n",
       "C 3.296875 5.234375 12.296875 -2 22.90625 -2 \n",
       "C 34 -2 42.5 6.75 42.5 16.984375 \n",
       "C 42.5 26.84375 34.5 34 25 35.09375 \n",
       "C 32.59375 36.671875 39.90625 43.375 39.90625 52.390625 \n",
       "C 39.90625 60.25 32 66 23 66 \n",
       "C 13.90625 66 5.90625 60.34375 5.90625 52.296875 \n",
       "C 5.90625 48.796875 8.5 48.1875 9.796875 48.1875 \n",
       "C 11.90625 48.1875 13.703125 49.484375 13.703125 52.09375 \n",
       "C 13.703125 54.6875 11.90625 56 9.796875 56 \n",
       "C 9.40625 56 8.90625 56 8.5 55.796875 \n",
       "C 11.40625 62.484375 19.296875 63.6875 22.796875 63.6875 \n",
       "C 26.296875 63.6875 32.90625 61.96875 32.90625 52.296875 \n",
       "C 32.90625 49.484375 32.5 44.546875 29.09375 40.21875 \n",
       "C 26.09375 36.390625 22.703125 36.1875 19.40625 35.890625 \n",
       "C 18.90625 35.890625 16.59375 35.6875 16.203125 35.6875 \n",
       "C 15.5 35.59375 15.09375 35.5 15.09375 34.796875 \n",
       "C 15.09375 34.09375 15.203125 34 17.203125 34 \n",
       "z\n",
       "\" id=\"CMR17-51\"/>\n",
       "     </defs>\n",
       "     <g style=\"fill:#ffffff;\" transform=\"translate(23.249647 146.551297)rotate(-90)scale(0.2 -0.2)\">\n",
       "      <use transform=\"translate(0 14.943915)scale(0.996264)\" xlink:href=\"#CMMI12-67\"/>\n",
       "      <use transform=\"translate(74.237129 14.943915)scale(0.996264)\" xlink:href=\"#CMMI12-61\"/>\n",
       "      <use transform=\"translate(123.012048 14.943915)scale(0.996264)\" xlink:href=\"#CMR17-51\"/>\n",
       "      <use transform=\"translate(168.702525 14.943915)scale(0.996264)\" xlink:href=\"#CMMI12-107\"/>\n",
       "      <use transform=\"translate(219.437713 0)scale(0.697382)\" xlink:href=\"#CMMI12-66\"/>\n",
       "     </g>\n",
       "    </g>\n",
       "   </g>\n",
       "   <g id=\"line2d_21\">\n",
       "    <path clip-path=\"url(#pcd6c0ee8be)\" d=\"M 86.177184 218.256364 \n",
       "L 89.251564 218.256364 \n",
       "L 92.325944 218.256361 \n",
       "L 95.400324 218.252613 \n",
       "L 98.474704 218.125844 \n",
       "L 101.549085 217.263763 \n",
       "L 104.623465 214.665647 \n",
       "L 107.697845 209.673238 \n",
       "L 110.772225 202.312416 \n",
       "L 113.846605 193.100542 \n",
       "L 116.920985 182.725729 \n",
       "L 119.995366 171.828491 \n",
       "L 123.069746 160.909049 \n",
       "L 126.144126 150.314247 \n",
       "L 129.218506 140.260092 \n",
       "L 132.292886 130.863912 \n",
       "L 135.367266 122.174238 \n",
       "L 138.441647 114.194548 \n",
       "L 141.516027 106.900599 \n",
       "L 144.590407 100.252426 \n",
       "L 147.664787 94.202309 \n",
       "L 150.739167 88.699871 \n",
       "L 153.813547 83.695213 \n",
       "L 156.887928 79.140733 \n",
       "L 159.962308 74.992092 \n",
       "L 163.036688 71.208634 \n",
       "L 166.111068 67.753477 \n",
       "L 169.185448 64.593405 \n",
       "L 172.259828 61.698644 \n",
       "L 175.334208 59.042592 \n",
       "L 178.408589 56.601526 \n",
       "L 181.482969 54.354312 \n",
       "L 184.557349 52.282127 \n",
       "L 187.631729 50.36821 \n",
       "L 190.706109 48.597619 \n",
       "L 193.780489 46.95703 \n",
       "L 196.85487 45.434546 \n",
       "L 199.92925 44.019532 \n",
       "L 203.00363 42.702467 \n",
       "L 206.07801 41.474818 \n",
       "L 209.15239 40.328926 \n",
       "L 212.22677 39.257902 \n",
       "L 215.301151 38.255546 \n",
       "L 218.375531 37.316264 \n",
       "L 221.449911 36.435005 \n",
       "L 224.524291 35.607199 \n",
       "L 227.598671 34.828705 \n",
       "L 230.673051 34.095767 \n",
       "L 233.747432 33.404969 \n",
       "L 236.821812 32.753204 \n",
       "L 239.896192 32.137641 \n",
       "L 242.970572 31.555694 \n",
       "L 246.044952 31.005 \n",
       "L 249.119332 30.483398 \n",
       "L 252.193713 29.988904 \n",
       "L 255.268093 29.5197 \n",
       "L 258.342473 29.074116 \n",
       "L 261.416853 28.650614 \n",
       "L 264.491233 28.247777 \n",
       "L 267.565613 27.8643 \n",
       "L 270.639994 27.498977 \n",
       "L 273.714374 27.150694 \n",
       "L 276.788754 26.818418 \n",
       "L 279.863134 26.501195 \n",
       "L 282.937514 26.198138 \n",
       "L 286.011894 25.908426 \n",
       "L 289.086275 25.631293 \n",
       "L 292.160655 25.36603 \n",
       "L 295.235035 25.111973 \n",
       "L 298.309415 24.868507 \n",
       "L 301.383795 24.635055 \n",
       "L 304.458175 24.411081 \n",
       "L 307.532556 24.196082 \n",
       "L 310.606936 23.98959 \n",
       "L 313.681316 23.791165 \n",
       "L 316.755696 23.600395 \n",
       "L 319.830076 23.416894 \n",
       "L 322.904456 23.240301 \n",
       "L 325.978837 23.070275 \n",
       "L 329.053217 22.906497 \n",
       "L 332.127597 22.748667 \n",
       "L 335.201977 22.596501 \n",
       "L 338.276357 22.449734 \n",
       "L 341.350737 22.308115 \n",
       "L 344.425118 22.171407 \n",
       "L 347.499498 22.039387 \n",
       "L 350.573878 21.911845 \n",
       "L 353.648258 21.788581 \n",
       "L 356.722638 21.669407 \n",
       "L 359.797018 21.554145 \n",
       "L 362.871399 21.442627 \n",
       "L 365.945779 21.334693 \n",
       "L 369.020159 21.230192 \n",
       "L 372.094539 21.12898 \n",
       "L 375.168919 21.030922 \n",
       "L 378.243299 20.935888 \n",
       "L 381.31768 20.843756 \n",
       "L 384.39206 20.75441 \n",
       "L 387.46644 20.667738 \n",
       "L 390.54082 20.583636 \n",
       "\" style=\"fill:none;stroke:#8dd3c7;stroke-linecap:square;stroke-width:1.5;\"/>\n",
       "   </g>\n",
       "   <g id=\"patch_3\">\n",
       "    <path d=\"M 70.959002 228.14 \n",
       "L 70.959002 10.7 \n",
       "\" style=\"fill:none;stroke:#ffffff;stroke-linecap:square;stroke-linejoin:miter;stroke-width:0.8;\"/>\n",
       "   </g>\n",
       "   <g id=\"patch_4\">\n",
       "    <path d=\"M 405.759002 228.14 \n",
       "L 405.759002 10.7 \n",
       "\" style=\"fill:none;stroke:#ffffff;stroke-linecap:square;stroke-linejoin:miter;stroke-width:0.8;\"/>\n",
       "   </g>\n",
       "   <g id=\"patch_5\">\n",
       "    <path d=\"M 70.959002 228.14 \n",
       "L 405.759002 228.14 \n",
       "\" style=\"fill:none;stroke:#ffffff;stroke-linecap:square;stroke-linejoin:miter;stroke-width:0.8;\"/>\n",
       "   </g>\n",
       "   <g id=\"patch_6\">\n",
       "    <path d=\"M 70.959002 10.7 \n",
       "L 405.759002 10.7 \n",
       "\" style=\"fill:none;stroke:#ffffff;stroke-linecap:square;stroke-linejoin:miter;stroke-width:0.8;\"/>\n",
       "   </g>\n",
       "  </g>\n",
       " </g>\n",
       " <defs>\n",
       "  <clipPath id=\"pcd6c0ee8be\">\n",
       "   <rect height=\"217.44\" width=\"334.8\" x=\"70.959002\" y=\"10.7\"/>\n",
       "  </clipPath>\n",
       " </defs>\n",
       "</svg>\n"
      ],
      "text/plain": [
       "<Figure size 432x288 with 1 Axes>"
      ]
     },
     "metadata": {},
     "output_type": "display_data"
    }
   ],
   "source": [
    "plt.clf()\n",
    "plt.figure()\n",
    "plt.plot(T_array, C_array/3)\n",
    "plt.grid(True)\n",
    "plt.xlabel(r\"$1 / \\beta\\hbar\\omega = k_B T / \\hbar\\omega$\")\n",
    "plt.ylabel(r\"$C/{3k_B}$\")"
   ]
  },
  {
   "cell_type": "code",
   "execution_count": 34,
   "metadata": {},
   "outputs": [
    {
     "data": {
      "image/png": "[encoded data removed]",
      "text/latex": [
       "$$46.41588833612778$$"
      ],
      "text/plain": [
       "46.41588833612778"
      ]
     },
     "execution_count": 34,
     "metadata": {},
     "output_type": "execute_result"
    }
   ],
   "source": [
    "(1e5)**(1/3)"
   ]
  },
  {
   "cell_type": "code",
   "execution_count": null,
   "metadata": {},
   "outputs": [],
   "source": []
  },
  {
   "cell_type": "code",
   "execution_count": null,
   "metadata": {},
   "outputs": [],
   "source": []
  },
  {
   "cell_type": "code",
   "execution_count": null,
   "metadata": {},
   "outputs": [],
   "source": []
  },
  {
   "cell_type": "code",
   "execution_count": null,
   "metadata": {},
   "outputs": [],
   "source": []
  },
  {
   "cell_type": "code",
   "execution_count": null,
   "metadata": {},
   "outputs": [],
   "source": []
  }
 ],
 "metadata": {
  "kernelspec": {
   "display_name": "Python 3",
   "language": "python",
   "name": "python3"
  },
  "language_info": {
   "codemirror_mode": {
    "name": "ipython",
    "version": 3
   },
   "file_extension": ".py",
   "mimetype": "text/x-python",
   "name": "python",
   "nbconvert_exporter": "python",
   "pygments_lexer": "ipython3",
   "version": "3.6.8"
  }
 },
 "nbformat": 4,
 "nbformat_minor": 2
}
