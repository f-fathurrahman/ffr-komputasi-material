{
 "cells": [
  {
   "cell_type": "markdown",
   "metadata": {},
   "source": [
    "<h1 style=\"text-align: center;\">Vibrasi Model Padatan 1d</h1>"
   ]
  },
  {
   "cell_type": "code",
   "execution_count": 3,
   "metadata": {},
   "outputs": [],
   "source": [
    "import numpy as np\n",
    "import matplotlib.pyplot as plt"
   ]
  },
  {
   "cell_type": "code",
   "execution_count": 10,
   "metadata": {},
   "outputs": [],
   "source": [
    "import matplotlib\n",
    "matplotlib.style.use(\"seaborn\")"
   ]
  },
  {
   "cell_type": "markdown",
   "metadata": {},
   "source": [
    "# Model rantai atom 1d"
   ]
  },
  {
   "cell_type": "markdown",
   "metadata": {},
   "source": [
    "Tinjau suatu rantai atom 1d yang terdiri dari partikel atau atom identik dengan massa $m$ dengan jarak ekuilibrium antar atom adalah $a$ (yang juga merupakan konstanta kisi dari sistem). "
   ]
  },
  {
   "cell_type": "markdown",
   "metadata": {},
   "source": [
    "<img style=\"margin-left: auto; margin-right: auto;\" src=\"images_priv/Simon_Fig_9_1.jpg\">"
   ]
  },
  {
   "cell_type": "markdown",
   "metadata": {},
   "source": [
    "Posisi dari atom ke-$n$ dinyatakan sebagai $x_{n}$ dan posisi ekuilibriumnya\n",
    "sebagai $x^{0}_{n} = na$."
   ]
  },
  {
   "cell_type": "markdown",
   "metadata": {},
   "source": [
    "Atom akan bergerak atau bervibrasi disekitar posisi ekuilibrium dan definisikan\n",
    "$$\n",
    "\\delta x_{n} = x_{n} - x^{0}_{n}\n",
    "$$"
   ]
  },
  {
   "cell_type": "markdown",
   "metadata": {},
   "source": [
    "Jika sistem berada pada temperatur yang cukup rendah, kita dapat mengasumsikan bahwa potensial yang bekerja pada atom merupakan potensial harmonik, yang lambangkan dengan pegas yang menghubungkan antara atom. Oleh karena itu, model ini juga dikenal sebagai model rantai harmonik."
   ]
  },
  {
   "cell_type": "markdown",
   "metadata": {},
   "source": [
    "Energi potensial antar atom:\n",
    "$$\n",
    "\\begin{align}\n",
    "V_{\\mathrm{tot}} & = \\sum_{i} \\frac{\\kappa}{2} \\left(\n",
    "x_{i+1} - x_{i} - a \\right)^2 \\\\\n",
    "& = \\sum_{i} \\frac{\\kappa}{2} \\left(\n",
    "\\delta x_{i+1} - \\delta x_{i} \\right)^2\n",
    "\\end{align}\n",
    "$$"
   ]
  },
  {
   "cell_type": "markdown",
   "metadata": {},
   "source": [
    "Gaya yang bekerja pada massa ke-$n$ dari rantai atom adalah (asumsi nearest neighbor interaction):\n",
    "$$\n",
    "\\begin{align}\n",
    "F_{n} & = -\\frac{\\partial V_{\\mathrm{tot}}}{\\partial x_{n}} \\\\\n",
    "& = \\kappa \\left( \\delta x_{n+1} - \\delta x_{n} \\right) +\n",
    "\\kappa \\left( \\delta x_{n-1} - \\delta x_{n} \\right)\n",
    "\\end{align}\n",
    "$$\n"
   ]
  },
  {
   "cell_type": "markdown",
   "metadata": {},
   "source": [
    "Persamaan Newton:\n",
    "$$\n",
    "m \\ddot{\\delta x_{n}} = F_{n} = \\kappa \\left(\n",
    "\\delta x_{n+1} + \\delta x_{n-1} - 2\\delta x_{n}\n",
    "\\right)\n",
    "$$"
   ]
  },
  {
   "cell_type": "markdown",
   "metadata": {},
   "source": [
    "Asumsikan solusi berbentuk:\n",
    "$$\n",
    "\\delta x_{n} = A\\exp\\left[ \\imath \\omega t - \\imath k x^{0}_{n} \\right] = \n",
    "A\\exp\\left[ \\imath \\omega t - \\imath k n a \\right]\n",
    "$$\n",
    "dengan:\n",
    "- $A$ adalah amplitudo osilasi\n",
    "- $k$ adalah vektor gelombang (bilangan gelombang), dan\n",
    "- $\\omega$ adalah frekuensi gelombang."
   ]
  },
  {
   "cell_type": "markdown",
   "metadata": {},
   "source": [
    "Substitusi ke persamaan diferensial:\n",
    "$$\n",
    "-m\\omega^2 A e^{\\imath \\omega t - \\imath k n a} = \n",
    "\\kappa A e^{\\imath \\omega t} \\left[ \n",
    "e^{-\\imath k (n+1) a} +\n",
    "e^{-\\imath k (n-1) a} +\n",
    "2e^{-\\imath k n a}\n",
    "\\right]\n",
    "$$"
   ]
  },
  {
   "cell_type": "markdown",
   "metadata": {},
   "source": [
    "Sederhanakan:\n",
    "$$\n",
    "m\\omega^2 = 2\\kappa\\left( 1 - \\cos(ka) \\right) = 4\\kappa \\sin^2 \\left( \\frac{ka}{2} \\right)\n",
    "$$\n",
    "Menggunakan identitas trigonometri:\n",
    "$$\n",
    "\\cos(2A) = 1 - 2\\sin^2(A)\n",
    "$$"
   ]
  },
  {
   "cell_type": "markdown",
   "metadata": {},
   "source": [
    "Diperoleh (hubungan dispersi):\n",
    "$$\n",
    "\\omega(k) = 2\\sqrt{\\frac{\\kappa}{m}} \\left| \\sin\\left(\\frac{ka}{2}\\right) \\right|\n",
    "$$"
   ]
  },
  {
   "cell_type": "markdown",
   "metadata": {},
   "source": [
    "$\\omega(k)$: hubungan dispersi"
   ]
  },
  {
   "cell_type": "code",
   "execution_count": 1,
   "metadata": {},
   "outputs": [],
   "source": [
    "import numpy as np"
   ]
  },
  {
   "cell_type": "code",
   "execution_count": 25,
   "metadata": {},
   "outputs": [
    {
     "data": {
      "image/png": "[encoded data removed]",
      "text/plain": [
       "<Figure size 576x396 with 1 Axes>"
      ]
     },
     "metadata": {},
     "output_type": "display_data"
    }
   ],
   "source": [
    "NptsPlot = 1000\n",
    "κ = 1.0\n",
    "m = 1.0\n",
    "a = 1.0\n",
    "k = np.linspace(-np.pi/a, np.pi/a, NptsPlot)\n",
    "ω = 2*np.sqrt(κ/m)*np.abs( np.sin(k*a/2) )\n",
    "plt.clf()\n",
    "plt.plot(k, ω)\n",
    "plt.xlabel(\"k\")\n",
    "plt.ylabel(\"ω\")\n",
    "plt.grid(True)"
   ]
  },
  {
   "cell_type": "markdown",
   "metadata": {},
   "source": [
    "# Ruang resiprokal pada 1d"
   ]
  },
  {
   "cell_type": "markdown",
   "metadata": {},
   "source": [
    "Hubungan dispersi merupakan fungsi yang periodik dalam $k$ dengan periode $2\\pi/a$. Hal ini merupakan prinsip umum:\n",
    "*Suatu sistem yang periodik pada ruang nyata dengan periode $a$ akan periodik pada ruang\n",
    "resiprokal dengan periode $2\\pi/a$*"
   ]
  },
  {
   "cell_type": "markdown",
   "metadata": {},
   "source": [
    "Unit sel pada ruang resiprokal atau ruang-$k$ dikenal dengan nama zona Brillouin.\n",
    "Zona Brillouin pertama adalah unit sel pada ruang-$k$ yang memiliki pusat pada titik $k=0$.\n",
    "\n",
    "Titik $k=\\pm \\pi/a$ dikenal sebagai batas zona Brillouin.\n",
    "\n",
    "Brillouin zone: $-\\pi/a \\leq k \\lt \\pi/a$"
   ]
  },
  {
   "cell_type": "markdown",
   "metadata": {},
   "source": [
    "Mode vibrasi telah didefinisikan memiliki bentuk:\n",
    "$$\n",
    "\\delta x_{n} = A e^{\\imath \\omega t - \\imath k n a}\n",
    "$$"
   ]
  },
  {
   "cell_type": "markdown",
   "metadata": {},
   "source": [
    "Jika kita mengganti $k$ dengan $k + 2\\pi/a$, diperoleh:\n",
    "$$\n",
    "\\begin{align}\n",
    "\\delta x_{n} & = A e^{\\imath \\omega t - \\imath (k + 2\\pi/a) n a} \\\\\n",
    "& = A e^{\\imath \\omega t - \\imath k n a} e^{-\\imath 2\\pi n} \\\\\n",
    "& = A e^{\\imath \\omega t - \\imath k n a}\n",
    "\\end{align}\n",
    "$$"
   ]
  },
  {
   "cell_type": "markdown",
   "metadata": {},
   "source": [
    "Menggunakan\n",
    "$$\n",
    "e^{-\\imath 2\\pi n } = \\cos(2\\pi n) - \\sin(2\\pi n) = 1\n",
    "$$\n",
    "untuk sembarang bilangan bulat $n$."
   ]
  },
  {
   "cell_type": "markdown",
   "metadata": {},
   "source": [
    "Kita menemukan bahwa menggeser $k \\rightarrow k + 2\\pi/a$ memberikan kembali mode osilasi awal."
   ]
  },
  {
   "cell_type": "markdown",
   "metadata": {},
   "source": [
    "Secara umum menggeser bilangan gelombang $k$ dengan $k \\rightarrow 2\\pi p/a$, dengan merupakan bilangan bulat, akan memberikan kita mode vibrasi awal."
   ]
  },
  {
   "cell_type": "markdown",
   "metadata": {},
   "source": [
    "Kita dapat mendefinisikan himpunan titik pada ruang-$k$ yang secara fisis ekuivalen dengan titik $k=0$. Himpunan titik ini dikenal sebagai kisi resiprokal (*reciprocal lattice*)."
   ]
  },
  {
   "cell_type": "markdown",
   "metadata": {},
   "source": [
    "Sedangkan himpunan titik $x_{n} = na$ disebut sebagai kisi langsung (*direct lattice*) atau kisi ruang nyata (*real space lattice*)."
   ]
  },
  {
   "cell_type": "markdown",
   "metadata": {},
   "source": [
    "Kita dapat melihat analogi antara kisi langsung dan kisi reciprokal:\n",
    "$$\n",
    "\\begin{align}\n",
    "x_{n} & = \\cdots, -2a, -a, 0, a, 2a, \\cdots \\\\\n",
    "G_{n} & = \\cdots, -2\\left(\\frac{2\\pi}{a}\\right), -\\left(\\frac{2\\pi}{a}\\right), 0, \\left(\\frac{2\\pi}{a}\\right), 2\\left(\\frac{2\\pi}{a}\\right), \\cdots\n",
    "\\end{align}\n",
    "$$\n"
   ]
  },
  {
   "cell_type": "markdown",
   "metadata": {},
   "source": [
    "Secara definisi, hubungan antara kisi langsung dan kisi resiprokal adalah:\n",
    "$$\n",
    "e^{\\imath G_{m} x_{n}} = 1\n",
    "$$"
   ]
  },
  {
   "cell_type": "markdown",
   "metadata": {},
   "source": [
    "# Properti dari dispersi rantai atom 1d"
   ]
  },
  {
   "cell_type": "markdown",
   "metadata": {},
   "source": [
    "## Gelombang suara"
   ]
  },
  {
   "cell_type": "markdown",
   "metadata": {},
   "source": [
    "$$\n",
    "k = \\frac{2\\pi}{\\lambda}\n",
    "$$"
   ]
  },
  {
   "cell_type": "markdown",
   "metadata": {},
   "source": [
    "$$\n",
    "v = \\frac{\\omega}{k}\n",
    "$$"
   ]
  },
  {
   "cell_type": "markdown",
   "metadata": {},
   "source": [
    "$$\n",
    "\\omega = 2 \\pi f\n",
    "$$"
   ]
  },
  {
   "cell_type": "markdown",
   "metadata": {},
   "source": [
    "$$\n",
    "v = \\lambda f\n",
    "$$"
   ]
  },
  {
   "cell_type": "markdown",
   "metadata": {},
   "source": [
    "Gelombang suara adalah vibrasi yang memiliki panjang gelombang yang besar dibandingkan dengan jarak antar atom. Pada daerah ini, kita menemukan bahwa hubungan dispersi yang kita hitung memiliki hubungan linear terhadap vektor gelombang, yaitu: $\\omega = v_{\\mathrm{sound}} k$ dengan:\n",
    "$$\n",
    "v_{\\mathrm{sound}} = a\\sqrt{\\frac{\\kappa}{m}}\n",
    "$$"
   ]
  },
  {
   "cell_type": "markdown",
   "metadata": {},
   "source": [
    "Untuk nilai-nilai $k$ yang lebih besar, hubungan dispersi tidak lagi linear. Hal ini tidak sejalan dengan apa yang diasumsikan oleh Debye."
   ]
  },
  {
   "cell_type": "markdown",
   "metadata": {},
   "source": [
    "Pada panjang gelombang yang pendek atau $k$ yang besar, kita mendefinisikan dua kecepatan yang berbeda: kecepatan grup dan kecepatan fasa."
   ]
  },
  {
   "cell_type": "markdown",
   "metadata": {},
   "source": [
    "Kecepatan grup, yaitu kecepatan pergerakan paket gelombang yang diberikan oleh:\n",
    "$$\n",
    "v_{\\mathrm{group}} = \\frac{\\mathrm{d}\\omega}{\\mathrm{d}k}\n",
    "$$"
   ]
  },
  {
   "cell_type": "markdown",
   "metadata": {},
   "source": [
    "Kecepatan fasa adalah kecepatan pergerakan satu komponen frekuensi dari gelombang\n",
    "$$\n",
    "v_{\\mathrm{phase}} = \\frac{\\omega}{k}\n",
    "$$"
   ]
  },
  {
   "cell_type": "markdown",
   "metadata": {},
   "source": [
    "Kedua kecepatan ini bernilai sama untuk hubungan dispersi linear, namun secara umum kedua kecepatan tersebut tidak sama."
   ]
  },
  {
   "cell_type": "markdown",
   "metadata": {},
   "source": [
    "Kecepatan grup menjadi nol pada batas zona Brillouin, yaitu pada $k = \\pm \\pi/a$."
   ]
  },
  {
   "cell_type": "markdown",
   "metadata": {},
   "source": [
    "## Menghitung jumlah mode normal"
   ]
  },
  {
   "cell_type": "markdown",
   "metadata": {},
   "source": [
    "Asumsikan sistem memiliki $N$ partikel pada rantai dan asumsikan syarat batas periodik, yaitu partikel $x_{0}$ berbatasan dengan $x_{1}$ disebelah kanan dan $x_{N-1}$ di bagian kiri, atau\n",
    "$$\n",
    "x_{n+N} = x_{n}\n",
    "$$"
   ]
  },
  {
   "cell_type": "markdown",
   "metadata": {},
   "source": [
    "Kita harus memiliki:\n",
    "$$\n",
    "e^{\\imath \\omega t - \\imath k n a} =\n",
    "e^{\\imath \\omega t - \\imath k (N+n) a}\n",
    "$$\n",
    "atau\n",
    "$$\n",
    "e^{\\imath k N a} = 1\n",
    "$$"
   ]
  },
  {
   "cell_type": "markdown",
   "metadata": {},
   "source": [
    "$$\n",
    "cos(kNa) + \\imath \\sin(kNa) = 1\n",
    "$$\n",
    "\n",
    "\n",
    "$$\n",
    "\\cos(kNa) = 1\n",
    "$$\n",
    "\n",
    "$$\n",
    "\\sin(kNa) = 0\n",
    "$$"
   ]
  },
  {
   "cell_type": "code",
   "execution_count": 29,
   "metadata": {},
   "outputs": [],
   "source": [
    "N = 10.0\n",
    "a = 1.0\n",
    "p = 3\n",
    "k = 2*np.pi*p/(N*a)"
   ]
  },
  {
   "cell_type": "code",
   "execution_count": 30,
   "metadata": {},
   "outputs": [
    {
     "data": {
      "text/plain": [
       "(-7.347880794884119e-16, 1.0)"
      ]
     },
     "execution_count": 30,
     "metadata": {},
     "output_type": "execute_result"
    }
   ],
   "source": [
    "np.sin(k*N*a), np.cos(k*N*a)"
   ]
  },
  {
   "cell_type": "markdown",
   "metadata": {},
   "source": [
    "Persyaratan ini memberikan batasan pada nilai-nilai $k$ yang mungkin:\n",
    "$$\n",
    "k = \\frac{2\\pi p}{Na} = \\frac{2\\pi p}{L}\n",
    "$$\n",
    "di mana $p$ adalah bilangan bulat dan $L$ adalah panjang total dari sistem."
   ]
  },
  {
   "cell_type": "markdown",
   "metadata": {},
   "source": [
    "Dengan kata lain: $k$ menjadi terkuantisasi."
   ]
  },
  {
   "cell_type": "markdown",
   "metadata": {},
   "source": [
    "Sekarang, kita akan menghitung ada berapa banyak mode normal yang kita miliki. Karena periodisitas dari ruang-$k$, kita hanya perlu memperhitungkan nilai $k$ yang berada pada zona\n",
    "Brillouin pertama yaitu: $-\\pi/a \\leq k \\lt \\pi/a$."
   ]
  },
  {
   "cell_type": "markdown",
   "metadata": {},
   "source": [
    "Jumlah total mode normal adalah jangkauan nilai $k$ dibagi dengan jarak antara $k$ yang berdekatan:\n",
    "$$\n",
    "\\text{jumlah mode normal} = \\frac{2\\pi/a}{2\\pi/(Na)} = N\n",
    "$$"
   ]
  },
  {
   "cell_type": "markdown",
   "metadata": {},
   "source": [
    "Artinya: terdapat satu mode normal untuk tiap massa pada sistem, atau *satu mode normal per satu derajat kebebasan pada seluruh sistem*."
   ]
  },
  {
   "cell_type": "markdown",
   "metadata": {},
   "source": [
    "Debye telah memprediksikan hal ini dengan menggunakan frekuensi cutoff (frekuensi Debye) pada model vibrasi padatan Debye."
   ]
  },
  {
   "cell_type": "markdown",
   "metadata": {},
   "source": [
    "Foton: $\\hbar \\nu$, fonon: $\\hbar \\omega$"
   ]
  },
  {
   "cell_type": "markdown",
   "metadata": {},
   "source": [
    "# Mode Kuantum: fonon"
   ]
  },
  {
   "cell_type": "markdown",
   "metadata": {},
   "source": [
    "Korespondensi kuantum: jika suatu sistem harmonik klasik memiliki mode osilasi normal pada frekuensi $\\omega$ maka sistem kuantum yang berkorespondensi akan memiliki keadaan eigen dengan energi:\n",
    "$$\n",
    "E_{n} = \\hbar \\omega \\left( n + \\frac{1}{2} \\right)\n",
    "$$"
   ]
  },
  {
   "cell_type": "markdown",
   "metadata": {},
   "source": [
    "Pada vektor gelombang $k$ yang diberikan, terdapat banyak keadaan eigen yang mungkin, dengan keadaan dasar pada $n=0$ yang hanya memiliki energi titik-nol (*zero point energy*) sebesar\n",
    "$\\hbar \\omega(k)/2$."
   ]
  },
  {
   "cell_type": "markdown",
   "metadata": {},
   "source": [
    "Eksitasi energi terendah ($n=1$) memiliki energi lebih besar $\\hbar\\omega(k)$ dibandingkan dengan keadaan dasar."
   ]
  },
  {
   "cell_type": "markdown",
   "metadata": {},
   "source": [
    "Secara umum, semua eksitasi pada vektor gelombang ini terjadi dalam satuan energi $\\hbar\\omega(k)$ dan energi yang lebih tinggi berkorespondensi secara klasi dengan osilasi yang memiliki amplitudo lebih besar."
   ]
  },
  {
   "cell_type": "markdown",
   "metadata": {},
   "source": [
    "Tiap eksitasi dari mode normal ini dengan langkah $\\hbar\\omega(k)$ dikenal sebagai **fonon**."
   ]
  },
  {
   "cell_type": "markdown",
   "metadata": {},
   "source": [
    "Fonon dapat didefinisikan sebagai kuanta vibrasi diskrit."
   ]
  },
  {
   "cell_type": "markdown",
   "metadata": {},
   "source": [
    "Hal ini mirip dengan mendefinisikan kuanta cahaya sebaga foton. Sebagaimana dengan foton, kita dapat memperlakukan fonon sebagai suatu partikel atau sebagai gelombang terkuantisasi."
   ]
  },
  {
   "cell_type": "markdown",
   "metadata": {},
   "source": [
    "Jika kita memperlakukan fonon sebagai partikel, kita dapat mempersiapkan banyak fonon pada satu keadaan yang sama (atau bilangan kuantum $n$ pada persamaan energi osilator harmonik dapat memiliki sembarang nilai)."
   ]
  },
  {
   "cell_type": "markdown",
   "metadata": {},
   "source": [
    "Dengan kata lain fonon, seperti foton, adalah boson. Pada temperatur bukan nol, akan terdapat fonon yang menempati suatu mode tertentu (atau $n$ secara rata-rata akan lebih besar dari 0) berdasarkan faktor okupansi Bose:\n",
    "$$\n",
    "n_{B}(\\beta\\hbar\\omega) = \\frac{1}{e^{\\beta\\hbar\\omega} - 1}\n",
    "$$\n",
    "dengan $\\beta = 1/(k_{B}T)$ dan $\\omega$ adalah frekuensi osilasi dari mode."
   ]
  },
  {
   "cell_type": "code",
   "execution_count": 42,
   "metadata": {},
   "outputs": [
    {
     "data": {
      "text/plain": [
       "[<matplotlib.lines.Line2D at 0x7f08677f4970>]"
      ]
     },
     "execution_count": 42,
     "metadata": {},
     "output_type": "execute_result"
    },
    {
     "data": {
      "image/png": "[encoded data removed]",
      "text/plain": [
       "<Figure size 576x396 with 1 Axes>"
      ]
     },
     "metadata": {},
     "output_type": "display_data"
    }
   ],
   "source": [
    "T = 3000\n",
    "kB = 1.0\n",
    "β = 1/(kB*T)\n",
    "ω = np.linspace(0.01, 1, 1000)\n",
    "ħ = 1.0\n",
    "nB = 1/(np.exp(β*ħ*ω) - 1)\n",
    "\n",
    "plt.clf()\n",
    "plt.plot(ω, nB)"
   ]
  },
  {
   "cell_type": "code",
   "execution_count": 47,
   "metadata": {},
   "outputs": [
    {
     "data": {
      "image/png": "[encoded data removed]",
      "text/plain": [
       "<Figure size 576x396 with 1 Axes>"
      ]
     },
     "metadata": {},
     "output_type": "display_data"
    }
   ],
   "source": [
    "def calc_nB(T):\n",
    "    kB = 1.0\n",
    "    β = 1/(kB*T)\n",
    "    ω = np.linspace(0.01, 1, 1000)\n",
    "    ħ = 1.0\n",
    "    nB = 1/(np.exp(β*ħ*ω) - 1)\n",
    "    return nB\n",
    "\n",
    "plt.clf()\n",
    "nB1 = calc_nB(3000)\n",
    "nB2 = calc_nB(1000)\n",
    "nB3 = calc_nB(500)\n",
    "nB4 = calc_nB(5000)\n",
    "plt.plot(ω, nB1, label=\"T=3000\")\n",
    "plt.plot(ω, nB2, label=\"T=1000\")\n",
    "plt.plot(ω, nB3, label=\"T=500\")\n",
    "plt.plot(ω, nB4, label=\"T=5000\")\n",
    "plt.legend();"
   ]
  },
  {
   "cell_type": "markdown",
   "metadata": {},
   "source": [
    "Nilai ekspektasi energi dari fonon pada vektor gelombang $k$ diberikan oleh:\n",
    "$$\n",
    "E_{k} = \\hbar\\omega(k)\\left(\n",
    "n_{B}(\\beta\\hbar\\omega(k)) + \\frac{1}{2}\n",
    "\\right)\n",
    "$$"
   ]
  },
  {
   "cell_type": "markdown",
   "metadata": {},
   "source": [
    "Kita dapat menggunakan persamaan ini untuk menghitung kapasitas panas dari model rantai atom 1d."
   ]
  },
  {
   "cell_type": "markdown",
   "metadata": {},
   "source": [
    "Total energi adalah:\n",
    "$$\n",
    "U_{\\mathrm{total}} = \\sum_{k} \\hbar \\omega(k) \\left(\n",
    "n_{B}(\\beta\\hbar\\omega(k)) + \\frac{1}{2}\n",
    "\\right)\n",
    "$$\n",
    "di mana penjumlahan terhadap $k$ dilakukan untuk semua mode normal yang mungkin, yaitu\n",
    "$k = 2\\pi p /(Na)$ sedemikian rupa sehingga $-\\pi/a \\leq k \\lt \\pi/a$"
   ]
  },
  {
   "cell_type": "markdown",
   "metadata": {},
   "source": [
    "Dalam ekspresi lain:\n",
    "$$\n",
    "\\sum_{k} \\rightarrow \\sum_{p = -N/2}^{(N/2)-1}\n",
    "$$"
   ]
  },
  {
   "cell_type": "markdown",
   "metadata": {},
   "source": [
    "Untuk sistem yang besar, nilai-nilai $k$ sangat berdekatan, sehingga kita dapat mengubah tanda penjumlahan diskrit menjadi integral, sehingga diperoleh:\n",
    "$$\n",
    "\\sum_{k} \\rightarrow \\frac{Na}{2\\pi} \\int_{-\\pi/a}^{\\pi/a}\\mathrm{d}k\n",
    "$$"
   ]
  },
  {
   "cell_type": "markdown",
   "metadata": {},
   "source": [
    "Kita dapat menggunakan integral ini untuk menghitung jumlah mode pada sistem:\n",
    "$$\n",
    "\\frac{Na}{2\\pi} \\int_{-\\pi/a}^{\\pi/a}\\mathrm{d}k = N\n",
    "$$"
   ]
  },
  {
   "cell_type": "markdown",
   "metadata": {},
   "source": [
    "Dengan menggunakan bentuk integral, total energi dapat ditulis sebagai:\n",
    "$$\n",
    "U_{\\mathrm{total}} = \\frac{Na}{2\\pi}\n",
    "\\int_{-\\pi/a}^{\\pi/a} \\mathrm{d}k \\, \\hbar \\omega(k) \\left(\n",
    "n_{B}(\\beta\\hbar\\omega(k)) + \\frac{1}{2}\n",
    "\\right)\n",
    "$$"
   ]
  },
  {
   "cell_type": "markdown",
   "metadata": {},
   "source": [
    "Persamaan ini mirip dengan apa yang digunakan oleh Debye untuk menghitung kapasitas kalor,\n",
    "$\\mathrm{d}U/\\mathrm{d}T$, jika model yang digunakan adalah 1d. Perbedaannya adalah $\\omega(k)$ yang digunakan oleh Debye adalah linear: $\\omega = vk$."
   ]
  },
  {
   "cell_type": "markdown",
   "metadata": {},
   "source": [
    "Model Einstein untuk perhitungan kapasitas kalor juga dapat diturunkan, yaitu untuk kasus di mana frekuensi $\\omega$ konstan untuk seluruh $k$."
   ]
  },
  {
   "cell_type": "markdown",
   "metadata": {},
   "source": [
    "# Model Rantai Diatomik 1d"
   ]
  },
  {
   "cell_type": "markdown",
   "metadata": {},
   "source": [
    "<img style=\"margin-left: auto; margin-right: auto;\" src=\"images_priv/Simon_Fig_10_5.jpg\">"
   ]
  },
  {
   "cell_type": "markdown",
   "metadata": {},
   "source": [
    "$$\n",
    "\\begin{align}\n",
    "m \\ddot{\\delta x_{n}} = \\kappa_{2} ( \\delta y_{n} - \\delta x_{n} ) +\n",
    "\\kappa_{1} ( \\delta y_{n-1} - \\delta x_{n} ) \\\\\n",
    "m \\ddot{\\delta y_{n}} = \\kappa_{1} ( \\delta x_{n+1} - \\delta y_{n} ) +\n",
    "\\kappa_{2} ( \\delta x_{n} - \\delta y_{n} )\n",
    "\\end{align}\n",
    "$$"
   ]
  },
  {
   "cell_type": "markdown",
   "metadata": {},
   "source": [
    "$$\n",
    "\\begin{align}\n",
    "\\delta x_{n} & = A_{x} e^{\\imath \\omega t - \\imath kna} \\\\\n",
    "\\delta y_{n} & = A_{y} e^{\\imath \\omega t - \\imath kna}\n",
    "\\end{align}\n",
    "$$"
   ]
  },
  {
   "cell_type": "markdown",
   "metadata": {},
   "source": [
    "$$\n",
    "\\begin{align}\n",
    "-\\omega^2 m A_{x} e^{\\imath \\omega t - ikna} & =\n",
    "\\kappa_{2} A_{y} e^{\\imath \\omega t - ikna} +\n",
    "\\kappa_{1} A_{y} e^{\\imath \\omega t - ik(n-1)a} -\n",
    "(\\kappa_{1} + \\kappa_{2}) A_{x} e^{\\imath \\omega t - ikna} \\\\\n",
    "-\\omega^2 m A_{y} e^{\\imath \\omega t - ikna} & =\n",
    "\\kappa_{1} A_{x} e^{\\imath \\omega t - ik(n+1)a} +\n",
    "\\kappa_{2} A_{x} e^{\\imath \\omega t - ikna} -\n",
    "(\\kappa_{1} + \\kappa_{2}) A_{y} e^{\\imath \\omega t - ikna}\n",
    "\\end{align}\n",
    "$$"
   ]
  },
  {
   "cell_type": "markdown",
   "metadata": {},
   "source": [
    "$$\n",
    "\\begin{align}\n",
    "-\\omega^2 m A_{x} & = \\kappa_{2} A_{y} + \\kappa_{1} A_{y} e^{\\imath ka} -\n",
    "(\\kappa_{1} + \\kappa_{2})A_{x} \\\\\n",
    "-\\omega^2 m A_{y} & = \\kappa_{1} A_{x} e^{-\\imath k a} + \\kappa_{2} A_{x} -\n",
    "(\\kappa_{1} + \\kappa_{2})A_{y}\n",
    "\\end{align}\n",
    "$$"
   ]
  },
  {
   "cell_type": "markdown",
   "metadata": {},
   "source": [
    "$$\n",
    "m\\omega^2 \\begin{bmatrix}\n",
    "A_{x} \\\\\n",
    "A_{y}\n",
    "\\end{bmatrix} = \n",
    "\\begin{bmatrix}\n",
    "(\\kappa_{1} + \\kappa_{2}) & -\\kappa_{2} - \\kappa_{1} e^{\\imath k a} \\\\\n",
    "(-\\kappa_{2} - \\kappa_{1})e^{-\\imath k a} & (\\kappa_{1} + \\kappa_{2})\n",
    "\\end{bmatrix}\n",
    "\\begin{bmatrix}\n",
    "A_{x} \\\\\n",
    "A_{y}\n",
    "\\end{bmatrix}\n",
    "$$"
   ]
  },
  {
   "cell_type": "markdown",
   "metadata": {},
   "source": [
    "Persamaan eigenvalue: $\\mathbf{A} \\mathbf{x} = \\lambda \\mathbf{x}$"
   ]
  },
  {
   "cell_type": "markdown",
   "metadata": {},
   "source": [
    "$$\n",
    "\\begin{align}\n",
    "\\begin{vmatrix}\n",
    "(\\kappa_{1} + \\kappa_{2}) - m\\omega^2 & -\\kappa_{2} - \\kappa_{1} e^{\\imath k a} \\\\\n",
    "(-\\kappa_{2} - \\kappa_{1})e^{-\\imath k a} & (\\kappa_{1} + \\kappa_{2}) - m\\omega^2\n",
    "\\end{vmatrix} & = 0 \\\\\n",
    "\\left| (\\kappa_{1} + \\kappa_{2}) - m\\omega^2 \\right|^2 -\n",
    "\\left| \\kappa_{2} + \\kappa_{1}e^{\\imath k a} \\right|^2 & = 0\n",
    "\\end{align}\n",
    "$$"
   ]
  },
  {
   "cell_type": "markdown",
   "metadata": {},
   "source": [
    "$$\n",
    "m\\omega^2 = (\\kappa_{1} + \\kappa_{2}) \\pm \n",
    "\\left| \\kappa_{1} + \\kappa_{2} e^{\\imath k a}\\right|\n",
    "$$"
   ]
  },
  {
   "cell_type": "markdown",
   "metadata": {},
   "source": [
    "$$\n",
    "\\begin{align}\n",
    "\\left| \\kappa_{1} + \\kappa_{2} e^{\\imath ka} \\right| & = \n",
    "\\sqrt{( \\kappa_{1} + \\kappa_{2} e^{\\imath ka} )\n",
    "      ( \\kappa_{1} + \\kappa_{2} e^{-\\imath ka} ) } \\\\\n",
    "& = \\sqrt{ \\kappa_{1}^{2} + \\kappa_{2}^{2} + 2\\kappa_{1} \\kappa_{2} \\cos(ka) }\n",
    "\\end{align}\n",
    "$$"
   ]
  },
  {
   "cell_type": "markdown",
   "metadata": {},
   "source": [
    "$$\n",
    "\\begin{align}\n",
    "\\omega_{\\pm} & = \\sqrt{\\frac{\\kappa_{1} + \\kappa_{2}}{m} \\pm\n",
    "\\frac{1}{m}\\sqrt{ \\kappa_{1}^{2} + \\kappa_{2}^{2} + 2\\kappa_{1} \\kappa_{2} \\cos(ka) }\n",
    "} \\\\\n",
    "& = \\sqrt{\\frac{\\kappa_{1} + \\kappa_{2}}{m} \\pm\n",
    "\\frac{1}{m}\\sqrt{ (\\kappa_{1} + \\kappa_{2})^{2} - 4\\kappa_{1} \\kappa_{2} \\sin^{2}(ka/2) }\n",
    "}\n",
    "\\end{align}\n",
    "$$"
   ]
  },
  {
   "cell_type": "code",
   "execution_count": 59,
   "metadata": {},
   "outputs": [
    {
     "data": {
      "image/png": "[encoded data removed]",
      "text/plain": [
       "<Figure size 576x396 with 1 Axes>"
      ]
     },
     "metadata": {},
     "output_type": "display_data"
    }
   ],
   "source": [
    "NptsPlot = 1000\n",
    "κ1 = 1.0\n",
    "κ2 = 2.0\n",
    "m = 1.0\n",
    "a = 1.0\n",
    "k = np.linspace(-np.pi/a, np.pi/a, NptsPlot)\n",
    "ω1 = np.sqrt( (κ1 + κ2)/m + (1/m)*np.sqrt(κ1**2 + κ2**2 + 2*κ1*κ2*np.cos(k*a)) ) \n",
    "ω2 = np.sqrt( (κ1 + κ2)/m - (1/m)*np.sqrt(κ1**2 + κ2**2 + 2*κ1*κ2*np.cos(k*a)) ) \n",
    "plt.clf()\n",
    "plt.plot(k, ω1, label=\"acoustic\")\n",
    "plt.plot(k, ω2, label=\"optic\")\n",
    "plt.xlabel(\"k\")\n",
    "plt.ylabel(\"ω\")\n",
    "plt.legend()\n",
    "plt.grid(True);"
   ]
  },
  {
   "cell_type": "markdown",
   "metadata": {},
   "source": [
    "Untuk tiap $k$ kita mendapatkan dua mode normal, yang biasanya disebut sebagai dua cabang dispersi."
   ]
  },
  {
   "cell_type": "markdown",
   "metadata": {},
   "source": [
    "Karena terdapat $N$ nilai $k$ yang berbeda, kita mendapatkan $2N$ total mode. Hal ini sesuai dengan intuisi Debye bahwa untuk setiap derajat kebebasan pada sistem kita memiliki satu mode normal."
   ]
  },
  {
   "cell_type": "markdown",
   "metadata": {},
   "source": [
    "Terdapat cabang dispersi dengan hubungan yang mendekati linear ketika $k \\rightarrow 0$. Cabang ini adalah mode akustik."
   ]
  },
  {
   "cell_type": "markdown",
   "metadata": {},
   "source": [
    "Cabang dispersi dengan energi yang lebih tinggi dikenal sebagai mode optik. Pada mode akustik, frekuensi menjadi $\\sqrt{2(\\kappa_{1} + \\kappa_{2})/m}$ pada $k = 0$."
   ]
  },
  {
   "cell_type": "markdown",
   "metadata": {},
   "source": []
  }
 ],
 "metadata": {
  "kernelspec": {
   "display_name": "Python 3",
   "language": "python",
   "name": "python3"
  },
  "language_info": {
   "codemirror_mode": {
    "name": "ipython",
    "version": 3
   },
   "file_extension": ".py",
   "mimetype": "text/x-python",
   "name": "python",
   "nbconvert_exporter": "python",
   "pygments_lexer": "ipython3",
   "version": "3.8.5"
  }
 },
 "nbformat": 4,
 "nbformat_minor": 4
}
