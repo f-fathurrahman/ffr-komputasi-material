{
 "cells": [
  {
   "cell_type": "markdown",
   "metadata": {},
   "source": [
    "- Slit width: $\\sigma_0$\n",
    "- Slit distance: $Y$\n",
    "- Wavenumber along $x$ direction: $k_{x}$"
   ]
  },
  {
   "cell_type": "markdown",
   "metadata": {},
   "source": [
    "The wave that leave the slit:\n",
    "\n",
    "$$\n",
    "\\psi(x,y,t) = \\left( 2\\pi\\sigma_{t}^2 \\right)^{(-1/4)}\n",
    "\\exp\\left[\n",
    "\\frac{(y - Y)^2}{4\\sigma_{0}\\sigma_{t}} +\n",
    "\\text{i}\\left(\n",
    "  k_{x} x - \\frac{k_{x}^2 t}{2}\n",
    "  \\right)\n",
    "\\right]\n",
    "$$\n",
    "\n",
    "with:\n",
    "\n",
    "$$\n",
    "\\sigma_{t} = \\sigma_{0} \\left( 1 + \\frac{\\text{i}t}{2\\sigma_{0}^{2}} \\right)\n",
    "$$"
   ]
  },
  {
   "cell_type": "code",
   "execution_count": 1,
   "metadata": {},
   "outputs": [],
   "source": [
    "from sympy import *"
   ]
  },
  {
   "cell_type": "code",
   "execution_count": 3,
   "metadata": {},
   "outputs": [],
   "source": [
    "init_printing(use_latex=True)"
   ]
  },
  {
   "cell_type": "code",
   "execution_count": 11,
   "metadata": {},
   "outputs": [],
   "source": [
    "sigma_0, N, k_x, Y = symbols(\"sigma_0 N k_x Y\")\n",
    "sigma_t, t = symbols(\"sigma_t t\")\n",
    "x, y = symbols(\"x y\")"
   ]
  },
  {
   "cell_type": "code",
   "execution_count": 12,
   "metadata": {},
   "outputs": [
    {
     "data": {
      "image/png": "[encoded data removed]",
      "text/latex": [
       "$$i \\left(- k_{x}^{2} t + k_{x} x\\right)$$"
      ],
      "text/plain": [
       "  ⎛    2         ⎞\n",
       "ⅈ⋅⎝- kₓ ⋅t + kₓ⋅x⎠"
      ]
     },
     "execution_count": 12,
     "metadata": {},
     "output_type": "execute_result"
    }
   ],
   "source": [
    "I*(k_x*x - k_x**2 * t)"
   ]
  },
  {
   "cell_type": "code",
   "execution_count": 14,
   "metadata": {},
   "outputs": [
    {
     "data": {
      "image/png": "[encoded data removed]",
      "text/latex": [
       "$$\\sigma_{0} \\left(1 + \\frac{i t}{2 \\sigma_{0}^{2}}\\right)$$"
      ],
      "text/plain": [
       "   ⎛     ⅈ⋅t ⎞\n",
       "σ₀⋅⎜1 + ─────⎟\n",
       "   ⎜        2⎟\n",
       "   ⎝    2⋅σ₀ ⎠"
      ]
     },
     "execution_count": 14,
     "metadata": {},
     "output_type": "execute_result"
    }
   ],
   "source": [
    "sigma_t = sigma_0*(1 + I*t/(2*sigma_0**2))\n",
    "sigma_t"
   ]
  },
  {
   "cell_type": "code",
   "execution_count": 19,
   "metadata": {},
   "outputs": [
    {
     "data": {
      "image/png": "[encoded data removed]",
      "text/latex": [
       "$$- \\frac{\\left(- Y + y\\right)^{2}}{4 \\sigma_{0}^{2} \\left(1 + \\frac{i t}{2 \\sigma_{0}^{2}}\\right)}$$"
      ],
      "text/plain": [
       "            2    \n",
       "   -(-Y + y)     \n",
       "─────────────────\n",
       "    2 ⎛     ⅈ⋅t ⎞\n",
       "4⋅σ₀ ⋅⎜1 + ─────⎟\n",
       "      ⎜        2⎟\n",
       "      ⎝    2⋅σ₀ ⎠"
      ]
     },
     "execution_count": 19,
     "metadata": {},
     "output_type": "execute_result"
    }
   ],
   "source": [
    "term1 = -(y - Y)**2/(4*sigma_0*sigma_t)\n",
    "term1"
   ]
  },
  {
   "cell_type": "code",
   "execution_count": 20,
   "metadata": {},
   "outputs": [
    {
     "data": {
      "image/png": "[encoded data removed]",
      "text/latex": [
       "$$i \\left(- \\frac{k_{x}^{2} t}{2} + k_{x} x\\right)$$"
      ],
      "text/plain": [
       "  ⎛    2         ⎞\n",
       "  ⎜  kₓ ⋅t       ⎟\n",
       "ⅈ⋅⎜- ───── + kₓ⋅x⎟\n",
       "  ⎝    2         ⎠"
      ]
     },
     "execution_count": 20,
     "metadata": {},
     "output_type": "execute_result"
    }
   ],
   "source": [
    "term2 = I*( k_x*x - k_x**2 * t / 2)\n",
    "term2"
   ]
  },
  {
   "cell_type": "code",
   "execution_count": 21,
   "metadata": {},
   "outputs": [
    {
     "data": {
      "image/png": "[encoded data removed]",
      "text/latex": [
       "$$\\frac{2^{\\frac{3}{4}} e^{i \\left(- \\frac{k_{x}^{2} t}{2} + k_{x} x\\right) - \\frac{\\left(- Y + y\\right)^{2}}{4 \\sigma_{0}^{2} \\left(1 + \\frac{i t}{2 \\sigma_{0}^{2}}\\right)}}}{2 \\sqrt[4]{\\pi} \\sqrt[4]{\\sigma_{0} \\left(1 + \\frac{i t}{2 \\sigma_{0}^{2}}\\right)}}$$"
      ],
      "text/plain": [
       "        ⎛    2         ⎞               2    \n",
       "        ⎜  kₓ ⋅t       ⎟       (-Y + y)     \n",
       "      ⅈ⋅⎜- ───── + kₓ⋅x⎟ - ─────────────────\n",
       "        ⎝    2         ⎠       2 ⎛     ⅈ⋅t ⎞\n",
       "                           4⋅σ₀ ⋅⎜1 + ─────⎟\n",
       "                                 ⎜        2⎟\n",
       " 3/4                             ⎝    2⋅σ₀ ⎠\n",
       "2   ⋅ℯ                                      \n",
       "────────────────────────────────────────────\n",
       "                    ________________        \n",
       "         4 ___     ╱    ⎛     ⅈ⋅t ⎞         \n",
       "       2⋅╲╱ π ⋅   ╱  σ₀⋅⎜1 + ─────⎟         \n",
       "               4 ╱      ⎜        2⎟         \n",
       "               ╲╱       ⎝    2⋅σ₀ ⎠         "
      ]
     },
     "execution_count": 21,
     "metadata": {},
     "output_type": "execute_result"
    }
   ],
   "source": [
    "psi_xyt = (2*pi*sigma_t)**Rational(-1,4) * exp( term1 + term2 )\n",
    "psi_xyt"
   ]
  },
  {
   "cell_type": "markdown",
   "metadata": {},
   "source": [
    "Trajectories"
   ]
  },
  {
   "cell_type": "code",
   "execution_count": 25,
   "metadata": {
    "scrolled": false
   },
   "outputs": [
    {
     "data": {
      "image/png": "[encoded data removed]",
      "text/latex": [
       "$$- \\frac{\\left(- 2 Y + 2 y\\right) e^{- i \\left(- \\frac{k_{x}^{2} t}{2} + k_{x} x\\right) + \\frac{\\left(- Y + y\\right)^{2}}{4 \\sigma_{0}^{2} \\left(1 + \\frac{i t}{2 \\sigma_{0}^{2}}\\right)}} e^{i \\left(- \\frac{k_{x}^{2} t}{2} + k_{x} x\\right) - \\frac{\\left(- Y + y\\right)^{2}}{4 \\sigma_{0}^{2} \\left(1 + \\frac{i t}{2 \\sigma_{0}^{2}}\\right)}}}{4 \\sigma_{0}^{2} \\left(1 + \\frac{i t}{2 \\sigma_{0}^{2}}\\right)}$$"
      ],
      "text/plain": [
       "                   ⎛    2         ⎞               2        ⎛    2         ⎞   \n",
       "                   ⎜  kₓ ⋅t       ⎟       (-Y + y)         ⎜  kₓ ⋅t       ⎟   \n",
       "               - ⅈ⋅⎜- ───── + kₓ⋅x⎟ + ─────────────────  ⅈ⋅⎜- ───── + kₓ⋅x⎟ - \n",
       "                   ⎝    2         ⎠       2 ⎛     ⅈ⋅t ⎞    ⎝    2         ⎠   \n",
       "                                      4⋅σ₀ ⋅⎜1 + ─────⎟                       \n",
       "                                            ⎜        2⎟                       \n",
       "                                            ⎝    2⋅σ₀ ⎠                       \n",
       "-(-2⋅Y + 2⋅y)⋅ℯ                                        ⋅ℯ                     \n",
       "──────────────────────────────────────────────────────────────────────────────\n",
       "                                           2 ⎛     ⅈ⋅t ⎞                      \n",
       "                                       4⋅σ₀ ⋅⎜1 + ─────⎟                      \n",
       "                                             ⎜        2⎟                      \n",
       "                                             ⎝    2⋅σ₀ ⎠                      \n",
       "\n",
       "            2     \n",
       "    (-Y + y)      \n",
       "───────────────── \n",
       "    2 ⎛     ⅈ⋅t ⎞ \n",
       "4⋅σ₀ ⋅⎜1 + ─────⎟ \n",
       "      ⎜        2⎟ \n",
       "      ⎝    2⋅σ₀ ⎠ \n",
       "                  \n",
       "──────────────────\n",
       "                  \n",
       "                  \n",
       "                  \n",
       "                  "
      ]
     },
     "execution_count": 25,
     "metadata": {},
     "output_type": "execute_result"
    }
   ],
   "source": [
    "ydot = psi_xyt.diff(y)/psi_xyt\n",
    "ydot"
   ]
  },
  {
   "cell_type": "code",
   "execution_count": 30,
   "metadata": {},
   "outputs": [
    {
     "data": {
      "image/png": "[encoded data removed]",
      "text/latex": [
       "$$\\frac{i k_{x} e^{- \\frac{i k_{x} \\left(2 \\sigma_{0}^{2} + i t\\right) \\left(k_{x} t - 2 x\\right) + \\left(Y - y\\right)^{2}}{2 \\left(2 \\sigma_{0}^{2} + i t\\right)}}}{\\sqrt[4]{\\pi} \\sqrt[4]{\\frac{2 \\sigma_{0}^{2} + i t}{\\sigma_{0}}}}$$"
      ],
      "text/plain": [
       "       ⎛     ⎛    2      ⎞                       2⎞ \n",
       "      -⎝ⅈ⋅kₓ⋅⎝2⋅σ₀  + ⅈ⋅t⎠⋅(kₓ⋅t - 2⋅x) + (Y - y) ⎠ \n",
       "      ──────────────────────────────────────────────\n",
       "                       ⎛    2      ⎞                \n",
       "                     2⋅⎝2⋅σ₀  + ⅈ⋅t⎠                \n",
       "ⅈ⋅kₓ⋅ℯ                                              \n",
       "────────────────────────────────────────────────────\n",
       "                         _____________              \n",
       "                        ╱     2                     \n",
       "              4 ___    ╱  2⋅σ₀  + ⅈ⋅t               \n",
       "              ╲╱ π ⋅4 ╱   ───────────               \n",
       "                    ╲╱         σ₀                   "
      ]
     },
     "execution_count": 30,
     "metadata": {},
     "output_type": "execute_result"
    }
   ],
   "source": [
    "simplify( psi_xyt.diff(x) )"
   ]
  },
  {
   "cell_type": "code",
   "execution_count": 26,
   "metadata": {},
   "outputs": [
    {
     "data": {
      "image/png": "[encoded data removed]",
      "text/latex": [
       "$$\\frac{Y - y}{2 \\sigma_{0}^{2} + i t}$$"
      ],
      "text/plain": [
       "   Y - y   \n",
       "───────────\n",
       "    2      \n",
       "2⋅σ₀  + ⅈ⋅t"
      ]
     },
     "execution_count": 26,
     "metadata": {},
     "output_type": "execute_result"
    }
   ],
   "source": [
    "simplify(ydot)"
   ]
  },
  {
   "cell_type": "markdown",
   "metadata": {},
   "source": [
    "Is $k_x$ and $k_y$ equal to velocity ?"
   ]
  },
  {
   "cell_type": "code",
   "execution_count": 27,
   "metadata": {},
   "outputs": [
    {
     "data": {
      "image/png": "[encoded data removed]",
      "text/latex": [
       "$$i k_{x} e^{- i \\left(- \\frac{k_{x}^{2} t}{2} + k_{x} x\\right) + \\frac{\\left(- Y + y\\right)^{2}}{4 \\sigma_{0}^{2} \\left(1 + \\frac{i t}{2 \\sigma_{0}^{2}}\\right)}} e^{i \\left(- \\frac{k_{x}^{2} t}{2} + k_{x} x\\right) - \\frac{\\left(- Y + y\\right)^{2}}{4 \\sigma_{0}^{2} \\left(1 + \\frac{i t}{2 \\sigma_{0}^{2}}\\right)}}$$"
      ],
      "text/plain": [
       "          ⎛    2         ⎞               2        ⎛    2         ⎞            \n",
       "          ⎜  kₓ ⋅t       ⎟       (-Y + y)         ⎜  kₓ ⋅t       ⎟       (-Y +\n",
       "      - ⅈ⋅⎜- ───── + kₓ⋅x⎟ + ─────────────────  ⅈ⋅⎜- ───── + kₓ⋅x⎟ - ─────────\n",
       "          ⎝    2         ⎠       2 ⎛     ⅈ⋅t ⎞    ⎝    2         ⎠       2 ⎛  \n",
       "                             4⋅σ₀ ⋅⎜1 + ─────⎟                       4⋅σ₀ ⋅⎜1 \n",
       "                                   ⎜        2⎟                             ⎜  \n",
       "                                   ⎝    2⋅σ₀ ⎠                             ⎝  \n",
       "ⅈ⋅kₓ⋅ℯ                                        ⋅ℯ                              \n",
       "\n",
       "   2    \n",
       " y)     \n",
       "────────\n",
       "   ⅈ⋅t ⎞\n",
       "+ ─────⎟\n",
       "      2⎟\n",
       "  2⋅σ₀ ⎠\n",
       "        "
      ]
     },
     "execution_count": 27,
     "metadata": {},
     "output_type": "execute_result"
    }
   ],
   "source": [
    "xdot = psi_xyt.diff(x)/psi_xyt\n",
    "xdot"
   ]
  },
  {
   "cell_type": "code",
   "execution_count": 28,
   "metadata": {},
   "outputs": [
    {
     "data": {
      "image/png": "[encoded data removed]",
      "text/latex": [
       "$$i k_{x}$$"
      ],
      "text/plain": [
       "ⅈ⋅kₓ"
      ]
     },
     "execution_count": 28,
     "metadata": {},
     "output_type": "execute_result"
    }
   ],
   "source": [
    "simplify(xdot)"
   ]
  },
  {
   "cell_type": "code",
   "execution_count": 31,
   "metadata": {},
   "outputs": [
    {
     "data": {
      "image/png": "[encoded data removed]",
      "text/latex": [
       "$$\\frac{\\sqrt{2} e^{2 i \\left(- \\frac{k_{x}^{2} t}{2} + k_{x} x\\right) - \\frac{\\left(- Y + y\\right)^{2}}{2 \\sigma_{0}^{2} \\left(1 + \\frac{i t}{2 \\sigma_{0}^{2}}\\right)}}}{2 \\sqrt{\\pi} \\sqrt{\\sigma_{0} \\left(1 + \\frac{i t}{2 \\sigma_{0}^{2}}\\right)}}$$"
      ],
      "text/plain": [
       "        ⎛    2         ⎞               2    \n",
       "        ⎜  kₓ ⋅t       ⎟       (-Y + y)     \n",
       "    2⋅ⅈ⋅⎜- ───── + kₓ⋅x⎟ - ─────────────────\n",
       "        ⎝    2         ⎠       2 ⎛     ⅈ⋅t ⎞\n",
       "                           2⋅σ₀ ⋅⎜1 + ─────⎟\n",
       "                                 ⎜        2⎟\n",
       "                                 ⎝    2⋅σ₀ ⎠\n",
       "√2⋅ℯ                                        \n",
       "────────────────────────────────────────────\n",
       "                   ________________         \n",
       "                  ╱    ⎛     ⅈ⋅t ⎞          \n",
       "         2⋅√π⋅   ╱  σ₀⋅⎜1 + ─────⎟          \n",
       "                ╱      ⎜        2⎟          \n",
       "              ╲╱       ⎝    2⋅σ₀ ⎠          "
      ]
     },
     "execution_count": 31,
     "metadata": {},
     "output_type": "execute_result"
    }
   ],
   "source": [
    "psi2 = psi_xyt**2\n",
    "psi2"
   ]
  },
  {
   "cell_type": "code",
   "execution_count": 32,
   "metadata": {},
   "outputs": [
    {
     "data": {
      "image/png": "[encoded data removed]",
      "text/latex": [
       "$$\\frac{2 Y - 2 y}{2 \\sigma_{0}^{2} + i t}$$"
      ],
      "text/plain": [
       " 2⋅Y - 2⋅y \n",
       "───────────\n",
       "    2      \n",
       "2⋅σ₀  + ⅈ⋅t"
      ]
     },
     "execution_count": 32,
     "metadata": {},
     "output_type": "execute_result"
    }
   ],
   "source": [
    "simplify( psi2.diff(y)/psi2 )"
   ]
  },
  {
   "cell_type": "code",
   "execution_count": null,
   "metadata": {},
   "outputs": [],
   "source": []
  },
  {
   "cell_type": "code",
   "execution_count": null,
   "metadata": {},
   "outputs": [],
   "source": []
  }
 ],
 "metadata": {
  "kernelspec": {
   "display_name": "Python 3",
   "language": "python",
   "name": "python3"
  },
  "language_info": {
   "codemirror_mode": {
    "name": "ipython",
    "version": 3
   },
   "file_extension": ".py",
   "mimetype": "text/x-python",
   "name": "python",
   "nbconvert_exporter": "python",
   "pygments_lexer": "ipython3",
   "version": "3.7.1"
  }
 },
 "nbformat": 4,
 "nbformat_minor": 2
}
