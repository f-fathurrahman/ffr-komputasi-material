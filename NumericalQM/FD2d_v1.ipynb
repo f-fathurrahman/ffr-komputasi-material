{
 "cells": [
  {
   "cell_type": "markdown",
   "metadata": {},
   "source": [
    "<h1 style=\"text-align:center;\">Numerical Quantum Mechanics</h1>\n",
    "<h2 style=\"text-align:center;\">Time-Independent Schrodinger Equation using Finite Difference</h2>\n",
    "<h3 style=\"text-align:center;\">Fadjar Fathurrahman</h3>\n",
    "<h3 style=\"text-align:center;\">Mariya Al Qibtiya Nasution</h3>"
   ]
  },
  {
   "cell_type": "code",
   "execution_count": 1,
   "metadata": {},
   "outputs": [],
   "source": [
    "import PyPlot\n",
    "const plt = PyPlot;"
   ]
  },
  {
   "cell_type": "code",
   "execution_count": 2,
   "metadata": {},
   "outputs": [],
   "source": [
    "plt.svg(true);"
   ]
  },
  {
   "cell_type": "code",
   "execution_count": 3,
   "metadata": {},
   "outputs": [],
   "source": [
    "using LinearAlgebra"
   ]
  },
  {
   "cell_type": "code",
   "execution_count": 8,
   "metadata": {},
   "outputs": [],
   "source": [
    "using SparseArrays"
   ]
  },
  {
   "cell_type": "markdown",
   "metadata": {},
   "source": [
    "Let's remind "
   ]
  },
  {
   "cell_type": "code",
   "execution_count": 4,
   "metadata": {},
   "outputs": [
    {
     "data": {
      "text/plain": [
       "build_D2_matrix (generic function with 1 method)"
      ]
     },
     "execution_count": 4,
     "metadata": {},
     "output_type": "execute_result"
    }
   ],
   "source": [
    "function build_D2_matrix(N::Int64, h::Float64)\n",
    "    mat = zeros(Float64,N,N)\n",
    "    for i = 1:N\n",
    "        mat[i,i] = -2.0\n",
    "        if i != N\n",
    "            mat[i,i+1] = 1.0\n",
    "            mat[i+1,i] = mat[i,i+1]\n",
    "        end\n",
    "    end\n",
    "    return mat/h^2\n",
    "end"
   ]
  },
  {
   "cell_type": "code",
   "execution_count": 43,
   "metadata": {},
   "outputs": [],
   "source": [
    "Nx = 30\n",
    "x_min = -5.0\n",
    "x_max = 5.0\n",
    "Lx = x_max - x_min\n",
    "hx = Lx/(Nx-1)\n",
    "x = zeros(Float64,Nx)\n",
    "for i in 1:Nx\n",
    "    x[i] = x_min + (i-1)*hx\n",
    "end"
   ]
  },
  {
   "cell_type": "code",
   "execution_count": 44,
   "metadata": {},
   "outputs": [],
   "source": [
    "Ny = 30\n",
    "y_min = -5.0\n",
    "y_max = 5.0\n",
    "Ly = y_max - y_min\n",
    "hy = Ly/(Ny-1)\n",
    "y = zeros(Float64,Ny)\n",
    "for j in 1:Ny\n",
    "    y[j] = y_min + (j-1)*hy\n",
    "end"
   ]
  },
  {
   "cell_type": "code",
   "execution_count": 56,
   "metadata": {},
   "outputs": [],
   "source": [
    "Npoints = Nx*Ny\n",
    "r = zeros(2,Npoints)\n",
    "ip = 0\n",
    "idx_ip2xy = zeros(Int64,2,Npoints)\n",
    "idx_xy2ip = zeros(Int64,Nx,Ny)\n",
    "for j in 1:Ny\n",
    "    for i in 1:Nx\n",
    "        ip = ip + 1\n",
    "        r[1,ip] = x[i]\n",
    "        r[2,ip] = y[j]\n",
    "        idx_ip2xy[1,ip] = i\n",
    "        idx_ip2xy[2,ip] = j\n",
    "        idx_xy2ip[i,j] = ip\n",
    "    end\n",
    "end"
   ]
  },
  {
   "cell_type": "code",
   "execution_count": 47,
   "metadata": {},
   "outputs": [],
   "source": [
    "D2x = build_D2_matrix(Nx, hx);\n",
    "D2y = build_D2_matrix(Ny, hy);"
   ]
  },
  {
   "cell_type": "code",
   "execution_count": 53,
   "metadata": {},
   "outputs": [],
   "source": [
    "∇2 = kron(D2x, speye(Ny)) + kron(speye(Nx), D2y);"
   ]
  },
  {
   "cell_type": "code",
   "execution_count": 54,
   "metadata": {},
   "outputs": [
    {
     "data": {
      "text/plain": [
       "(900, 900)"
      ]
     },
     "execution_count": 54,
     "metadata": {},
     "output_type": "execute_result"
    }
   ],
   "source": [
    "∇2.m, ∇2.n"
   ]
  },
  {
   "cell_type": "code",
   "execution_count": 25,
   "metadata": {},
   "outputs": [],
   "source": [
    "ψ1 = rand(Nx*Ny);"
   ]
  },
  {
   "cell_type": "code",
   "execution_count": 26,
   "metadata": {},
   "outputs": [],
   "source": [
    "∇2*ψ1;"
   ]
  },
  {
   "cell_type": "code",
   "execution_count": 57,
   "metadata": {},
   "outputs": [
    {
     "data": {
      "text/plain": [
       "pot_harmonic (generic function with 6 methods)"
      ]
     },
     "execution_count": 57,
     "metadata": {},
     "output_type": "execute_result"
    }
   ],
   "source": [
    "function pot_harmonic(x, y, ω=1.0)\n",
    "    return 0.5 * ω^2 *( x^2 + y^2 )\n",
    "end"
   ]
  },
  {
   "cell_type": "code",
   "execution_count": 58,
   "metadata": {},
   "outputs": [],
   "source": [
    "Vpot = zeros(Npoints)\n",
    "for i in 1:Npoints\n",
    "    Vpot[i] = pot_harmonic(r[1,i], r[2,i])\n",
    "end"
   ]
  },
  {
   "cell_type": "code",
   "execution_count": 55,
   "metadata": {},
   "outputs": [
    {
     "data": {
      "text/plain": [
       "441"
      ]
     },
     "execution_count": 55,
     "metadata": {},
     "output_type": "execute_result"
    }
   ],
   "source": [
    "Npoints"
   ]
  },
  {
   "cell_type": "code",
   "execution_count": 59,
   "metadata": {},
   "outputs": [],
   "source": [
    "Ham = -0.5*∇2 + spdiagm( 0 => Vpot );"
   ]
  },
  {
   "cell_type": "code",
   "execution_count": 27,
   "metadata": {},
   "outputs": [],
   "source": [
    "using IterativeSolvers"
   ]
  },
  {
   "cell_type": "code",
   "execution_count": 60,
   "metadata": {},
   "outputs": [],
   "source": [
    "res = lobpcg(Ham, false, 5);"
   ]
  },
  {
   "cell_type": "code",
   "execution_count": 61,
   "metadata": {},
   "outputs": [
    {
     "data": {
      "text/plain": [
       "5-element Array{Float64,1}:\n",
       " 0.9925118683851903\n",
       " 1.9774185788069665\n",
       " 1.9774185788122849\n",
       " 2.9469286531861423\n",
       " 2.946928655014062 "
      ]
     },
     "execution_count": 61,
     "metadata": {},
     "output_type": "execute_result"
    }
   ],
   "source": [
    "res.λ"
   ]
  },
  {
   "cell_type": "code",
   "execution_count": 62,
   "metadata": {},
   "outputs": [
    {
     "data": {
      "text/plain": [
       "Results of LOBPCG Algorithm\n",
       " * Algorithm: LOBPCG - CholQR\n",
       " * λ: [0.9925118683851903,1.9774185788069665, ...]\n",
       " * Residual norm(s): [4.767635709620756e-6,1.3836270471368007e-5, ...]\n",
       " * Convergence\n",
       "   * Iterations: 92\n",
       "   * Converged: true\n",
       "   * Iterations limit: 200\n"
      ]
     },
     "execution_count": 62,
     "metadata": {},
     "output_type": "execute_result"
    }
   ],
   "source": [
    "res"
   ]
  },
  {
   "cell_type": "code",
   "execution_count": 28,
   "metadata": {
    "scrolled": true
   },
   "outputs": [
    {
     "name": "stdout",
     "output_type": "stream",
     "text": [
      "search: \u001b[0m\u001b[1ml\u001b[22m\u001b[0m\u001b[1mo\u001b[22m\u001b[0m\u001b[1mb\u001b[22m\u001b[0m\u001b[1mp\u001b[22m\u001b[0m\u001b[1mc\u001b[22m\u001b[0m\u001b[1mg\u001b[22m \u001b[0m\u001b[1ml\u001b[22m\u001b[0m\u001b[1mo\u001b[22m\u001b[0m\u001b[1mb\u001b[22m\u001b[0m\u001b[1mp\u001b[22m\u001b[0m\u001b[1mc\u001b[22m\u001b[0m\u001b[1mg\u001b[22m! \u001b[0m\u001b[1mL\u001b[22m\u001b[0m\u001b[1mO\u001b[22m\u001b[0m\u001b[1mB\u001b[22m\u001b[0m\u001b[1mP\u001b[22m\u001b[0m\u001b[1mC\u001b[22m\u001b[0m\u001b[1mG\u001b[22mIterator\n",
      "\n"
     ]
    },
    {
     "data": {
      "text/latex": [
       "The Locally Optimal Block Preconditioned Conjugate Gradient Method (LOBPCG)\n",
       "\n",
       "Finds the \\texttt{nev} extremal eigenvalues and their corresponding eigenvectors satisfying \\texttt{AX = λBX}.\n",
       "\n",
       "\\texttt{A} and \\texttt{B} may be generic types but \\texttt{Base.mul!(C, AorB, X)} must be defined for vectors and strided matrices \\texttt{X} and \\texttt{C}. \\texttt{size(A, i::Int)} and \\texttt{eltype(A)} must also be defined for \\texttt{A}.\n",
       "\n",
       "\\begin{verbatim}\n",
       "lobpcg(A, [B,] largest, nev; kwargs...) -> results\n",
       "\\end{verbatim}\n",
       "\\section{Arguments}\n",
       "\\begin{itemize}\n",
       "\\item \\texttt{A}: linear operator;\n",
       "\n",
       "\n",
       "\\item \\texttt{B}: linear operator;\n",
       "\n",
       "\n",
       "\\item \\texttt{largest}: \\texttt{true} if largest eigenvalues are desired and false if smallest;\n",
       "\n",
       "\n",
       "\\item \\texttt{nev}: number of eigenvalues desired.\n",
       "\n",
       "\\end{itemize}\n",
       "\\subsection{Keywords}\n",
       "\\begin{itemize}\n",
       "\\item \\texttt{log::Bool}: default is \\texttt{false}; if \\texttt{true}, \\texttt{results.trace} will store iterations   states; if \\texttt{false} only \\texttt{results.trace} will be empty;\n",
       "\n",
       "\n",
       "\\item \\texttt{P}: preconditioner of residual vectors, must overload \\texttt{ldiv!};\n",
       "\n",
       "\n",
       "\\item \\texttt{C}: constraint to deflate the residual and solution vectors orthogonal   to a subspace; must overload \\texttt{mul!};\n",
       "\n",
       "\n",
       "\\item \\texttt{maxiter}: maximum number of iterations; default is 200;\n",
       "\n",
       "\n",
       "\\item \\texttt{tol::Real}: tolerance to which residual vector norms must be under.\n",
       "\n",
       "\\end{itemize}\n",
       "\\section{Output}\n",
       "\\begin{itemize}\n",
       "\\item \\texttt{results}: a \\texttt{LOBPCGResults} struct. \\texttt{r.λ} and \\texttt{r.X} store the eigenvalues and eigenvectors.\n",
       "\n",
       "\\end{itemize}\n",
       "\\rule{\\textwidth}{1pt}\n",
       "\\begin{verbatim}\n",
       "lobpcg(A, [B,] largest, X0; kwargs...) -> results\n",
       "\\end{verbatim}\n",
       "\\section{Arguments}\n",
       "\\begin{itemize}\n",
       "\\item \\texttt{A}: linear operator;\n",
       "\n",
       "\n",
       "\\item \\texttt{B}: linear operator;\n",
       "\n",
       "\n",
       "\\item \\texttt{largest}: \\texttt{true} if largest eigenvalues are desired and false if smallest;\n",
       "\n",
       "\n",
       "\\item \\texttt{X0}: Initial guess, will not be modified. The number of columns is the number of eigenvectors desired.\n",
       "\n",
       "\\end{itemize}\n",
       "\\subsection{Keywords}\n",
       "\\begin{itemize}\n",
       "\\item \\texttt{not\\_zeros}: default is \\texttt{false}. If \\texttt{true}, \\texttt{X0} will be assumed to not have any all-zeros column.\n",
       "\n",
       "\n",
       "\\item \\texttt{log::Bool}: default is \\texttt{false}; if \\texttt{true}, \\texttt{results.trace} will store iterations   states; if \\texttt{false} only \\texttt{results.trace} will be empty;\n",
       "\n",
       "\n",
       "\\item \\texttt{P}: preconditioner of residual vectors, must overload \\texttt{ldiv!};\n",
       "\n",
       "\n",
       "\\item \\texttt{C}: constraint to deflate the residual and solution vectors orthogonal   to a subspace; must overload \\texttt{mul!};\n",
       "\n",
       "\n",
       "\\item \\texttt{maxiter}: maximum number of iterations; default is 200;\n",
       "\n",
       "\n",
       "\\item \\texttt{tol::Real}: tolerance to which residual vector norms must be under.\n",
       "\n",
       "\\end{itemize}\n",
       "\\section{Output}\n",
       "\\begin{itemize}\n",
       "\\item \\texttt{results}: a \\texttt{LOBPCGResults} struct. \\texttt{r.λ} and \\texttt{r.X} store the eigenvalues and eigenvectors.\n",
       "\n",
       "\\end{itemize}\n",
       "\\rule{\\textwidth}{1pt}\n",
       "lobpcg(A, [B,] largest, X0, nev; kwargs...) -> results\n",
       "\n",
       "\\section{Arguments}\n",
       "\\begin{itemize}\n",
       "\\item \\texttt{A}: linear operator;\n",
       "\n",
       "\n",
       "\\item \\texttt{B}: linear operator;\n",
       "\n",
       "\n",
       "\\item \\texttt{largest}: \\texttt{true} if largest eigenvalues are desired and false if smallest;\n",
       "\n",
       "\n",
       "\\item \\texttt{X0}: block vectors such that the eigenvalues will be found size(X0, 2) at a time;   the columns are also used to initialize the first batch of Ritz vectors;\n",
       "\n",
       "\n",
       "\\item \\texttt{nev}: number of eigenvalues desired.\n",
       "\n",
       "\\end{itemize}\n",
       "\\subsection{Keywords}\n",
       "\\begin{itemize}\n",
       "\\item \\texttt{log::Bool}: default is \\texttt{false}; if \\texttt{true}, \\texttt{results.trace} will store iterations   states; if \\texttt{false} only \\texttt{results.trace} will be empty;\n",
       "\n",
       "\n",
       "\\item \\texttt{P}: preconditioner of residual vectors, must overload \\texttt{ldiv!};\n",
       "\n",
       "\n",
       "\\item \\texttt{C}: constraint to deflate the residual and solution vectors orthogonal   to a subspace; must overload \\texttt{mul!};\n",
       "\n",
       "\n",
       "\\item \\texttt{maxiter}: maximum number of iterations; default is 200;\n",
       "\n",
       "\n",
       "\\item \\texttt{tol::Real}: tolerance to which residual vector norms must be under.\n",
       "\n",
       "\\end{itemize}\n",
       "\\section{Output}\n",
       "\\begin{itemize}\n",
       "\\item \\texttt{results}: a \\texttt{LOBPCGResults} struct. \\texttt{r.λ} and \\texttt{r.X} store the eigenvalues and eigenvectors.\n",
       "\n",
       "\\end{itemize}\n"
      ],
      "text/markdown": [
       "The Locally Optimal Block Preconditioned Conjugate Gradient Method (LOBPCG)\n",
       "\n",
       "Finds the `nev` extremal eigenvalues and their corresponding eigenvectors satisfying `AX = λBX`.\n",
       "\n",
       "`A` and `B` may be generic types but `Base.mul!(C, AorB, X)` must be defined for vectors and strided matrices `X` and `C`. `size(A, i::Int)` and `eltype(A)` must also be defined for `A`.\n",
       "\n",
       "```\n",
       "lobpcg(A, [B,] largest, nev; kwargs...) -> results\n",
       "```\n",
       "\n",
       "# Arguments\n",
       "\n",
       "  * `A`: linear operator;\n",
       "  * `B`: linear operator;\n",
       "  * `largest`: `true` if largest eigenvalues are desired and false if smallest;\n",
       "  * `nev`: number of eigenvalues desired.\n",
       "\n",
       "## Keywords\n",
       "\n",
       "  * `log::Bool`: default is `false`; if `true`, `results.trace` will store iterations   states; if `false` only `results.trace` will be empty;\n",
       "  * `P`: preconditioner of residual vectors, must overload `ldiv!`;\n",
       "  * `C`: constraint to deflate the residual and solution vectors orthogonal   to a subspace; must overload `mul!`;\n",
       "  * `maxiter`: maximum number of iterations; default is 200;\n",
       "  * `tol::Real`: tolerance to which residual vector norms must be under.\n",
       "\n",
       "# Output\n",
       "\n",
       "  * `results`: a `LOBPCGResults` struct. `r.λ` and `r.X` store the eigenvalues and eigenvectors.\n",
       "\n",
       "---\n",
       "\n",
       "```\n",
       "lobpcg(A, [B,] largest, X0; kwargs...) -> results\n",
       "```\n",
       "\n",
       "# Arguments\n",
       "\n",
       "  * `A`: linear operator;\n",
       "  * `B`: linear operator;\n",
       "  * `largest`: `true` if largest eigenvalues are desired and false if smallest;\n",
       "  * `X0`: Initial guess, will not be modified. The number of columns is the number of eigenvectors desired.\n",
       "\n",
       "## Keywords\n",
       "\n",
       "  * `not_zeros`: default is `false`. If `true`, `X0` will be assumed to not have any all-zeros column.\n",
       "  * `log::Bool`: default is `false`; if `true`, `results.trace` will store iterations   states; if `false` only `results.trace` will be empty;\n",
       "  * `P`: preconditioner of residual vectors, must overload `ldiv!`;\n",
       "  * `C`: constraint to deflate the residual and solution vectors orthogonal   to a subspace; must overload `mul!`;\n",
       "  * `maxiter`: maximum number of iterations; default is 200;\n",
       "  * `tol::Real`: tolerance to which residual vector norms must be under.\n",
       "\n",
       "# Output\n",
       "\n",
       "  * `results`: a `LOBPCGResults` struct. `r.λ` and `r.X` store the eigenvalues and eigenvectors.\n",
       "\n",
       "---\n",
       "\n",
       "lobpcg(A, [B,] largest, X0, nev; kwargs...) -> results\n",
       "\n",
       "# Arguments\n",
       "\n",
       "  * `A`: linear operator;\n",
       "  * `B`: linear operator;\n",
       "  * `largest`: `true` if largest eigenvalues are desired and false if smallest;\n",
       "  * `X0`: block vectors such that the eigenvalues will be found size(X0, 2) at a time;   the columns are also used to initialize the first batch of Ritz vectors;\n",
       "  * `nev`: number of eigenvalues desired.\n",
       "\n",
       "## Keywords\n",
       "\n",
       "  * `log::Bool`: default is `false`; if `true`, `results.trace` will store iterations   states; if `false` only `results.trace` will be empty;\n",
       "  * `P`: preconditioner of residual vectors, must overload `ldiv!`;\n",
       "  * `C`: constraint to deflate the residual and solution vectors orthogonal   to a subspace; must overload `mul!`;\n",
       "  * `maxiter`: maximum number of iterations; default is 200;\n",
       "  * `tol::Real`: tolerance to which residual vector norms must be under.\n",
       "\n",
       "# Output\n",
       "\n",
       "  * `results`: a `LOBPCGResults` struct. `r.λ` and `r.X` store the eigenvalues and eigenvectors.\n"
      ],
      "text/plain": [
       "  The Locally Optimal Block Preconditioned Conjugate Gradient Method (LOBPCG)\n",
       "\n",
       "  Finds the \u001b[36mnev\u001b[39m extremal eigenvalues and their corresponding eigenvectors\n",
       "  satisfying \u001b[36mAX = λBX\u001b[39m.\n",
       "\n",
       "  \u001b[36mA\u001b[39m and \u001b[36mB\u001b[39m may be generic types but \u001b[36mBase.mul!(C, AorB, X)\u001b[39m must be defined for\n",
       "  vectors and strided matrices \u001b[36mX\u001b[39m and \u001b[36mC\u001b[39m. \u001b[36msize(A, i::Int)\u001b[39m and \u001b[36meltype(A)\u001b[39m must\n",
       "  also be defined for \u001b[36mA\u001b[39m.\n",
       "\n",
       "\u001b[36m  lobpcg(A, [B,] largest, nev; kwargs...) -> results\u001b[39m\n",
       "\n",
       "\u001b[1m  Arguments\u001b[22m\n",
       "\u001b[1m  ≡≡≡≡≡≡≡≡≡≡≡\u001b[22m\n",
       "\n",
       "    •    \u001b[36mA\u001b[39m: linear operator;\n",
       "\n",
       "    •    \u001b[36mB\u001b[39m: linear operator;\n",
       "\n",
       "    •    \u001b[36mlargest\u001b[39m: \u001b[36mtrue\u001b[39m if largest eigenvalues are desired and false if\n",
       "        smallest;\n",
       "\n",
       "    •    \u001b[36mnev\u001b[39m: number of eigenvalues desired.\n",
       "\n",
       "\u001b[1m  Keywords\u001b[22m\n",
       "\u001b[1m  ==========\u001b[22m\n",
       "\n",
       "    •    \u001b[36mlog::Bool\u001b[39m: default is \u001b[36mfalse\u001b[39m; if \u001b[36mtrue\u001b[39m, \u001b[36mresults.trace\u001b[39m will store\n",
       "        iterations states; if \u001b[36mfalse\u001b[39m only \u001b[36mresults.trace\u001b[39m will be empty;\n",
       "\n",
       "    •    \u001b[36mP\u001b[39m: preconditioner of residual vectors, must overload \u001b[36mldiv!\u001b[39m;\n",
       "\n",
       "    •    \u001b[36mC\u001b[39m: constraint to deflate the residual and solution vectors\n",
       "        orthogonal to a subspace; must overload \u001b[36mmul!\u001b[39m;\n",
       "\n",
       "    •    \u001b[36mmaxiter\u001b[39m: maximum number of iterations; default is 200;\n",
       "\n",
       "    •    \u001b[36mtol::Real\u001b[39m: tolerance to which residual vector norms must be under.\n",
       "\n",
       "\u001b[1m  Output\u001b[22m\n",
       "\u001b[1m  ≡≡≡≡≡≡≡≡\u001b[22m\n",
       "\n",
       "    •    \u001b[36mresults\u001b[39m: a \u001b[36mLOBPCGResults\u001b[39m struct. \u001b[36mr.λ\u001b[39m and \u001b[36mr.X\u001b[39m store the eigenvalues\n",
       "        and eigenvectors.\n",
       "\n",
       "  ────────────────────────────────────────────────────────────────────────────\n",
       "\n",
       "\u001b[36m  lobpcg(A, [B,] largest, X0; kwargs...) -> results\u001b[39m\n",
       "\n",
       "\u001b[1m  Arguments\u001b[22m\n",
       "\u001b[1m  ≡≡≡≡≡≡≡≡≡≡≡\u001b[22m\n",
       "\n",
       "    •    \u001b[36mA\u001b[39m: linear operator;\n",
       "\n",
       "    •    \u001b[36mB\u001b[39m: linear operator;\n",
       "\n",
       "    •    \u001b[36mlargest\u001b[39m: \u001b[36mtrue\u001b[39m if largest eigenvalues are desired and false if\n",
       "        smallest;\n",
       "\n",
       "    •    \u001b[36mX0\u001b[39m: Initial guess, will not be modified. The number of columns is\n",
       "        the number of eigenvectors desired.\n",
       "\n",
       "\u001b[1m  Keywords\u001b[22m\n",
       "\u001b[1m  ==========\u001b[22m\n",
       "\n",
       "    •    \u001b[36mnot_zeros\u001b[39m: default is \u001b[36mfalse\u001b[39m. If \u001b[36mtrue\u001b[39m, \u001b[36mX0\u001b[39m will be assumed to not\n",
       "        have any all-zeros column.\n",
       "\n",
       "    •    \u001b[36mlog::Bool\u001b[39m: default is \u001b[36mfalse\u001b[39m; if \u001b[36mtrue\u001b[39m, \u001b[36mresults.trace\u001b[39m will store\n",
       "        iterations states; if \u001b[36mfalse\u001b[39m only \u001b[36mresults.trace\u001b[39m will be empty;\n",
       "\n",
       "    •    \u001b[36mP\u001b[39m: preconditioner of residual vectors, must overload \u001b[36mldiv!\u001b[39m;\n",
       "\n",
       "    •    \u001b[36mC\u001b[39m: constraint to deflate the residual and solution vectors\n",
       "        orthogonal to a subspace; must overload \u001b[36mmul!\u001b[39m;\n",
       "\n",
       "    •    \u001b[36mmaxiter\u001b[39m: maximum number of iterations; default is 200;\n",
       "\n",
       "    •    \u001b[36mtol::Real\u001b[39m: tolerance to which residual vector norms must be under.\n",
       "\n",
       "\u001b[1m  Output\u001b[22m\n",
       "\u001b[1m  ≡≡≡≡≡≡≡≡\u001b[22m\n",
       "\n",
       "    •    \u001b[36mresults\u001b[39m: a \u001b[36mLOBPCGResults\u001b[39m struct. \u001b[36mr.λ\u001b[39m and \u001b[36mr.X\u001b[39m store the eigenvalues\n",
       "        and eigenvectors.\n",
       "\n",
       "  ────────────────────────────────────────────────────────────────────────────\n",
       "\n",
       "  lobpcg(A, [B,] largest, X0, nev; kwargs...) -> results\n",
       "\n",
       "\u001b[1m  Arguments\u001b[22m\n",
       "\u001b[1m  ≡≡≡≡≡≡≡≡≡≡≡\u001b[22m\n",
       "\n",
       "    •    \u001b[36mA\u001b[39m: linear operator;\n",
       "\n",
       "    •    \u001b[36mB\u001b[39m: linear operator;\n",
       "\n",
       "    •    \u001b[36mlargest\u001b[39m: \u001b[36mtrue\u001b[39m if largest eigenvalues are desired and false if\n",
       "        smallest;\n",
       "\n",
       "    •    \u001b[36mX0\u001b[39m: block vectors such that the eigenvalues will be found size(X0,\n",
       "        2) at a time; the columns are also used to initialize the first\n",
       "        batch of Ritz vectors;\n",
       "\n",
       "    •    \u001b[36mnev\u001b[39m: number of eigenvalues desired.\n",
       "\n",
       "\u001b[1m  Keywords\u001b[22m\n",
       "\u001b[1m  ==========\u001b[22m\n",
       "\n",
       "    •    \u001b[36mlog::Bool\u001b[39m: default is \u001b[36mfalse\u001b[39m; if \u001b[36mtrue\u001b[39m, \u001b[36mresults.trace\u001b[39m will store\n",
       "        iterations states; if \u001b[36mfalse\u001b[39m only \u001b[36mresults.trace\u001b[39m will be empty;\n",
       "\n",
       "    •    \u001b[36mP\u001b[39m: preconditioner of residual vectors, must overload \u001b[36mldiv!\u001b[39m;\n",
       "\n",
       "    •    \u001b[36mC\u001b[39m: constraint to deflate the residual and solution vectors\n",
       "        orthogonal to a subspace; must overload \u001b[36mmul!\u001b[39m;\n",
       "\n",
       "    •    \u001b[36mmaxiter\u001b[39m: maximum number of iterations; default is 200;\n",
       "\n",
       "    •    \u001b[36mtol::Real\u001b[39m: tolerance to which residual vector norms must be under.\n",
       "\n",
       "\u001b[1m  Output\u001b[22m\n",
       "\u001b[1m  ≡≡≡≡≡≡≡≡\u001b[22m\n",
       "\n",
       "    •    \u001b[36mresults\u001b[39m: a \u001b[36mLOBPCGResults\u001b[39m struct. \u001b[36mr.λ\u001b[39m and \u001b[36mr.X\u001b[39m store the eigenvalues\n",
       "        and eigenvectors."
      ]
     },
     "execution_count": 28,
     "metadata": {},
     "output_type": "execute_result"
    }
   ],
   "source": [
    "?lobpcg"
   ]
  },
  {
   "cell_type": "code",
   "execution_count": null,
   "metadata": {},
   "outputs": [],
   "source": []
  },
  {
   "cell_type": "code",
   "execution_count": null,
   "metadata": {},
   "outputs": [],
   "source": []
  },
  {
   "cell_type": "code",
   "execution_count": null,
   "metadata": {},
   "outputs": [],
   "source": []
  },
  {
   "cell_type": "code",
   "execution_count": null,
   "metadata": {},
   "outputs": [],
   "source": []
  },
  {
   "cell_type": "code",
   "execution_count": null,
   "metadata": {},
   "outputs": [],
   "source": []
  },
  {
   "cell_type": "code",
   "execution_count": 9,
   "metadata": {},
   "outputs": [
    {
     "data": {
      "text/plain": [
       "speye (generic function with 1 method)"
      ]
     },
     "execution_count": 9,
     "metadata": {},
     "output_type": "execute_result"
    }
   ],
   "source": [
    "speye(N::Int64) = sparse(Matrix(1.0I, N, N))"
   ]
  },
  {
   "cell_type": "code",
   "execution_count": 10,
   "metadata": {},
   "outputs": [
    {
     "data": {
      "text/plain": [
       "3×3 SparseMatrixCSC{Float64,Int64} with 3 stored entries:\n",
       "  [1, 1]  =  1.0\n",
       "  [2, 2]  =  1.0\n",
       "  [3, 3]  =  1.0"
      ]
     },
     "execution_count": 10,
     "metadata": {},
     "output_type": "execute_result"
    }
   ],
   "source": [
    "speye(3)"
   ]
  },
  {
   "cell_type": "code",
   "execution_count": 9,
   "metadata": {},
   "outputs": [
    {
     "data": {
      "text/plain": [
       "([-5.0, -2.5, 0.0, 2.5, 5.0], [-5.0, -2.5, 0.0, 2.5, 5.0])"
      ]
     },
     "execution_count": 9,
     "metadata": {},
     "output_type": "execute_result"
    }
   ],
   "source": [
    "x, y"
   ]
  },
  {
   "cell_type": "markdown",
   "metadata": {},
   "source": [
    "Setup the grid:"
   ]
  },
  {
   "cell_type": "code",
   "execution_count": 19,
   "metadata": {},
   "outputs": [],
   "source": [
    "Npoints = Nx*Ny\n",
    "r = zeros(2,Npoints)\n",
    "ip = 0\n",
    "idx_ip2xy = zeros(Int64,2,Npoints)\n",
    "idx_xy2ip = zeros(Int64,Nx,Ny)\n",
    "for j in 1:Ny\n",
    "    for i in 1:Nx\n",
    "        ip = ip + 1\n",
    "        r[1,ip] = x[i]\n",
    "        r[2,ip] = y[j]\n",
    "        idx_ip2xy[1,ip] = i\n",
    "        idx_ip2xy[2,ip] = j\n",
    "        idx_xy2ip[i,j] = ip\n",
    "    end\n",
    "end"
   ]
  },
  {
   "cell_type": "code",
   "execution_count": null,
   "metadata": {},
   "outputs": [],
   "source": []
  },
  {
   "cell_type": "code",
   "execution_count": null,
   "metadata": {},
   "outputs": [],
   "source": []
  },
  {
   "cell_type": "markdown",
   "metadata": {},
   "source": [
    "This is bebebeb\n",
    "\n",
    "$$\n",
    "\\alpha + \\beta + \\Gamma\n",
    "$$"
   ]
  },
  {
   "cell_type": "code",
   "execution_count": null,
   "metadata": {},
   "outputs": [],
   "source": []
  },
  {
   "cell_type": "code",
   "execution_count": null,
   "metadata": {},
   "outputs": [],
   "source": [
    "struct FD2dGrid\n",
    "    Nx::Int64\n",
    "    Ny::Int64\n",
    "    hx::Float64\n",
    "    hy::Float64\n",
    "    r::Array{Float64,2}\n",
    "    idx_ip2xy::Array{Int64,2}\n",
    "    idx_xy2ip::Array{Int64,2}\n",
    "end"
   ]
  },
  {
   "cell_type": "code",
   "execution_count": null,
   "metadata": {},
   "outputs": [],
   "source": []
  },
  {
   "cell_type": "code",
   "execution_count": null,
   "metadata": {},
   "outputs": [],
   "source": []
  },
  {
   "cell_type": "code",
   "execution_count": null,
   "metadata": {},
   "outputs": [],
   "source": []
  },
  {
   "cell_type": "code",
   "execution_count": null,
   "metadata": {},
   "outputs": [],
   "source": []
  }
 ],
 "metadata": {
  "kernelspec": {
   "display_name": "Julia 1.1.1",
   "language": "julia",
   "name": "julia-1.1"
  },
  "language_info": {
   "file_extension": ".jl",
   "mimetype": "application/julia",
   "name": "julia",
   "version": "1.1.1"
  }
 },
 "nbformat": 4,
 "nbformat_minor": 2
}
